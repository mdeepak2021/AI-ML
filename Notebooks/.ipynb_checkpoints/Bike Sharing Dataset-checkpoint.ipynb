{
 "cells": [
  {
   "cell_type": "markdown",
   "id": "446af183",
   "metadata": {},
   "source": [
    "<font color='green'> <h1> <center> Data Exploration </center> </h1> </font>"
   ]
  },
  {
   "cell_type": "markdown",
   "id": "f0ff08c3",
   "metadata": {},
   "source": [
    "### Bike Sharing Dataset"
   ]
  },
  {
   "cell_type": "markdown",
   "id": "55ccb830",
   "metadata": {},
   "source": [
    "Dataset and more information can be found at following URL -\n",
    "https://archive.ics.uci.edu/ml/datasets/Bike+Sharing+Dataset \n",
    "\n",
    "Please take some moments to go through the description of the dataset and its features which will be helpful for doing further data analysis."
   ]
  },
  {
   "cell_type": "markdown",
   "id": "685ec561",
   "metadata": {},
   "source": [
    "The Basic Requirements are\n",
    "- Reading Data From CSV\n",
    "- Formatting, cleaning and filtering Data Frames\n",
    "- Group-by and Concat / Merge\n",
    "- Writing Data to CSV"
   ]
  },
  {
   "cell_type": "code",
   "execution_count": 3,
   "id": "55ce448f",
   "metadata": {},
   "outputs": [],
   "source": [
    "# Importing the Python libraries\n",
    "\n",
    "import pandas as pd\n",
    "import numpy as np"
   ]
  },
  {
   "cell_type": "markdown",
   "id": "ca639bd6",
   "metadata": {},
   "source": [
    "#### Step1 - Reading Data From CSV"
   ]
  },
  {
   "cell_type": "markdown",
   "id": "137e3b54",
   "metadata": {},
   "source": [
    "As the data is stored in csv format, use read_csv function of pandas to read the data in pandas structure named DataFrame."
   ]
  },
  {
   "cell_type": "code",
   "execution_count": 4,
   "id": "a5b64b66",
   "metadata": {},
   "outputs": [],
   "source": [
    "bikes = pd.read_csv(\"../Data/bike_shairing_hourly.csv\")"
   ]
  },
  {
   "cell_type": "code",
   "execution_count": null,
   "id": "3f24c7d5",
   "metadata": {},
   "outputs": [],
   "source": []
  }
 ],
 "metadata": {
  "kernelspec": {
   "display_name": "Python 3 (ipykernel)",
   "language": "python",
   "name": "python3"
  },
  "language_info": {
   "codemirror_mode": {
    "name": "ipython",
    "version": 3
   },
   "file_extension": ".py",
   "mimetype": "text/x-python",
   "name": "python",
   "nbconvert_exporter": "python",
   "pygments_lexer": "ipython3",
   "version": "3.11.3"
  }
 },
 "nbformat": 4,
 "nbformat_minor": 5
}
