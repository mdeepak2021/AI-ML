{
 "cells": [
  {
   "cell_type": "markdown",
   "id": "d332f9aa",
   "metadata": {},
   "source": [
    "<font color='black'> <h1> <center> Exploratory Data Analysis Using Seaborn  </center> </h1> </font>"
   ]
  },
  {
   "cell_type": "markdown",
   "id": "7d40d736",
   "metadata": {},
   "source": [
    "### Restaurant Tips Dataset"
   ]
  },
  {
   "cell_type": "markdown",
   "id": "47f52a72",
   "metadata": {},
   "source": [
    "This dataset is available by default within the Python Seaborn library and can also be downloaded from different datasources available over the internet"
   ]
  },
  {
   "cell_type": "markdown",
   "id": "d68dc0e3",
   "metadata": {},
   "source": [
    "The 'Tips' dataset, embedded within Seaborn, is a collection of records representing the tipping behavior of restaurant patrons. The dataset comprises:\n",
    "\n",
    "- `total_bill`: Total bill amount.\n",
    "- `tip`: Tip amount.\n",
    "- `sex`: Gender of the customer.\n",
    "- `smoker`: Whether the customer is a smoker.\n",
    "- `day`: Day of the week.\n",
    "- `time`: Whether it’s lunch or dinner.\n",
    "- `size`: Number of people in the party."
   ]
  },
  {
   "cell_type": "code",
   "execution_count": null,
   "id": "4a6c5b38",
   "metadata": {},
   "outputs": [],
   "source": []
  }
 ],
 "metadata": {
  "kernelspec": {
   "display_name": "Python 3 (ipykernel)",
   "language": "python",
   "name": "python3"
  },
  "language_info": {
   "codemirror_mode": {
    "name": "ipython",
    "version": 3
   },
   "file_extension": ".py",
   "mimetype": "text/x-python",
   "name": "python",
   "nbconvert_exporter": "python",
   "pygments_lexer": "ipython3",
   "version": "3.11.3"
  }
 },
 "nbformat": 4,
 "nbformat_minor": 5
}
