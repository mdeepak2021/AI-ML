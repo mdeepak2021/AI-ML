{
 "cells": [
  {
   "cell_type": "markdown",
   "id": "446af183",
   "metadata": {},
   "source": [
    "<font color='black'> <h1> <center> Exploratory Data Analysis </center> </h1> </font>"
   ]
  },
  {
   "cell_type": "markdown",
   "id": "f0ff08c3",
   "metadata": {},
   "source": [
    "### Bike Sharing Dataset"
   ]
  },
  {
   "cell_type": "markdown",
   "id": "55ccb830",
   "metadata": {},
   "source": [
    "Dataset and more information can be found at following URL -\n",
    "https://archive.ics.uci.edu/ml/datasets/Bike+Sharing+Dataset \n",
    "\n",
    "Please take some moments to go through the description of the dataset and its features which will be helpful for doing further data analysis."
   ]
  },
  {
   "cell_type": "markdown",
   "id": "685ec561",
   "metadata": {},
   "source": [
    "The dataset has the following fields:\n",
    "\t\n",
    "\t- instant: record index\n",
    "\t- dteday : date\n",
    "\t- season : season (1:winter, 2:spring, 3:summer, 4:fall)\n",
    "\t- yr : year (0: 2011, 1:2012)\n",
    "\t- mnth : month ( 1 to 12)\n",
    "\t- hr : hour (0 to 23)\n",
    "\t- holiday : weather day is holiday or not (extracted from http://dchr.dc.gov/page/holiday-schedule)\n",
    "\t- weekday : day of the week\n",
    "\t- workingday : if day is neither weekend nor holiday is 1, otherwise is 0.\n",
    "\t+ weathersit : \n",
    "\t\t- 1: Clear, Few clouds, Partly cloudy, Partly cloudy\n",
    "\t\t- 2: Mist + Cloudy, Mist + Broken clouds, Mist + Few clouds, Mist\n",
    "\t\t- 3: Light Snow, Light Rain + Thunderstorm + Scattered clouds, Light Rain + Scattered clouds\n",
    "\t\t- 4: Heavy Rain + Ice Pallets + Thunderstorm + Mist, Snow + Fog\n",
    "\t- temp : Normalized temperature in Celsius. The values are derived via (t-t_min)/(t_max-t_min), t_min=-8, t_max=+39 (only in hourly scale)\n",
    "\t- atemp: Normalized feeling temperature in Celsius. The values are derived via (t-t_min)/(t_max-t_min), t_min=-16, t_max=+50 (only in hourly scale)\n",
    "\t- hum: Normalized humidity. The values are divided to 100 (max)\n",
    "\t- windspeed: Normalized wind speed. The values are divided to 67 (max)\n",
    "\t- casual: count of casual users\n",
    "\t- registered: count of registered users\n",
    "\t- cnt: count of total rental bikes including both casual and registered"
   ]
  },
  {
   "cell_type": "code",
   "execution_count": 1,
   "id": "55ce448f",
   "metadata": {},
   "outputs": [],
   "source": [
    "# Importing the Python libraries\n",
    "\n",
    "import pandas as pd\n",
    "import numpy as np"
   ]
  },
  {
   "cell_type": "markdown",
   "id": "ca639bd6",
   "metadata": {},
   "source": [
    "#### Step1 - Reading Data From CSV"
   ]
  },
  {
   "cell_type": "markdown",
   "id": "137e3b54",
   "metadata": {},
   "source": [
    "As the data is stored in csv format, use read_csv function of pandas to read the data in pandas structure named DataFrame."
   ]
  },
  {
   "cell_type": "code",
   "execution_count": 2,
   "id": "a5b64b66",
   "metadata": {},
   "outputs": [],
   "source": [
    "bikes = pd.read_csv(\"../Data/bike_shairing_hourly.csv\")"
   ]
  },
  {
   "cell_type": "markdown",
   "id": "451f0596",
   "metadata": {},
   "source": [
    "<b> Data Viewing<b>"
   ]
  },
  {
   "cell_type": "markdown",
   "id": "dece7015",
   "metadata": {},
   "source": [
    "Lets explore the first and last few rows of dataframe."
   ]
  },
  {
   "cell_type": "code",
   "execution_count": 3,
   "id": "b9459b44",
   "metadata": {},
   "outputs": [
    {
     "data": {
      "text/html": [
       "<div>\n",
       "<style scoped>\n",
       "    .dataframe tbody tr th:only-of-type {\n",
       "        vertical-align: middle;\n",
       "    }\n",
       "\n",
       "    .dataframe tbody tr th {\n",
       "        vertical-align: top;\n",
       "    }\n",
       "\n",
       "    .dataframe thead th {\n",
       "        text-align: right;\n",
       "    }\n",
       "</style>\n",
       "<table border=\"1\" class=\"dataframe\">\n",
       "  <thead>\n",
       "    <tr style=\"text-align: right;\">\n",
       "      <th></th>\n",
       "      <th>instant</th>\n",
       "      <th>dteday</th>\n",
       "      <th>season</th>\n",
       "      <th>yr</th>\n",
       "      <th>mnth</th>\n",
       "      <th>hr</th>\n",
       "      <th>holiday</th>\n",
       "      <th>weekday</th>\n",
       "      <th>workingday</th>\n",
       "      <th>weathersit</th>\n",
       "      <th>temp</th>\n",
       "      <th>atemp</th>\n",
       "      <th>hum</th>\n",
       "      <th>windspeed</th>\n",
       "      <th>casual</th>\n",
       "      <th>registered</th>\n",
       "      <th>cnt</th>\n",
       "    </tr>\n",
       "  </thead>\n",
       "  <tbody>\n",
       "    <tr>\n",
       "      <th>0</th>\n",
       "      <td>1</td>\n",
       "      <td>2011-01-01</td>\n",
       "      <td>1</td>\n",
       "      <td>0</td>\n",
       "      <td>1</td>\n",
       "      <td>0</td>\n",
       "      <td>0</td>\n",
       "      <td>6</td>\n",
       "      <td>0</td>\n",
       "      <td>1</td>\n",
       "      <td>0.24</td>\n",
       "      <td>0.2879</td>\n",
       "      <td>0.81</td>\n",
       "      <td>0.0</td>\n",
       "      <td>3</td>\n",
       "      <td>13</td>\n",
       "      <td>16</td>\n",
       "    </tr>\n",
       "    <tr>\n",
       "      <th>1</th>\n",
       "      <td>2</td>\n",
       "      <td>2011-01-01</td>\n",
       "      <td>1</td>\n",
       "      <td>0</td>\n",
       "      <td>1</td>\n",
       "      <td>1</td>\n",
       "      <td>0</td>\n",
       "      <td>6</td>\n",
       "      <td>0</td>\n",
       "      <td>1</td>\n",
       "      <td>0.22</td>\n",
       "      <td>0.2727</td>\n",
       "      <td>0.80</td>\n",
       "      <td>0.0</td>\n",
       "      <td>8</td>\n",
       "      <td>32</td>\n",
       "      <td>40</td>\n",
       "    </tr>\n",
       "    <tr>\n",
       "      <th>2</th>\n",
       "      <td>3</td>\n",
       "      <td>2011-01-01</td>\n",
       "      <td>1</td>\n",
       "      <td>0</td>\n",
       "      <td>1</td>\n",
       "      <td>2</td>\n",
       "      <td>0</td>\n",
       "      <td>6</td>\n",
       "      <td>0</td>\n",
       "      <td>1</td>\n",
       "      <td>0.22</td>\n",
       "      <td>0.2727</td>\n",
       "      <td>0.80</td>\n",
       "      <td>0.0</td>\n",
       "      <td>5</td>\n",
       "      <td>27</td>\n",
       "      <td>32</td>\n",
       "    </tr>\n",
       "    <tr>\n",
       "      <th>3</th>\n",
       "      <td>4</td>\n",
       "      <td>2011-01-01</td>\n",
       "      <td>1</td>\n",
       "      <td>0</td>\n",
       "      <td>1</td>\n",
       "      <td>3</td>\n",
       "      <td>0</td>\n",
       "      <td>6</td>\n",
       "      <td>0</td>\n",
       "      <td>1</td>\n",
       "      <td>0.24</td>\n",
       "      <td>0.2879</td>\n",
       "      <td>0.75</td>\n",
       "      <td>0.0</td>\n",
       "      <td>3</td>\n",
       "      <td>10</td>\n",
       "      <td>13</td>\n",
       "    </tr>\n",
       "    <tr>\n",
       "      <th>4</th>\n",
       "      <td>5</td>\n",
       "      <td>2011-01-01</td>\n",
       "      <td>1</td>\n",
       "      <td>0</td>\n",
       "      <td>1</td>\n",
       "      <td>4</td>\n",
       "      <td>0</td>\n",
       "      <td>6</td>\n",
       "      <td>0</td>\n",
       "      <td>1</td>\n",
       "      <td>0.24</td>\n",
       "      <td>0.2879</td>\n",
       "      <td>0.75</td>\n",
       "      <td>0.0</td>\n",
       "      <td>0</td>\n",
       "      <td>1</td>\n",
       "      <td>1</td>\n",
       "    </tr>\n",
       "  </tbody>\n",
       "</table>\n",
       "</div>"
      ],
      "text/plain": [
       "   instant      dteday  season  yr  mnth  hr  holiday  weekday  workingday  \\\n",
       "0        1  2011-01-01       1   0     1   0        0        6           0   \n",
       "1        2  2011-01-01       1   0     1   1        0        6           0   \n",
       "2        3  2011-01-01       1   0     1   2        0        6           0   \n",
       "3        4  2011-01-01       1   0     1   3        0        6           0   \n",
       "4        5  2011-01-01       1   0     1   4        0        6           0   \n",
       "\n",
       "   weathersit  temp   atemp   hum  windspeed  casual  registered  cnt  \n",
       "0           1  0.24  0.2879  0.81        0.0       3          13   16  \n",
       "1           1  0.22  0.2727  0.80        0.0       8          32   40  \n",
       "2           1  0.22  0.2727  0.80        0.0       5          27   32  \n",
       "3           1  0.24  0.2879  0.75        0.0       3          10   13  \n",
       "4           1  0.24  0.2879  0.75        0.0       0           1    1  "
      ]
     },
     "execution_count": 3,
     "metadata": {},
     "output_type": "execute_result"
    }
   ],
   "source": [
    "bikes.head()"
   ]
  },
  {
   "cell_type": "code",
   "execution_count": 4,
   "id": "2cdc0a9f",
   "metadata": {},
   "outputs": [
    {
     "data": {
      "text/html": [
       "<div>\n",
       "<style scoped>\n",
       "    .dataframe tbody tr th:only-of-type {\n",
       "        vertical-align: middle;\n",
       "    }\n",
       "\n",
       "    .dataframe tbody tr th {\n",
       "        vertical-align: top;\n",
       "    }\n",
       "\n",
       "    .dataframe thead th {\n",
       "        text-align: right;\n",
       "    }\n",
       "</style>\n",
       "<table border=\"1\" class=\"dataframe\">\n",
       "  <thead>\n",
       "    <tr style=\"text-align: right;\">\n",
       "      <th></th>\n",
       "      <th>instant</th>\n",
       "      <th>dteday</th>\n",
       "      <th>season</th>\n",
       "      <th>yr</th>\n",
       "      <th>mnth</th>\n",
       "      <th>hr</th>\n",
       "      <th>holiday</th>\n",
       "      <th>weekday</th>\n",
       "      <th>workingday</th>\n",
       "      <th>weathersit</th>\n",
       "      <th>temp</th>\n",
       "      <th>atemp</th>\n",
       "      <th>hum</th>\n",
       "      <th>windspeed</th>\n",
       "      <th>casual</th>\n",
       "      <th>registered</th>\n",
       "      <th>cnt</th>\n",
       "    </tr>\n",
       "  </thead>\n",
       "  <tbody>\n",
       "    <tr>\n",
       "      <th>17374</th>\n",
       "      <td>17375</td>\n",
       "      <td>2012-12-31</td>\n",
       "      <td>1</td>\n",
       "      <td>1</td>\n",
       "      <td>12</td>\n",
       "      <td>19</td>\n",
       "      <td>0</td>\n",
       "      <td>1</td>\n",
       "      <td>1</td>\n",
       "      <td>2</td>\n",
       "      <td>0.26</td>\n",
       "      <td>0.2576</td>\n",
       "      <td>0.60</td>\n",
       "      <td>0.1642</td>\n",
       "      <td>11</td>\n",
       "      <td>108</td>\n",
       "      <td>119</td>\n",
       "    </tr>\n",
       "    <tr>\n",
       "      <th>17375</th>\n",
       "      <td>17376</td>\n",
       "      <td>2012-12-31</td>\n",
       "      <td>1</td>\n",
       "      <td>1</td>\n",
       "      <td>12</td>\n",
       "      <td>20</td>\n",
       "      <td>0</td>\n",
       "      <td>1</td>\n",
       "      <td>1</td>\n",
       "      <td>2</td>\n",
       "      <td>0.26</td>\n",
       "      <td>0.2576</td>\n",
       "      <td>0.60</td>\n",
       "      <td>0.1642</td>\n",
       "      <td>8</td>\n",
       "      <td>81</td>\n",
       "      <td>89</td>\n",
       "    </tr>\n",
       "    <tr>\n",
       "      <th>17376</th>\n",
       "      <td>17377</td>\n",
       "      <td>2012-12-31</td>\n",
       "      <td>1</td>\n",
       "      <td>1</td>\n",
       "      <td>12</td>\n",
       "      <td>21</td>\n",
       "      <td>0</td>\n",
       "      <td>1</td>\n",
       "      <td>1</td>\n",
       "      <td>1</td>\n",
       "      <td>0.26</td>\n",
       "      <td>0.2576</td>\n",
       "      <td>0.60</td>\n",
       "      <td>0.1642</td>\n",
       "      <td>7</td>\n",
       "      <td>83</td>\n",
       "      <td>90</td>\n",
       "    </tr>\n",
       "    <tr>\n",
       "      <th>17377</th>\n",
       "      <td>17378</td>\n",
       "      <td>2012-12-31</td>\n",
       "      <td>1</td>\n",
       "      <td>1</td>\n",
       "      <td>12</td>\n",
       "      <td>22</td>\n",
       "      <td>0</td>\n",
       "      <td>1</td>\n",
       "      <td>1</td>\n",
       "      <td>1</td>\n",
       "      <td>0.26</td>\n",
       "      <td>0.2727</td>\n",
       "      <td>0.56</td>\n",
       "      <td>0.1343</td>\n",
       "      <td>13</td>\n",
       "      <td>48</td>\n",
       "      <td>61</td>\n",
       "    </tr>\n",
       "    <tr>\n",
       "      <th>17378</th>\n",
       "      <td>17379</td>\n",
       "      <td>2012-12-31</td>\n",
       "      <td>1</td>\n",
       "      <td>1</td>\n",
       "      <td>12</td>\n",
       "      <td>23</td>\n",
       "      <td>0</td>\n",
       "      <td>1</td>\n",
       "      <td>1</td>\n",
       "      <td>1</td>\n",
       "      <td>0.26</td>\n",
       "      <td>0.2727</td>\n",
       "      <td>0.65</td>\n",
       "      <td>0.1343</td>\n",
       "      <td>12</td>\n",
       "      <td>37</td>\n",
       "      <td>49</td>\n",
       "    </tr>\n",
       "  </tbody>\n",
       "</table>\n",
       "</div>"
      ],
      "text/plain": [
       "       instant      dteday  season  yr  mnth  hr  holiday  weekday  \\\n",
       "17374    17375  2012-12-31       1   1    12  19        0        1   \n",
       "17375    17376  2012-12-31       1   1    12  20        0        1   \n",
       "17376    17377  2012-12-31       1   1    12  21        0        1   \n",
       "17377    17378  2012-12-31       1   1    12  22        0        1   \n",
       "17378    17379  2012-12-31       1   1    12  23        0        1   \n",
       "\n",
       "       workingday  weathersit  temp   atemp   hum  windspeed  casual  \\\n",
       "17374           1           2  0.26  0.2576  0.60     0.1642      11   \n",
       "17375           1           2  0.26  0.2576  0.60     0.1642       8   \n",
       "17376           1           1  0.26  0.2576  0.60     0.1642       7   \n",
       "17377           1           1  0.26  0.2727  0.56     0.1343      13   \n",
       "17378           1           1  0.26  0.2727  0.65     0.1343      12   \n",
       "\n",
       "       registered  cnt  \n",
       "17374         108  119  \n",
       "17375          81   89  \n",
       "17376          83   90  \n",
       "17377          48   61  \n",
       "17378          37   49  "
      ]
     },
     "execution_count": 4,
     "metadata": {},
     "output_type": "execute_result"
    }
   ],
   "source": [
    "bikes.tail()"
   ]
  },
  {
   "cell_type": "markdown",
   "id": "e98a3b0f",
   "metadata": {},
   "source": [
    "Lets find out number of rows and columns of data set."
   ]
  },
  {
   "cell_type": "code",
   "execution_count": 5,
   "id": "492bf9fd",
   "metadata": {},
   "outputs": [
    {
     "data": {
      "text/plain": [
       "(17379, 17)"
      ]
     },
     "execution_count": 5,
     "metadata": {},
     "output_type": "execute_result"
    }
   ],
   "source": [
    "bikes.shape"
   ]
  },
  {
   "cell_type": "markdown",
   "id": "b257e019",
   "metadata": {},
   "source": [
    "#### Step 2 - Formatting, cleaning and filtering Data Frames"
   ]
  },
  {
   "cell_type": "markdown",
   "id": "d6f30689",
   "metadata": {},
   "source": [
    "Lets check how many data values are present in each column."
   ]
  },
  {
   "cell_type": "code",
   "execution_count": 6,
   "id": "014d7ff4",
   "metadata": {},
   "outputs": [
    {
     "name": "stdout",
     "output_type": "stream",
     "text": [
      "<class 'pandas.core.frame.DataFrame'>\n",
      "RangeIndex: 17379 entries, 0 to 17378\n",
      "Data columns (total 17 columns):\n",
      " #   Column      Non-Null Count  Dtype  \n",
      "---  ------      --------------  -----  \n",
      " 0   instant     17379 non-null  int64  \n",
      " 1   dteday      17379 non-null  object \n",
      " 2   season      17379 non-null  int64  \n",
      " 3   yr          17379 non-null  int64  \n",
      " 4   mnth        17379 non-null  int64  \n",
      " 5   hr          17379 non-null  int64  \n",
      " 6   holiday     17379 non-null  int64  \n",
      " 7   weekday     17379 non-null  int64  \n",
      " 8   workingday  17379 non-null  int64  \n",
      " 9   weathersit  17379 non-null  int64  \n",
      " 10  temp        17379 non-null  float64\n",
      " 11  atemp       17379 non-null  float64\n",
      " 12  hum         17379 non-null  float64\n",
      " 13  windspeed   17379 non-null  float64\n",
      " 14  casual      17379 non-null  int64  \n",
      " 15  registered  17379 non-null  int64  \n",
      " 16  cnt         17379 non-null  int64  \n",
      "dtypes: float64(4), int64(12), object(1)\n",
      "memory usage: 2.3+ MB\n"
     ]
    }
   ],
   "source": [
    "bikes.info()"
   ]
  },
  {
   "cell_type": "markdown",
   "id": "5f865a71",
   "metadata": {},
   "source": [
    "As all the features contains same number of data values, there are no missing values in dataset."
   ]
  },
  {
   "cell_type": "markdown",
   "id": "3aec0df4",
   "metadata": {},
   "source": [
    "<b> Properties of data <b>"
   ]
  },
  {
   "cell_type": "markdown",
   "id": "3ea41eac",
   "metadata": {},
   "source": [
    "Lets check some properties of dataset :"
   ]
  },
  {
   "cell_type": "code",
   "execution_count": 7,
   "id": "241373ed",
   "metadata": {},
   "outputs": [
    {
     "data": {
      "text/plain": [
       "Index(['instant', 'dteday', 'season', 'yr', 'mnth', 'hr', 'holiday', 'weekday',\n",
       "       'workingday', 'weathersit', 'temp', 'atemp', 'hum', 'windspeed',\n",
       "       'casual', 'registered', 'cnt'],\n",
       "      dtype='object')"
      ]
     },
     "execution_count": 7,
     "metadata": {},
     "output_type": "execute_result"
    }
   ],
   "source": [
    "bikes.columns"
   ]
  },
  {
   "cell_type": "markdown",
   "id": "3cb2a0bd",
   "metadata": {},
   "source": [
    "17 features are present in dataset, most of which looks integers & float in nature."
   ]
  },
  {
   "cell_type": "code",
   "execution_count": 8,
   "id": "605229ad",
   "metadata": {},
   "outputs": [
    {
     "data": {
      "text/plain": [
       "instant         int64\n",
       "dteday         object\n",
       "season          int64\n",
       "yr              int64\n",
       "mnth            int64\n",
       "hr              int64\n",
       "holiday         int64\n",
       "weekday         int64\n",
       "workingday      int64\n",
       "weathersit      int64\n",
       "temp          float64\n",
       "atemp         float64\n",
       "hum           float64\n",
       "windspeed     float64\n",
       "casual          int64\n",
       "registered      int64\n",
       "cnt             int64\n",
       "dtype: object"
      ]
     },
     "execution_count": 8,
     "metadata": {},
     "output_type": "execute_result"
    }
   ],
   "source": [
    "bikes.dtypes  "
   ]
  },
  {
   "cell_type": "markdown",
   "id": "57c4f2f6",
   "metadata": {},
   "source": [
    "<b> Unique feature values <b>"
   ]
  },
  {
   "cell_type": "markdown",
   "id": "fcf7078b",
   "metadata": {},
   "source": [
    "Lets explore the unique values present in each feature. These unique values can give us some hints while doing grouping of the data."
   ]
  },
  {
   "cell_type": "code",
   "execution_count": 9,
   "id": "8ff93c8e",
   "metadata": {},
   "outputs": [
    {
     "data": {
      "text/plain": [
       "array(['2011-01-01', '2011-01-02', '2011-01-03', '2011-01-04',\n",
       "       '2011-01-05', '2011-01-06', '2011-01-07', '2011-01-08',\n",
       "       '2011-01-09', '2011-01-10', '2011-01-11', '2011-01-12',\n",
       "       '2011-01-13', '2011-01-14', '2011-01-15', '2011-01-16',\n",
       "       '2011-01-17', '2011-01-18', '2011-01-19', '2011-01-20',\n",
       "       '2011-01-21', '2011-01-22', '2011-01-23', '2011-01-24',\n",
       "       '2011-01-25', '2011-01-26', '2011-01-27', '2011-01-28',\n",
       "       '2011-01-29', '2011-01-30', '2011-01-31', '2011-02-01',\n",
       "       '2011-02-02', '2011-02-03', '2011-02-04', '2011-02-05',\n",
       "       '2011-02-06', '2011-02-07', '2011-02-08', '2011-02-09',\n",
       "       '2011-02-10', '2011-02-11', '2011-02-12', '2011-02-13',\n",
       "       '2011-02-14', '2011-02-15', '2011-02-16', '2011-02-17',\n",
       "       '2011-02-18', '2011-02-19', '2011-02-20', '2011-02-21',\n",
       "       '2011-02-22', '2011-02-23', '2011-02-24', '2011-02-25',\n",
       "       '2011-02-26', '2011-02-27', '2011-02-28', '2011-03-01',\n",
       "       '2011-03-02', '2011-03-03', '2011-03-04', '2011-03-05',\n",
       "       '2011-03-06', '2011-03-07', '2011-03-08', '2011-03-09',\n",
       "       '2011-03-10', '2011-03-11', '2011-03-12', '2011-03-13',\n",
       "       '2011-03-14', '2011-03-15', '2011-03-16', '2011-03-17',\n",
       "       '2011-03-18', '2011-03-19', '2011-03-20', '2011-03-21',\n",
       "       '2011-03-22', '2011-03-23', '2011-03-24', '2011-03-25',\n",
       "       '2011-03-26', '2011-03-27', '2011-03-28', '2011-03-29',\n",
       "       '2011-03-30', '2011-03-31', '2011-04-01', '2011-04-02',\n",
       "       '2011-04-03', '2011-04-04', '2011-04-05', '2011-04-06',\n",
       "       '2011-04-07', '2011-04-08', '2011-04-09', '2011-04-10',\n",
       "       '2011-04-11', '2011-04-12', '2011-04-13', '2011-04-14',\n",
       "       '2011-04-15', '2011-04-16', '2011-04-17', '2011-04-18',\n",
       "       '2011-04-19', '2011-04-20', '2011-04-21', '2011-04-22',\n",
       "       '2011-04-23', '2011-04-24', '2011-04-25', '2011-04-26',\n",
       "       '2011-04-27', '2011-04-28', '2011-04-29', '2011-04-30',\n",
       "       '2011-05-01', '2011-05-02', '2011-05-03', '2011-05-04',\n",
       "       '2011-05-05', '2011-05-06', '2011-05-07', '2011-05-08',\n",
       "       '2011-05-09', '2011-05-10', '2011-05-11', '2011-05-12',\n",
       "       '2011-05-13', '2011-05-14', '2011-05-15', '2011-05-16',\n",
       "       '2011-05-17', '2011-05-18', '2011-05-19', '2011-05-20',\n",
       "       '2011-05-21', '2011-05-22', '2011-05-23', '2011-05-24',\n",
       "       '2011-05-25', '2011-05-26', '2011-05-27', '2011-05-28',\n",
       "       '2011-05-29', '2011-05-30', '2011-05-31', '2011-06-01',\n",
       "       '2011-06-02', '2011-06-03', '2011-06-04', '2011-06-05',\n",
       "       '2011-06-06', '2011-06-07', '2011-06-08', '2011-06-09',\n",
       "       '2011-06-10', '2011-06-11', '2011-06-12', '2011-06-13',\n",
       "       '2011-06-14', '2011-06-15', '2011-06-16', '2011-06-17',\n",
       "       '2011-06-18', '2011-06-19', '2011-06-20', '2011-06-21',\n",
       "       '2011-06-22', '2011-06-23', '2011-06-24', '2011-06-25',\n",
       "       '2011-06-26', '2011-06-27', '2011-06-28', '2011-06-29',\n",
       "       '2011-06-30', '2011-07-01', '2011-07-02', '2011-07-03',\n",
       "       '2011-07-04', '2011-07-05', '2011-07-06', '2011-07-07',\n",
       "       '2011-07-08', '2011-07-09', '2011-07-10', '2011-07-11',\n",
       "       '2011-07-12', '2011-07-13', '2011-07-14', '2011-07-15',\n",
       "       '2011-07-16', '2011-07-17', '2011-07-18', '2011-07-19',\n",
       "       '2011-07-20', '2011-07-21', '2011-07-22', '2011-07-23',\n",
       "       '2011-07-24', '2011-07-25', '2011-07-26', '2011-07-27',\n",
       "       '2011-07-28', '2011-07-29', '2011-07-30', '2011-07-31',\n",
       "       '2011-08-01', '2011-08-02', '2011-08-03', '2011-08-04',\n",
       "       '2011-08-05', '2011-08-06', '2011-08-07', '2011-08-08',\n",
       "       '2011-08-09', '2011-08-10', '2011-08-11', '2011-08-12',\n",
       "       '2011-08-13', '2011-08-14', '2011-08-15', '2011-08-16',\n",
       "       '2011-08-17', '2011-08-18', '2011-08-19', '2011-08-20',\n",
       "       '2011-08-21', '2011-08-22', '2011-08-23', '2011-08-24',\n",
       "       '2011-08-25', '2011-08-26', '2011-08-27', '2011-08-28',\n",
       "       '2011-08-29', '2011-08-30', '2011-08-31', '2011-09-01',\n",
       "       '2011-09-02', '2011-09-03', '2011-09-04', '2011-09-05',\n",
       "       '2011-09-06', '2011-09-07', '2011-09-08', '2011-09-09',\n",
       "       '2011-09-10', '2011-09-11', '2011-09-12', '2011-09-13',\n",
       "       '2011-09-14', '2011-09-15', '2011-09-16', '2011-09-17',\n",
       "       '2011-09-18', '2011-09-19', '2011-09-20', '2011-09-21',\n",
       "       '2011-09-22', '2011-09-23', '2011-09-24', '2011-09-25',\n",
       "       '2011-09-26', '2011-09-27', '2011-09-28', '2011-09-29',\n",
       "       '2011-09-30', '2011-10-01', '2011-10-02', '2011-10-03',\n",
       "       '2011-10-04', '2011-10-05', '2011-10-06', '2011-10-07',\n",
       "       '2011-10-08', '2011-10-09', '2011-10-10', '2011-10-11',\n",
       "       '2011-10-12', '2011-10-13', '2011-10-14', '2011-10-15',\n",
       "       '2011-10-16', '2011-10-17', '2011-10-18', '2011-10-19',\n",
       "       '2011-10-20', '2011-10-21', '2011-10-22', '2011-10-23',\n",
       "       '2011-10-24', '2011-10-25', '2011-10-26', '2011-10-27',\n",
       "       '2011-10-28', '2011-10-29', '2011-10-30', '2011-10-31',\n",
       "       '2011-11-01', '2011-11-02', '2011-11-03', '2011-11-04',\n",
       "       '2011-11-05', '2011-11-06', '2011-11-07', '2011-11-08',\n",
       "       '2011-11-09', '2011-11-10', '2011-11-11', '2011-11-12',\n",
       "       '2011-11-13', '2011-11-14', '2011-11-15', '2011-11-16',\n",
       "       '2011-11-17', '2011-11-18', '2011-11-19', '2011-11-20',\n",
       "       '2011-11-21', '2011-11-22', '2011-11-23', '2011-11-24',\n",
       "       '2011-11-25', '2011-11-26', '2011-11-27', '2011-11-28',\n",
       "       '2011-11-29', '2011-11-30', '2011-12-01', '2011-12-02',\n",
       "       '2011-12-03', '2011-12-04', '2011-12-05', '2011-12-06',\n",
       "       '2011-12-07', '2011-12-08', '2011-12-09', '2011-12-10',\n",
       "       '2011-12-11', '2011-12-12', '2011-12-13', '2011-12-14',\n",
       "       '2011-12-15', '2011-12-16', '2011-12-17', '2011-12-18',\n",
       "       '2011-12-19', '2011-12-20', '2011-12-21', '2011-12-22',\n",
       "       '2011-12-23', '2011-12-24', '2011-12-25', '2011-12-26',\n",
       "       '2011-12-27', '2011-12-28', '2011-12-29', '2011-12-30',\n",
       "       '2011-12-31', '2012-01-01', '2012-01-02', '2012-01-03',\n",
       "       '2012-01-04', '2012-01-05', '2012-01-06', '2012-01-07',\n",
       "       '2012-01-08', '2012-01-09', '2012-01-10', '2012-01-11',\n",
       "       '2012-01-12', '2012-01-13', '2012-01-14', '2012-01-15',\n",
       "       '2012-01-16', '2012-01-17', '2012-01-18', '2012-01-19',\n",
       "       '2012-01-20', '2012-01-21', '2012-01-22', '2012-01-23',\n",
       "       '2012-01-24', '2012-01-25', '2012-01-26', '2012-01-27',\n",
       "       '2012-01-28', '2012-01-29', '2012-01-30', '2012-01-31',\n",
       "       '2012-02-01', '2012-02-02', '2012-02-03', '2012-02-04',\n",
       "       '2012-02-05', '2012-02-06', '2012-02-07', '2012-02-08',\n",
       "       '2012-02-09', '2012-02-10', '2012-02-11', '2012-02-12',\n",
       "       '2012-02-13', '2012-02-14', '2012-02-15', '2012-02-16',\n",
       "       '2012-02-17', '2012-02-18', '2012-02-19', '2012-02-20',\n",
       "       '2012-02-21', '2012-02-22', '2012-02-23', '2012-02-24',\n",
       "       '2012-02-25', '2012-02-26', '2012-02-27', '2012-02-28',\n",
       "       '2012-02-29', '2012-03-01', '2012-03-02', '2012-03-03',\n",
       "       '2012-03-04', '2012-03-05', '2012-03-06', '2012-03-07',\n",
       "       '2012-03-08', '2012-03-09', '2012-03-10', '2012-03-11',\n",
       "       '2012-03-12', '2012-03-13', '2012-03-14', '2012-03-15',\n",
       "       '2012-03-16', '2012-03-17', '2012-03-18', '2012-03-19',\n",
       "       '2012-03-20', '2012-03-21', '2012-03-22', '2012-03-23',\n",
       "       '2012-03-24', '2012-03-25', '2012-03-26', '2012-03-27',\n",
       "       '2012-03-28', '2012-03-29', '2012-03-30', '2012-03-31',\n",
       "       '2012-04-01', '2012-04-02', '2012-04-03', '2012-04-04',\n",
       "       '2012-04-05', '2012-04-06', '2012-04-07', '2012-04-08',\n",
       "       '2012-04-09', '2012-04-10', '2012-04-11', '2012-04-12',\n",
       "       '2012-04-13', '2012-04-14', '2012-04-15', '2012-04-16',\n",
       "       '2012-04-17', '2012-04-18', '2012-04-19', '2012-04-20',\n",
       "       '2012-04-21', '2012-04-22', '2012-04-23', '2012-04-24',\n",
       "       '2012-04-25', '2012-04-26', '2012-04-27', '2012-04-28',\n",
       "       '2012-04-29', '2012-04-30', '2012-05-01', '2012-05-02',\n",
       "       '2012-05-03', '2012-05-04', '2012-05-05', '2012-05-06',\n",
       "       '2012-05-07', '2012-05-08', '2012-05-09', '2012-05-10',\n",
       "       '2012-05-11', '2012-05-12', '2012-05-13', '2012-05-14',\n",
       "       '2012-05-15', '2012-05-16', '2012-05-17', '2012-05-18',\n",
       "       '2012-05-19', '2012-05-20', '2012-05-21', '2012-05-22',\n",
       "       '2012-05-23', '2012-05-24', '2012-05-25', '2012-05-26',\n",
       "       '2012-05-27', '2012-05-28', '2012-05-29', '2012-05-30',\n",
       "       '2012-05-31', '2012-06-01', '2012-06-02', '2012-06-03',\n",
       "       '2012-06-04', '2012-06-05', '2012-06-06', '2012-06-07',\n",
       "       '2012-06-08', '2012-06-09', '2012-06-10', '2012-06-11',\n",
       "       '2012-06-12', '2012-06-13', '2012-06-14', '2012-06-15',\n",
       "       '2012-06-16', '2012-06-17', '2012-06-18', '2012-06-19',\n",
       "       '2012-06-20', '2012-06-21', '2012-06-22', '2012-06-23',\n",
       "       '2012-06-24', '2012-06-25', '2012-06-26', '2012-06-27',\n",
       "       '2012-06-28', '2012-06-29', '2012-06-30', '2012-07-01',\n",
       "       '2012-07-02', '2012-07-03', '2012-07-04', '2012-07-05',\n",
       "       '2012-07-06', '2012-07-07', '2012-07-08', '2012-07-09',\n",
       "       '2012-07-10', '2012-07-11', '2012-07-12', '2012-07-13',\n",
       "       '2012-07-14', '2012-07-15', '2012-07-16', '2012-07-17',\n",
       "       '2012-07-18', '2012-07-19', '2012-07-20', '2012-07-21',\n",
       "       '2012-07-22', '2012-07-23', '2012-07-24', '2012-07-25',\n",
       "       '2012-07-26', '2012-07-27', '2012-07-28', '2012-07-29',\n",
       "       '2012-07-30', '2012-07-31', '2012-08-01', '2012-08-02',\n",
       "       '2012-08-03', '2012-08-04', '2012-08-05', '2012-08-06',\n",
       "       '2012-08-07', '2012-08-08', '2012-08-09', '2012-08-10',\n",
       "       '2012-08-11', '2012-08-12', '2012-08-13', '2012-08-14',\n",
       "       '2012-08-15', '2012-08-16', '2012-08-17', '2012-08-18',\n",
       "       '2012-08-19', '2012-08-20', '2012-08-21', '2012-08-22',\n",
       "       '2012-08-23', '2012-08-24', '2012-08-25', '2012-08-26',\n",
       "       '2012-08-27', '2012-08-28', '2012-08-29', '2012-08-30',\n",
       "       '2012-08-31', '2012-09-01', '2012-09-02', '2012-09-03',\n",
       "       '2012-09-04', '2012-09-05', '2012-09-06', '2012-09-07',\n",
       "       '2012-09-08', '2012-09-09', '2012-09-10', '2012-09-11',\n",
       "       '2012-09-12', '2012-09-13', '2012-09-14', '2012-09-15',\n",
       "       '2012-09-16', '2012-09-17', '2012-09-18', '2012-09-19',\n",
       "       '2012-09-20', '2012-09-21', '2012-09-22', '2012-09-23',\n",
       "       '2012-09-24', '2012-09-25', '2012-09-26', '2012-09-27',\n",
       "       '2012-09-28', '2012-09-29', '2012-09-30', '2012-10-01',\n",
       "       '2012-10-02', '2012-10-03', '2012-10-04', '2012-10-05',\n",
       "       '2012-10-06', '2012-10-07', '2012-10-08', '2012-10-09',\n",
       "       '2012-10-10', '2012-10-11', '2012-10-12', '2012-10-13',\n",
       "       '2012-10-14', '2012-10-15', '2012-10-16', '2012-10-17',\n",
       "       '2012-10-18', '2012-10-19', '2012-10-20', '2012-10-21',\n",
       "       '2012-10-22', '2012-10-23', '2012-10-24', '2012-10-25',\n",
       "       '2012-10-26', '2012-10-27', '2012-10-28', '2012-10-29',\n",
       "       '2012-10-30', '2012-10-31', '2012-11-01', '2012-11-02',\n",
       "       '2012-11-03', '2012-11-04', '2012-11-05', '2012-11-06',\n",
       "       '2012-11-07', '2012-11-08', '2012-11-09', '2012-11-10',\n",
       "       '2012-11-11', '2012-11-12', '2012-11-13', '2012-11-14',\n",
       "       '2012-11-15', '2012-11-16', '2012-11-17', '2012-11-18',\n",
       "       '2012-11-19', '2012-11-20', '2012-11-21', '2012-11-22',\n",
       "       '2012-11-23', '2012-11-24', '2012-11-25', '2012-11-26',\n",
       "       '2012-11-27', '2012-11-28', '2012-11-29', '2012-11-30',\n",
       "       '2012-12-01', '2012-12-02', '2012-12-03', '2012-12-04',\n",
       "       '2012-12-05', '2012-12-06', '2012-12-07', '2012-12-08',\n",
       "       '2012-12-09', '2012-12-10', '2012-12-11', '2012-12-12',\n",
       "       '2012-12-13', '2012-12-14', '2012-12-15', '2012-12-16',\n",
       "       '2012-12-17', '2012-12-18', '2012-12-19', '2012-12-20',\n",
       "       '2012-12-21', '2012-12-22', '2012-12-23', '2012-12-24',\n",
       "       '2012-12-25', '2012-12-26', '2012-12-27', '2012-12-28',\n",
       "       '2012-12-29', '2012-12-30', '2012-12-31'], dtype=object)"
      ]
     },
     "execution_count": 9,
     "metadata": {},
     "output_type": "execute_result"
    }
   ],
   "source": [
    "bikes.dteday.unique() "
   ]
  },
  {
   "cell_type": "markdown",
   "id": "3e181543",
   "metadata": {},
   "source": [
    "Most of the date data is from 2011 and 2012, starting from Jan 2011 to Dec 2012"
   ]
  },
  {
   "cell_type": "code",
   "execution_count": 10,
   "id": "d2aaa6c5",
   "metadata": {},
   "outputs": [
    {
     "data": {
      "text/plain": [
       "0        1\n",
       "1        1\n",
       "2        1\n",
       "3        1\n",
       "4        1\n",
       "        ..\n",
       "17374    1\n",
       "17375    1\n",
       "17376    1\n",
       "17377    1\n",
       "17378    1\n",
       "Name: season, Length: 17379, dtype: int64"
      ]
     },
     "execution_count": 10,
     "metadata": {},
     "output_type": "execute_result"
    }
   ],
   "source": [
    "bikes.season"
   ]
  },
  {
   "cell_type": "code",
   "execution_count": 11,
   "id": "928f0a2d",
   "metadata": {},
   "outputs": [
    {
     "data": {
      "text/plain": [
       "array([1, 2, 3, 4], dtype=int64)"
      ]
     },
     "execution_count": 11,
     "metadata": {},
     "output_type": "execute_result"
    }
   ],
   "source": [
    "bikes.season.unique()"
   ]
  },
  {
   "cell_type": "markdown",
   "id": "e52392bf",
   "metadata": {},
   "source": [
    "There are 4 unique season in the current dataset"
   ]
  },
  {
   "cell_type": "code",
   "execution_count": 12,
   "id": "9be7635e",
   "metadata": {},
   "outputs": [
    {
     "data": {
      "text/plain": [
       "0        0\n",
       "1        0\n",
       "2        0\n",
       "3        0\n",
       "4        0\n",
       "        ..\n",
       "17374    1\n",
       "17375    1\n",
       "17376    1\n",
       "17377    1\n",
       "17378    1\n",
       "Name: yr, Length: 17379, dtype: int64"
      ]
     },
     "execution_count": 12,
     "metadata": {},
     "output_type": "execute_result"
    }
   ],
   "source": [
    "bikes.yr"
   ]
  },
  {
   "cell_type": "code",
   "execution_count": 13,
   "id": "8eb98719",
   "metadata": {},
   "outputs": [
    {
     "data": {
      "text/plain": [
       "array([0, 1], dtype=int64)"
      ]
     },
     "execution_count": 13,
     "metadata": {},
     "output_type": "execute_result"
    }
   ],
   "source": [
    "bikes.yr.unique()"
   ]
  },
  {
   "cell_type": "markdown",
   "id": "2c84adfa",
   "metadata": {},
   "source": [
    "Again the yr information can be considered as 0 for year 2011 and 1 for year 2012"
   ]
  },
  {
   "cell_type": "code",
   "execution_count": 14,
   "id": "d62315fd",
   "metadata": {},
   "outputs": [
    {
     "data": {
      "text/plain": [
       "0         1\n",
       "1         1\n",
       "2         1\n",
       "3         1\n",
       "4         1\n",
       "         ..\n",
       "17374    12\n",
       "17375    12\n",
       "17376    12\n",
       "17377    12\n",
       "17378    12\n",
       "Name: mnth, Length: 17379, dtype: int64"
      ]
     },
     "execution_count": 14,
     "metadata": {},
     "output_type": "execute_result"
    }
   ],
   "source": [
    "bikes.mnth"
   ]
  },
  {
   "cell_type": "code",
   "execution_count": 15,
   "id": "2aefe4e4",
   "metadata": {},
   "outputs": [
    {
     "data": {
      "text/plain": [
       "array([ 1,  2,  3,  4,  5,  6,  7,  8,  9, 10, 11, 12], dtype=int64)"
      ]
     },
     "execution_count": 15,
     "metadata": {},
     "output_type": "execute_result"
    }
   ],
   "source": [
    "bikes.mnth.unique()"
   ]
  },
  {
   "cell_type": "markdown",
   "id": "e10ebe9e",
   "metadata": {},
   "source": [
    "We have bikes shared across all the 12 months for the year 2011 & 2012"
   ]
  },
  {
   "cell_type": "code",
   "execution_count": 16,
   "id": "c73beca0",
   "metadata": {},
   "outputs": [
    {
     "data": {
      "text/plain": [
       "0         0\n",
       "1         1\n",
       "2         2\n",
       "3         3\n",
       "4         4\n",
       "         ..\n",
       "17374    19\n",
       "17375    20\n",
       "17376    21\n",
       "17377    22\n",
       "17378    23\n",
       "Name: hr, Length: 17379, dtype: int64"
      ]
     },
     "execution_count": 16,
     "metadata": {},
     "output_type": "execute_result"
    }
   ],
   "source": [
    "bikes.hr"
   ]
  },
  {
   "cell_type": "code",
   "execution_count": 17,
   "id": "8798a023",
   "metadata": {},
   "outputs": [
    {
     "data": {
      "text/plain": [
       "array([ 0,  1,  2,  3,  4,  5,  6,  7,  8,  9, 10, 11, 12, 13, 14, 15, 16,\n",
       "       17, 18, 19, 20, 21, 22, 23], dtype=int64)"
      ]
     },
     "execution_count": 17,
     "metadata": {},
     "output_type": "execute_result"
    }
   ],
   "source": [
    "bikes.hr.unique()"
   ]
  },
  {
   "cell_type": "markdown",
   "id": "d199959c",
   "metadata": {},
   "source": [
    "Data analysis for Bikes shared 24 hours round the clock "
   ]
  },
  {
   "cell_type": "code",
   "execution_count": 18,
   "id": "0fc94084",
   "metadata": {},
   "outputs": [
    {
     "data": {
      "text/plain": [
       "0        0\n",
       "1        0\n",
       "2        0\n",
       "3        0\n",
       "4        0\n",
       "        ..\n",
       "17374    0\n",
       "17375    0\n",
       "17376    0\n",
       "17377    0\n",
       "17378    0\n",
       "Name: holiday, Length: 17379, dtype: int64"
      ]
     },
     "execution_count": 18,
     "metadata": {},
     "output_type": "execute_result"
    }
   ],
   "source": [
    "bikes.holiday"
   ]
  },
  {
   "cell_type": "code",
   "execution_count": 19,
   "id": "8ee8dbe2",
   "metadata": {},
   "outputs": [
    {
     "data": {
      "text/plain": [
       "array([0, 1], dtype=int64)"
      ]
     },
     "execution_count": 19,
     "metadata": {},
     "output_type": "execute_result"
    }
   ],
   "source": [
    "bikes.holiday.unique()"
   ]
  },
  {
   "cell_type": "markdown",
   "id": "e44c4aa9",
   "metadata": {},
   "source": [
    "Here 0 represents no holiday and 1 for holiday"
   ]
  },
  {
   "cell_type": "code",
   "execution_count": 20,
   "id": "0f928231",
   "metadata": {},
   "outputs": [
    {
     "data": {
      "text/plain": [
       "0        6\n",
       "1        6\n",
       "2        6\n",
       "3        6\n",
       "4        6\n",
       "        ..\n",
       "17374    1\n",
       "17375    1\n",
       "17376    1\n",
       "17377    1\n",
       "17378    1\n",
       "Name: weekday, Length: 17379, dtype: int64"
      ]
     },
     "execution_count": 20,
     "metadata": {},
     "output_type": "execute_result"
    }
   ],
   "source": [
    "bikes.weekday"
   ]
  },
  {
   "cell_type": "code",
   "execution_count": 21,
   "id": "66f45051",
   "metadata": {},
   "outputs": [
    {
     "data": {
      "text/plain": [
       "array([6, 0, 1, 2, 3, 4, 5], dtype=int64)"
      ]
     },
     "execution_count": 21,
     "metadata": {},
     "output_type": "execute_result"
    }
   ],
   "source": [
    "bikes.weekday.unique()"
   ]
  },
  {
   "cell_type": "markdown",
   "id": "e40b852c",
   "metadata": {},
   "source": [
    "Bikes shared round the week from sunday to monday"
   ]
  },
  {
   "cell_type": "code",
   "execution_count": 22,
   "id": "4a82bda1",
   "metadata": {},
   "outputs": [
    {
     "data": {
      "text/plain": [
       "0        0\n",
       "1        0\n",
       "2        0\n",
       "3        0\n",
       "4        0\n",
       "        ..\n",
       "17374    1\n",
       "17375    1\n",
       "17376    1\n",
       "17377    1\n",
       "17378    1\n",
       "Name: workingday, Length: 17379, dtype: int64"
      ]
     },
     "execution_count": 22,
     "metadata": {},
     "output_type": "execute_result"
    }
   ],
   "source": [
    "bikes.workingday"
   ]
  },
  {
   "cell_type": "code",
   "execution_count": 23,
   "id": "36993455",
   "metadata": {},
   "outputs": [
    {
     "data": {
      "text/plain": [
       "array([0, 1], dtype=int64)"
      ]
     },
     "execution_count": 23,
     "metadata": {},
     "output_type": "execute_result"
    }
   ],
   "source": [
    "bikes.workingday.unique()"
   ]
  },
  {
   "cell_type": "markdown",
   "id": "af67b11c",
   "metadata": {},
   "source": [
    "Here 0 for not workig days and 1 for working days"
   ]
  },
  {
   "cell_type": "code",
   "execution_count": 24,
   "id": "37935e37",
   "metadata": {},
   "outputs": [
    {
     "data": {
      "text/plain": [
       "0        1\n",
       "1        1\n",
       "2        1\n",
       "3        1\n",
       "4        1\n",
       "        ..\n",
       "17374    2\n",
       "17375    2\n",
       "17376    1\n",
       "17377    1\n",
       "17378    1\n",
       "Name: weathersit, Length: 17379, dtype: int64"
      ]
     },
     "execution_count": 24,
     "metadata": {},
     "output_type": "execute_result"
    }
   ],
   "source": [
    "bikes.weathersit"
   ]
  },
  {
   "cell_type": "code",
   "execution_count": 25,
   "id": "8c0418ba",
   "metadata": {},
   "outputs": [
    {
     "data": {
      "text/plain": [
       "array([1, 2, 3, 4], dtype=int64)"
      ]
     },
     "execution_count": 25,
     "metadata": {},
     "output_type": "execute_result"
    }
   ],
   "source": [
    "bikes.weathersit.unique()"
   ]
  },
  {
   "cell_type": "markdown",
   "id": "39dffe22",
   "metadata": {},
   "source": [
    "weathersit  has four values - 1 , 2, 3, 4"
   ]
  },
  {
   "cell_type": "markdown",
   "id": "2ba0b95e",
   "metadata": {},
   "source": [
    "The other columns have data which may not considered for uniqueness like temp, windsped, atemp etc"
   ]
  },
  {
   "cell_type": "code",
   "execution_count": 26,
   "id": "482be42e",
   "metadata": {},
   "outputs": [
    {
     "data": {
      "text/plain": [
       "instant       0\n",
       "dteday        0\n",
       "season        0\n",
       "yr            0\n",
       "mnth          0\n",
       "hr            0\n",
       "holiday       0\n",
       "weekday       0\n",
       "workingday    0\n",
       "weathersit    0\n",
       "temp          0\n",
       "atemp         0\n",
       "hum           0\n",
       "windspeed     0\n",
       "casual        0\n",
       "registered    0\n",
       "cnt           0\n",
       "dtype: int64"
      ]
     },
     "execution_count": 26,
     "metadata": {},
     "output_type": "execute_result"
    }
   ],
   "source": [
    "bikes.isnull().sum()  # checkig for missing values, null values etc"
   ]
  },
  {
   "cell_type": "code",
   "execution_count": 27,
   "id": "140eda16",
   "metadata": {},
   "outputs": [
    {
     "data": {
      "text/plain": [
       "instant       0\n",
       "dteday        0\n",
       "season        0\n",
       "yr            0\n",
       "mnth          0\n",
       "hr            0\n",
       "holiday       0\n",
       "weekday       0\n",
       "workingday    0\n",
       "weathersit    0\n",
       "temp          0\n",
       "atemp         0\n",
       "hum           0\n",
       "windspeed     0\n",
       "casual        0\n",
       "registered    0\n",
       "cnt           0\n",
       "dtype: int64"
      ]
     },
     "execution_count": 27,
     "metadata": {},
     "output_type": "execute_result"
    }
   ],
   "source": [
    "bikes.isna().sum()  # Checking for NA values"
   ]
  },
  {
   "cell_type": "code",
   "execution_count": 28,
   "id": "a6a3db3f",
   "metadata": {},
   "outputs": [
    {
     "data": {
      "text/plain": [
       "0"
      ]
     },
     "execution_count": 28,
     "metadata": {},
     "output_type": "execute_result"
    }
   ],
   "source": [
    "bikes.dteday.isnull().sum()  # checking for null values"
   ]
  },
  {
   "cell_type": "code",
   "execution_count": 29,
   "id": "32de5707",
   "metadata": {},
   "outputs": [
    {
     "data": {
      "text/plain": [
       "0        False\n",
       "1        False\n",
       "2        False\n",
       "3        False\n",
       "4        False\n",
       "         ...  \n",
       "17374    False\n",
       "17375    False\n",
       "17376    False\n",
       "17377    False\n",
       "17378    False\n",
       "Length: 17379, dtype: bool"
      ]
     },
     "execution_count": 29,
     "metadata": {},
     "output_type": "execute_result"
    }
   ],
   "source": [
    "bikes.duplicated()"
   ]
  },
  {
   "cell_type": "code",
   "execution_count": 30,
   "id": "7640a9fa",
   "metadata": {},
   "outputs": [
    {
     "data": {
      "text/plain": [
       "0"
      ]
     },
     "execution_count": 30,
     "metadata": {},
     "output_type": "execute_result"
    }
   ],
   "source": [
    "bikes.duplicated().sum() # checking for duplicate records in the dataframe"
   ]
  },
  {
   "cell_type": "markdown",
   "id": "5b4bdc69",
   "metadata": {},
   "source": [
    "<b> Data transformation <b>"
   ]
  },
  {
   "cell_type": "markdown",
   "id": "0b5190c6",
   "metadata": {},
   "source": [
    "The column dte can be converted to datetime  for better analysis"
   ]
  },
  {
   "cell_type": "code",
   "execution_count": 31,
   "id": "1c019538",
   "metadata": {},
   "outputs": [
    {
     "data": {
      "text/plain": [
       "0        2011-01-01\n",
       "1        2011-01-01\n",
       "2        2011-01-01\n",
       "3        2011-01-01\n",
       "4        2011-01-01\n",
       "            ...    \n",
       "17374    2012-12-31\n",
       "17375    2012-12-31\n",
       "17376    2012-12-31\n",
       "17377    2012-12-31\n",
       "17378    2012-12-31\n",
       "Name: dteday, Length: 17379, dtype: object"
      ]
     },
     "execution_count": 31,
     "metadata": {},
     "output_type": "execute_result"
    }
   ],
   "source": [
    "bikes.dteday"
   ]
  },
  {
   "cell_type": "code",
   "execution_count": 32,
   "id": "9fdae117",
   "metadata": {},
   "outputs": [
    {
     "data": {
      "text/plain": [
       "0    2011-01-01\n",
       "1    2011-01-01\n",
       "2    2011-01-01\n",
       "3    2011-01-01\n",
       "4    2011-01-01\n",
       "Name: dteday, dtype: object"
      ]
     },
     "execution_count": 32,
     "metadata": {},
     "output_type": "execute_result"
    }
   ],
   "source": [
    "bikes.dteday.head()"
   ]
  },
  {
   "cell_type": "code",
   "execution_count": 33,
   "id": "baa4c3e5",
   "metadata": {},
   "outputs": [],
   "source": [
    "dte = pd.to_datetime(bikes.dteday)"
   ]
  },
  {
   "cell_type": "code",
   "execution_count": 34,
   "id": "8e2f0bf8",
   "metadata": {},
   "outputs": [
    {
     "data": {
      "text/plain": [
       "0       2011-01-01\n",
       "1       2011-01-01\n",
       "2       2011-01-01\n",
       "3       2011-01-01\n",
       "4       2011-01-01\n",
       "           ...    \n",
       "17374   2012-12-31\n",
       "17375   2012-12-31\n",
       "17376   2012-12-31\n",
       "17377   2012-12-31\n",
       "17378   2012-12-31\n",
       "Name: dteday, Length: 17379, dtype: datetime64[ns]"
      ]
     },
     "execution_count": 34,
     "metadata": {},
     "output_type": "execute_result"
    }
   ],
   "source": [
    "dte"
   ]
  },
  {
   "cell_type": "code",
   "execution_count": 35,
   "id": "e3e056b8",
   "metadata": {},
   "outputs": [
    {
     "data": {
      "text/plain": [
       "pandas.core.series.Series"
      ]
     },
     "execution_count": 35,
     "metadata": {},
     "output_type": "execute_result"
    }
   ],
   "source": [
    "type(dte)"
   ]
  },
  {
   "cell_type": "markdown",
   "id": "8e6254a7",
   "metadata": {},
   "source": [
    "<b> Feature Extraction<b>"
   ]
  },
  {
   "cell_type": "markdown",
   "id": "f0fcb88c",
   "metadata": {},
   "source": [
    "Now extract year, month and day from \"dte\" series."
   ]
  },
  {
   "cell_type": "code",
   "execution_count": null,
   "id": "4bcb2735",
   "metadata": {},
   "outputs": [],
   "source": []
  }
 ],
 "metadata": {
  "kernelspec": {
   "display_name": "Python 3 (ipykernel)",
   "language": "python",
   "name": "python3"
  },
  "language_info": {
   "codemirror_mode": {
    "name": "ipython",
    "version": 3
   },
   "file_extension": ".py",
   "mimetype": "text/x-python",
   "name": "python",
   "nbconvert_exporter": "python",
   "pygments_lexer": "ipython3",
   "version": "3.11.3"
  }
 },
 "nbformat": 4,
 "nbformat_minor": 5
}
