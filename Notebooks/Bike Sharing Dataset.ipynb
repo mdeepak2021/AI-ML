{
 "cells": [
  {
   "cell_type": "markdown",
   "id": "446af183",
   "metadata": {},
   "source": [
    "<font color='black'> <h1> <center> Exploratory Data Analysis </center> </h1> </font>"
   ]
  },
  {
   "cell_type": "markdown",
   "id": "f0ff08c3",
   "metadata": {},
   "source": [
    "### Bike Sharing Dataset"
   ]
  },
  {
   "cell_type": "markdown",
   "id": "55ccb830",
   "metadata": {},
   "source": [
    "Dataset and more information can be found at following URL -\n",
    "https://archive.ics.uci.edu/ml/datasets/Bike+Sharing+Dataset \n",
    "\n",
    "Please take some moments to go through the description of the dataset and its features which will be helpful for doing further data analysis."
   ]
  },
  {
   "cell_type": "markdown",
   "id": "685ec561",
   "metadata": {},
   "source": [
    "The dataset has the following fields:\n",
    "\t\n",
    "\t- instant: record index\n",
    "\t- dteday : date\n",
    "\t- season : season (1:winter, 2:spring, 3:summer, 4:fall)\n",
    "\t- yr : year (0: 2011, 1:2012)\n",
    "\t- mnth : month ( 1 to 12)\n",
    "\t- hr : hour (0 to 23)\n",
    "\t- holiday : weather day is holiday or not (extracted from http://dchr.dc.gov/page/holiday-schedule)\n",
    "\t- weekday : day of the week\n",
    "\t- workingday : if day is neither weekend nor holiday is 1, otherwise is 0.\n",
    "\t+ weathersit : \n",
    "\t\t- 1: Clear, Few clouds, Partly cloudy, Partly cloudy\n",
    "\t\t- 2: Mist + Cloudy, Mist + Broken clouds, Mist + Few clouds, Mist\n",
    "\t\t- 3: Light Snow, Light Rain + Thunderstorm + Scattered clouds, Light Rain + Scattered clouds\n",
    "\t\t- 4: Heavy Rain + Ice Pallets + Thunderstorm + Mist, Snow + Fog\n",
    "\t- temp : Normalized temperature in Celsius. The values are derived via (t-t_min)/(t_max-t_min), t_min=-8, t_max=+39 (only in hourly scale)\n",
    "\t- atemp: Normalized feeling temperature in Celsius. The values are derived via (t-t_min)/(t_max-t_min), t_min=-16, t_max=+50 (only in hourly scale)\n",
    "\t- hum: Normalized humidity. The values are divided to 100 (max)\n",
    "\t- windspeed: Normalized wind speed. The values are divided to 67 (max)\n",
    "\t- casual: count of casual users\n",
    "\t- registered: count of registered users\n",
    "\t- cnt: count of total rental bikes including both casual and registered"
   ]
  },
  {
   "cell_type": "code",
   "execution_count": 1,
   "id": "55ce448f",
   "metadata": {},
   "outputs": [],
   "source": [
    "# Importing the Python libraries\n",
    "\n",
    "import pandas as pd\n",
    "import numpy as np"
   ]
  },
  {
   "cell_type": "markdown",
   "id": "ca639bd6",
   "metadata": {},
   "source": [
    "#### Step1 - Reading Data From CSV"
   ]
  },
  {
   "cell_type": "markdown",
   "id": "137e3b54",
   "metadata": {},
   "source": [
    "As the data is stored in csv format, use read_csv function of pandas to read the data in pandas structure named DataFrame."
   ]
  },
  {
   "cell_type": "code",
   "execution_count": 2,
   "id": "a5b64b66",
   "metadata": {},
   "outputs": [],
   "source": [
    "bikes = pd.read_csv(\"../Data/bike_shairing_hourly.csv\")"
   ]
  },
  {
   "cell_type": "markdown",
   "id": "451f0596",
   "metadata": {},
   "source": [
    "<b> Data Viewing<b>"
   ]
  },
  {
   "cell_type": "markdown",
   "id": "dece7015",
   "metadata": {},
   "source": [
    "Lets explore the first and last few rows of dataframe."
   ]
  },
  {
   "cell_type": "code",
   "execution_count": 3,
   "id": "b9459b44",
   "metadata": {},
   "outputs": [
    {
     "data": {
      "text/html": [
       "<div>\n",
       "<style scoped>\n",
       "    .dataframe tbody tr th:only-of-type {\n",
       "        vertical-align: middle;\n",
       "    }\n",
       "\n",
       "    .dataframe tbody tr th {\n",
       "        vertical-align: top;\n",
       "    }\n",
       "\n",
       "    .dataframe thead th {\n",
       "        text-align: right;\n",
       "    }\n",
       "</style>\n",
       "<table border=\"1\" class=\"dataframe\">\n",
       "  <thead>\n",
       "    <tr style=\"text-align: right;\">\n",
       "      <th></th>\n",
       "      <th>instant</th>\n",
       "      <th>dteday</th>\n",
       "      <th>season</th>\n",
       "      <th>yr</th>\n",
       "      <th>mnth</th>\n",
       "      <th>hr</th>\n",
       "      <th>holiday</th>\n",
       "      <th>weekday</th>\n",
       "      <th>workingday</th>\n",
       "      <th>weathersit</th>\n",
       "      <th>temp</th>\n",
       "      <th>atemp</th>\n",
       "      <th>hum</th>\n",
       "      <th>windspeed</th>\n",
       "      <th>casual</th>\n",
       "      <th>registered</th>\n",
       "      <th>cnt</th>\n",
       "    </tr>\n",
       "  </thead>\n",
       "  <tbody>\n",
       "    <tr>\n",
       "      <th>0</th>\n",
       "      <td>1</td>\n",
       "      <td>2011-01-01</td>\n",
       "      <td>1</td>\n",
       "      <td>0</td>\n",
       "      <td>1</td>\n",
       "      <td>0</td>\n",
       "      <td>0</td>\n",
       "      <td>6</td>\n",
       "      <td>0</td>\n",
       "      <td>1</td>\n",
       "      <td>0.24</td>\n",
       "      <td>0.2879</td>\n",
       "      <td>0.81</td>\n",
       "      <td>0.0</td>\n",
       "      <td>3</td>\n",
       "      <td>13</td>\n",
       "      <td>16</td>\n",
       "    </tr>\n",
       "    <tr>\n",
       "      <th>1</th>\n",
       "      <td>2</td>\n",
       "      <td>2011-01-01</td>\n",
       "      <td>1</td>\n",
       "      <td>0</td>\n",
       "      <td>1</td>\n",
       "      <td>1</td>\n",
       "      <td>0</td>\n",
       "      <td>6</td>\n",
       "      <td>0</td>\n",
       "      <td>1</td>\n",
       "      <td>0.22</td>\n",
       "      <td>0.2727</td>\n",
       "      <td>0.80</td>\n",
       "      <td>0.0</td>\n",
       "      <td>8</td>\n",
       "      <td>32</td>\n",
       "      <td>40</td>\n",
       "    </tr>\n",
       "    <tr>\n",
       "      <th>2</th>\n",
       "      <td>3</td>\n",
       "      <td>2011-01-01</td>\n",
       "      <td>1</td>\n",
       "      <td>0</td>\n",
       "      <td>1</td>\n",
       "      <td>2</td>\n",
       "      <td>0</td>\n",
       "      <td>6</td>\n",
       "      <td>0</td>\n",
       "      <td>1</td>\n",
       "      <td>0.22</td>\n",
       "      <td>0.2727</td>\n",
       "      <td>0.80</td>\n",
       "      <td>0.0</td>\n",
       "      <td>5</td>\n",
       "      <td>27</td>\n",
       "      <td>32</td>\n",
       "    </tr>\n",
       "    <tr>\n",
       "      <th>3</th>\n",
       "      <td>4</td>\n",
       "      <td>2011-01-01</td>\n",
       "      <td>1</td>\n",
       "      <td>0</td>\n",
       "      <td>1</td>\n",
       "      <td>3</td>\n",
       "      <td>0</td>\n",
       "      <td>6</td>\n",
       "      <td>0</td>\n",
       "      <td>1</td>\n",
       "      <td>0.24</td>\n",
       "      <td>0.2879</td>\n",
       "      <td>0.75</td>\n",
       "      <td>0.0</td>\n",
       "      <td>3</td>\n",
       "      <td>10</td>\n",
       "      <td>13</td>\n",
       "    </tr>\n",
       "    <tr>\n",
       "      <th>4</th>\n",
       "      <td>5</td>\n",
       "      <td>2011-01-01</td>\n",
       "      <td>1</td>\n",
       "      <td>0</td>\n",
       "      <td>1</td>\n",
       "      <td>4</td>\n",
       "      <td>0</td>\n",
       "      <td>6</td>\n",
       "      <td>0</td>\n",
       "      <td>1</td>\n",
       "      <td>0.24</td>\n",
       "      <td>0.2879</td>\n",
       "      <td>0.75</td>\n",
       "      <td>0.0</td>\n",
       "      <td>0</td>\n",
       "      <td>1</td>\n",
       "      <td>1</td>\n",
       "    </tr>\n",
       "  </tbody>\n",
       "</table>\n",
       "</div>"
      ],
      "text/plain": [
       "   instant      dteday  season  yr  mnth  hr  holiday  weekday  workingday  \\\n",
       "0        1  2011-01-01       1   0     1   0        0        6           0   \n",
       "1        2  2011-01-01       1   0     1   1        0        6           0   \n",
       "2        3  2011-01-01       1   0     1   2        0        6           0   \n",
       "3        4  2011-01-01       1   0     1   3        0        6           0   \n",
       "4        5  2011-01-01       1   0     1   4        0        6           0   \n",
       "\n",
       "   weathersit  temp   atemp   hum  windspeed  casual  registered  cnt  \n",
       "0           1  0.24  0.2879  0.81        0.0       3          13   16  \n",
       "1           1  0.22  0.2727  0.80        0.0       8          32   40  \n",
       "2           1  0.22  0.2727  0.80        0.0       5          27   32  \n",
       "3           1  0.24  0.2879  0.75        0.0       3          10   13  \n",
       "4           1  0.24  0.2879  0.75        0.0       0           1    1  "
      ]
     },
     "execution_count": 3,
     "metadata": {},
     "output_type": "execute_result"
    }
   ],
   "source": [
    "bikes.head()"
   ]
  },
  {
   "cell_type": "code",
   "execution_count": 4,
   "id": "2cdc0a9f",
   "metadata": {},
   "outputs": [
    {
     "data": {
      "text/html": [
       "<div>\n",
       "<style scoped>\n",
       "    .dataframe tbody tr th:only-of-type {\n",
       "        vertical-align: middle;\n",
       "    }\n",
       "\n",
       "    .dataframe tbody tr th {\n",
       "        vertical-align: top;\n",
       "    }\n",
       "\n",
       "    .dataframe thead th {\n",
       "        text-align: right;\n",
       "    }\n",
       "</style>\n",
       "<table border=\"1\" class=\"dataframe\">\n",
       "  <thead>\n",
       "    <tr style=\"text-align: right;\">\n",
       "      <th></th>\n",
       "      <th>instant</th>\n",
       "      <th>dteday</th>\n",
       "      <th>season</th>\n",
       "      <th>yr</th>\n",
       "      <th>mnth</th>\n",
       "      <th>hr</th>\n",
       "      <th>holiday</th>\n",
       "      <th>weekday</th>\n",
       "      <th>workingday</th>\n",
       "      <th>weathersit</th>\n",
       "      <th>temp</th>\n",
       "      <th>atemp</th>\n",
       "      <th>hum</th>\n",
       "      <th>windspeed</th>\n",
       "      <th>casual</th>\n",
       "      <th>registered</th>\n",
       "      <th>cnt</th>\n",
       "    </tr>\n",
       "  </thead>\n",
       "  <tbody>\n",
       "    <tr>\n",
       "      <th>17374</th>\n",
       "      <td>17375</td>\n",
       "      <td>2012-12-31</td>\n",
       "      <td>1</td>\n",
       "      <td>1</td>\n",
       "      <td>12</td>\n",
       "      <td>19</td>\n",
       "      <td>0</td>\n",
       "      <td>1</td>\n",
       "      <td>1</td>\n",
       "      <td>2</td>\n",
       "      <td>0.26</td>\n",
       "      <td>0.2576</td>\n",
       "      <td>0.60</td>\n",
       "      <td>0.1642</td>\n",
       "      <td>11</td>\n",
       "      <td>108</td>\n",
       "      <td>119</td>\n",
       "    </tr>\n",
       "    <tr>\n",
       "      <th>17375</th>\n",
       "      <td>17376</td>\n",
       "      <td>2012-12-31</td>\n",
       "      <td>1</td>\n",
       "      <td>1</td>\n",
       "      <td>12</td>\n",
       "      <td>20</td>\n",
       "      <td>0</td>\n",
       "      <td>1</td>\n",
       "      <td>1</td>\n",
       "      <td>2</td>\n",
       "      <td>0.26</td>\n",
       "      <td>0.2576</td>\n",
       "      <td>0.60</td>\n",
       "      <td>0.1642</td>\n",
       "      <td>8</td>\n",
       "      <td>81</td>\n",
       "      <td>89</td>\n",
       "    </tr>\n",
       "    <tr>\n",
       "      <th>17376</th>\n",
       "      <td>17377</td>\n",
       "      <td>2012-12-31</td>\n",
       "      <td>1</td>\n",
       "      <td>1</td>\n",
       "      <td>12</td>\n",
       "      <td>21</td>\n",
       "      <td>0</td>\n",
       "      <td>1</td>\n",
       "      <td>1</td>\n",
       "      <td>1</td>\n",
       "      <td>0.26</td>\n",
       "      <td>0.2576</td>\n",
       "      <td>0.60</td>\n",
       "      <td>0.1642</td>\n",
       "      <td>7</td>\n",
       "      <td>83</td>\n",
       "      <td>90</td>\n",
       "    </tr>\n",
       "    <tr>\n",
       "      <th>17377</th>\n",
       "      <td>17378</td>\n",
       "      <td>2012-12-31</td>\n",
       "      <td>1</td>\n",
       "      <td>1</td>\n",
       "      <td>12</td>\n",
       "      <td>22</td>\n",
       "      <td>0</td>\n",
       "      <td>1</td>\n",
       "      <td>1</td>\n",
       "      <td>1</td>\n",
       "      <td>0.26</td>\n",
       "      <td>0.2727</td>\n",
       "      <td>0.56</td>\n",
       "      <td>0.1343</td>\n",
       "      <td>13</td>\n",
       "      <td>48</td>\n",
       "      <td>61</td>\n",
       "    </tr>\n",
       "    <tr>\n",
       "      <th>17378</th>\n",
       "      <td>17379</td>\n",
       "      <td>2012-12-31</td>\n",
       "      <td>1</td>\n",
       "      <td>1</td>\n",
       "      <td>12</td>\n",
       "      <td>23</td>\n",
       "      <td>0</td>\n",
       "      <td>1</td>\n",
       "      <td>1</td>\n",
       "      <td>1</td>\n",
       "      <td>0.26</td>\n",
       "      <td>0.2727</td>\n",
       "      <td>0.65</td>\n",
       "      <td>0.1343</td>\n",
       "      <td>12</td>\n",
       "      <td>37</td>\n",
       "      <td>49</td>\n",
       "    </tr>\n",
       "  </tbody>\n",
       "</table>\n",
       "</div>"
      ],
      "text/plain": [
       "       instant      dteday  season  yr  mnth  hr  holiday  weekday  \\\n",
       "17374    17375  2012-12-31       1   1    12  19        0        1   \n",
       "17375    17376  2012-12-31       1   1    12  20        0        1   \n",
       "17376    17377  2012-12-31       1   1    12  21        0        1   \n",
       "17377    17378  2012-12-31       1   1    12  22        0        1   \n",
       "17378    17379  2012-12-31       1   1    12  23        0        1   \n",
       "\n",
       "       workingday  weathersit  temp   atemp   hum  windspeed  casual  \\\n",
       "17374           1           2  0.26  0.2576  0.60     0.1642      11   \n",
       "17375           1           2  0.26  0.2576  0.60     0.1642       8   \n",
       "17376           1           1  0.26  0.2576  0.60     0.1642       7   \n",
       "17377           1           1  0.26  0.2727  0.56     0.1343      13   \n",
       "17378           1           1  0.26  0.2727  0.65     0.1343      12   \n",
       "\n",
       "       registered  cnt  \n",
       "17374         108  119  \n",
       "17375          81   89  \n",
       "17376          83   90  \n",
       "17377          48   61  \n",
       "17378          37   49  "
      ]
     },
     "execution_count": 4,
     "metadata": {},
     "output_type": "execute_result"
    }
   ],
   "source": [
    "bikes.tail()"
   ]
  },
  {
   "cell_type": "markdown",
   "id": "e98a3b0f",
   "metadata": {},
   "source": [
    "Lets find out number of rows and columns of data set."
   ]
  },
  {
   "cell_type": "code",
   "execution_count": 5,
   "id": "492bf9fd",
   "metadata": {},
   "outputs": [
    {
     "data": {
      "text/plain": [
       "(17379, 17)"
      ]
     },
     "execution_count": 5,
     "metadata": {},
     "output_type": "execute_result"
    }
   ],
   "source": [
    "bikes.shape"
   ]
  },
  {
   "cell_type": "markdown",
   "id": "b257e019",
   "metadata": {},
   "source": [
    "#### Step 2 - Formatting, cleaning and filtering Data Frames"
   ]
  },
  {
   "cell_type": "markdown",
   "id": "d6f30689",
   "metadata": {},
   "source": [
    "Lets check how many data values are present in each column."
   ]
  },
  {
   "cell_type": "code",
   "execution_count": 6,
   "id": "014d7ff4",
   "metadata": {},
   "outputs": [
    {
     "name": "stdout",
     "output_type": "stream",
     "text": [
      "<class 'pandas.core.frame.DataFrame'>\n",
      "RangeIndex: 17379 entries, 0 to 17378\n",
      "Data columns (total 17 columns):\n",
      " #   Column      Non-Null Count  Dtype  \n",
      "---  ------      --------------  -----  \n",
      " 0   instant     17379 non-null  int64  \n",
      " 1   dteday      17379 non-null  object \n",
      " 2   season      17379 non-null  int64  \n",
      " 3   yr          17379 non-null  int64  \n",
      " 4   mnth        17379 non-null  int64  \n",
      " 5   hr          17379 non-null  int64  \n",
      " 6   holiday     17379 non-null  int64  \n",
      " 7   weekday     17379 non-null  int64  \n",
      " 8   workingday  17379 non-null  int64  \n",
      " 9   weathersit  17379 non-null  int64  \n",
      " 10  temp        17379 non-null  float64\n",
      " 11  atemp       17379 non-null  float64\n",
      " 12  hum         17379 non-null  float64\n",
      " 13  windspeed   17379 non-null  float64\n",
      " 14  casual      17379 non-null  int64  \n",
      " 15  registered  17379 non-null  int64  \n",
      " 16  cnt         17379 non-null  int64  \n",
      "dtypes: float64(4), int64(12), object(1)\n",
      "memory usage: 2.3+ MB\n"
     ]
    }
   ],
   "source": [
    "bikes.info()"
   ]
  },
  {
   "cell_type": "markdown",
   "id": "5f865a71",
   "metadata": {},
   "source": [
    "As all the features contains same number of data values, there are no missing values in dataset."
   ]
  },
  {
   "cell_type": "markdown",
   "id": "3aec0df4",
   "metadata": {},
   "source": [
    "<b> Properties of data <b>"
   ]
  },
  {
   "cell_type": "markdown",
   "id": "3ea41eac",
   "metadata": {},
   "source": [
    "Lets check some properties of dataset :"
   ]
  },
  {
   "cell_type": "code",
   "execution_count": 7,
   "id": "241373ed",
   "metadata": {},
   "outputs": [
    {
     "data": {
      "text/plain": [
       "Index(['instant', 'dteday', 'season', 'yr', 'mnth', 'hr', 'holiday', 'weekday',\n",
       "       'workingday', 'weathersit', 'temp', 'atemp', 'hum', 'windspeed',\n",
       "       'casual', 'registered', 'cnt'],\n",
       "      dtype='object')"
      ]
     },
     "execution_count": 7,
     "metadata": {},
     "output_type": "execute_result"
    }
   ],
   "source": [
    "bikes.columns"
   ]
  },
  {
   "cell_type": "markdown",
   "id": "3cb2a0bd",
   "metadata": {},
   "source": [
    "17 features are present in dataset, most of which looks integers & float in nature."
   ]
  },
  {
   "cell_type": "code",
   "execution_count": 8,
   "id": "605229ad",
   "metadata": {},
   "outputs": [
    {
     "data": {
      "text/plain": [
       "instant         int64\n",
       "dteday         object\n",
       "season          int64\n",
       "yr              int64\n",
       "mnth            int64\n",
       "hr              int64\n",
       "holiday         int64\n",
       "weekday         int64\n",
       "workingday      int64\n",
       "weathersit      int64\n",
       "temp          float64\n",
       "atemp         float64\n",
       "hum           float64\n",
       "windspeed     float64\n",
       "casual          int64\n",
       "registered      int64\n",
       "cnt             int64\n",
       "dtype: object"
      ]
     },
     "execution_count": 8,
     "metadata": {},
     "output_type": "execute_result"
    }
   ],
   "source": [
    "bikes.dtypes  "
   ]
  },
  {
   "cell_type": "markdown",
   "id": "57c4f2f6",
   "metadata": {},
   "source": [
    "<b> Unique feature values <b>"
   ]
  },
  {
   "cell_type": "markdown",
   "id": "fcf7078b",
   "metadata": {},
   "source": [
    "Lets explore the unique values present in each feature. These unique values can give us some hints while doing grouping of the data."
   ]
  },
  {
   "cell_type": "code",
   "execution_count": 9,
   "id": "8ff93c8e",
   "metadata": {},
   "outputs": [
    {
     "data": {
      "text/plain": [
       "array(['2011-01-01', '2011-01-02', '2011-01-03', '2011-01-04',\n",
       "       '2011-01-05', '2011-01-06', '2011-01-07', '2011-01-08',\n",
       "       '2011-01-09', '2011-01-10', '2011-01-11', '2011-01-12',\n",
       "       '2011-01-13', '2011-01-14', '2011-01-15', '2011-01-16',\n",
       "       '2011-01-17', '2011-01-18', '2011-01-19', '2011-01-20',\n",
       "       '2011-01-21', '2011-01-22', '2011-01-23', '2011-01-24',\n",
       "       '2011-01-25', '2011-01-26', '2011-01-27', '2011-01-28',\n",
       "       '2011-01-29', '2011-01-30', '2011-01-31', '2011-02-01',\n",
       "       '2011-02-02', '2011-02-03', '2011-02-04', '2011-02-05',\n",
       "       '2011-02-06', '2011-02-07', '2011-02-08', '2011-02-09',\n",
       "       '2011-02-10', '2011-02-11', '2011-02-12', '2011-02-13',\n",
       "       '2011-02-14', '2011-02-15', '2011-02-16', '2011-02-17',\n",
       "       '2011-02-18', '2011-02-19', '2011-02-20', '2011-02-21',\n",
       "       '2011-02-22', '2011-02-23', '2011-02-24', '2011-02-25',\n",
       "       '2011-02-26', '2011-02-27', '2011-02-28', '2011-03-01',\n",
       "       '2011-03-02', '2011-03-03', '2011-03-04', '2011-03-05',\n",
       "       '2011-03-06', '2011-03-07', '2011-03-08', '2011-03-09',\n",
       "       '2011-03-10', '2011-03-11', '2011-03-12', '2011-03-13',\n",
       "       '2011-03-14', '2011-03-15', '2011-03-16', '2011-03-17',\n",
       "       '2011-03-18', '2011-03-19', '2011-03-20', '2011-03-21',\n",
       "       '2011-03-22', '2011-03-23', '2011-03-24', '2011-03-25',\n",
       "       '2011-03-26', '2011-03-27', '2011-03-28', '2011-03-29',\n",
       "       '2011-03-30', '2011-03-31', '2011-04-01', '2011-04-02',\n",
       "       '2011-04-03', '2011-04-04', '2011-04-05', '2011-04-06',\n",
       "       '2011-04-07', '2011-04-08', '2011-04-09', '2011-04-10',\n",
       "       '2011-04-11', '2011-04-12', '2011-04-13', '2011-04-14',\n",
       "       '2011-04-15', '2011-04-16', '2011-04-17', '2011-04-18',\n",
       "       '2011-04-19', '2011-04-20', '2011-04-21', '2011-04-22',\n",
       "       '2011-04-23', '2011-04-24', '2011-04-25', '2011-04-26',\n",
       "       '2011-04-27', '2011-04-28', '2011-04-29', '2011-04-30',\n",
       "       '2011-05-01', '2011-05-02', '2011-05-03', '2011-05-04',\n",
       "       '2011-05-05', '2011-05-06', '2011-05-07', '2011-05-08',\n",
       "       '2011-05-09', '2011-05-10', '2011-05-11', '2011-05-12',\n",
       "       '2011-05-13', '2011-05-14', '2011-05-15', '2011-05-16',\n",
       "       '2011-05-17', '2011-05-18', '2011-05-19', '2011-05-20',\n",
       "       '2011-05-21', '2011-05-22', '2011-05-23', '2011-05-24',\n",
       "       '2011-05-25', '2011-05-26', '2011-05-27', '2011-05-28',\n",
       "       '2011-05-29', '2011-05-30', '2011-05-31', '2011-06-01',\n",
       "       '2011-06-02', '2011-06-03', '2011-06-04', '2011-06-05',\n",
       "       '2011-06-06', '2011-06-07', '2011-06-08', '2011-06-09',\n",
       "       '2011-06-10', '2011-06-11', '2011-06-12', '2011-06-13',\n",
       "       '2011-06-14', '2011-06-15', '2011-06-16', '2011-06-17',\n",
       "       '2011-06-18', '2011-06-19', '2011-06-20', '2011-06-21',\n",
       "       '2011-06-22', '2011-06-23', '2011-06-24', '2011-06-25',\n",
       "       '2011-06-26', '2011-06-27', '2011-06-28', '2011-06-29',\n",
       "       '2011-06-30', '2011-07-01', '2011-07-02', '2011-07-03',\n",
       "       '2011-07-04', '2011-07-05', '2011-07-06', '2011-07-07',\n",
       "       '2011-07-08', '2011-07-09', '2011-07-10', '2011-07-11',\n",
       "       '2011-07-12', '2011-07-13', '2011-07-14', '2011-07-15',\n",
       "       '2011-07-16', '2011-07-17', '2011-07-18', '2011-07-19',\n",
       "       '2011-07-20', '2011-07-21', '2011-07-22', '2011-07-23',\n",
       "       '2011-07-24', '2011-07-25', '2011-07-26', '2011-07-27',\n",
       "       '2011-07-28', '2011-07-29', '2011-07-30', '2011-07-31',\n",
       "       '2011-08-01', '2011-08-02', '2011-08-03', '2011-08-04',\n",
       "       '2011-08-05', '2011-08-06', '2011-08-07', '2011-08-08',\n",
       "       '2011-08-09', '2011-08-10', '2011-08-11', '2011-08-12',\n",
       "       '2011-08-13', '2011-08-14', '2011-08-15', '2011-08-16',\n",
       "       '2011-08-17', '2011-08-18', '2011-08-19', '2011-08-20',\n",
       "       '2011-08-21', '2011-08-22', '2011-08-23', '2011-08-24',\n",
       "       '2011-08-25', '2011-08-26', '2011-08-27', '2011-08-28',\n",
       "       '2011-08-29', '2011-08-30', '2011-08-31', '2011-09-01',\n",
       "       '2011-09-02', '2011-09-03', '2011-09-04', '2011-09-05',\n",
       "       '2011-09-06', '2011-09-07', '2011-09-08', '2011-09-09',\n",
       "       '2011-09-10', '2011-09-11', '2011-09-12', '2011-09-13',\n",
       "       '2011-09-14', '2011-09-15', '2011-09-16', '2011-09-17',\n",
       "       '2011-09-18', '2011-09-19', '2011-09-20', '2011-09-21',\n",
       "       '2011-09-22', '2011-09-23', '2011-09-24', '2011-09-25',\n",
       "       '2011-09-26', '2011-09-27', '2011-09-28', '2011-09-29',\n",
       "       '2011-09-30', '2011-10-01', '2011-10-02', '2011-10-03',\n",
       "       '2011-10-04', '2011-10-05', '2011-10-06', '2011-10-07',\n",
       "       '2011-10-08', '2011-10-09', '2011-10-10', '2011-10-11',\n",
       "       '2011-10-12', '2011-10-13', '2011-10-14', '2011-10-15',\n",
       "       '2011-10-16', '2011-10-17', '2011-10-18', '2011-10-19',\n",
       "       '2011-10-20', '2011-10-21', '2011-10-22', '2011-10-23',\n",
       "       '2011-10-24', '2011-10-25', '2011-10-26', '2011-10-27',\n",
       "       '2011-10-28', '2011-10-29', '2011-10-30', '2011-10-31',\n",
       "       '2011-11-01', '2011-11-02', '2011-11-03', '2011-11-04',\n",
       "       '2011-11-05', '2011-11-06', '2011-11-07', '2011-11-08',\n",
       "       '2011-11-09', '2011-11-10', '2011-11-11', '2011-11-12',\n",
       "       '2011-11-13', '2011-11-14', '2011-11-15', '2011-11-16',\n",
       "       '2011-11-17', '2011-11-18', '2011-11-19', '2011-11-20',\n",
       "       '2011-11-21', '2011-11-22', '2011-11-23', '2011-11-24',\n",
       "       '2011-11-25', '2011-11-26', '2011-11-27', '2011-11-28',\n",
       "       '2011-11-29', '2011-11-30', '2011-12-01', '2011-12-02',\n",
       "       '2011-12-03', '2011-12-04', '2011-12-05', '2011-12-06',\n",
       "       '2011-12-07', '2011-12-08', '2011-12-09', '2011-12-10',\n",
       "       '2011-12-11', '2011-12-12', '2011-12-13', '2011-12-14',\n",
       "       '2011-12-15', '2011-12-16', '2011-12-17', '2011-12-18',\n",
       "       '2011-12-19', '2011-12-20', '2011-12-21', '2011-12-22',\n",
       "       '2011-12-23', '2011-12-24', '2011-12-25', '2011-12-26',\n",
       "       '2011-12-27', '2011-12-28', '2011-12-29', '2011-12-30',\n",
       "       '2011-12-31', '2012-01-01', '2012-01-02', '2012-01-03',\n",
       "       '2012-01-04', '2012-01-05', '2012-01-06', '2012-01-07',\n",
       "       '2012-01-08', '2012-01-09', '2012-01-10', '2012-01-11',\n",
       "       '2012-01-12', '2012-01-13', '2012-01-14', '2012-01-15',\n",
       "       '2012-01-16', '2012-01-17', '2012-01-18', '2012-01-19',\n",
       "       '2012-01-20', '2012-01-21', '2012-01-22', '2012-01-23',\n",
       "       '2012-01-24', '2012-01-25', '2012-01-26', '2012-01-27',\n",
       "       '2012-01-28', '2012-01-29', '2012-01-30', '2012-01-31',\n",
       "       '2012-02-01', '2012-02-02', '2012-02-03', '2012-02-04',\n",
       "       '2012-02-05', '2012-02-06', '2012-02-07', '2012-02-08',\n",
       "       '2012-02-09', '2012-02-10', '2012-02-11', '2012-02-12',\n",
       "       '2012-02-13', '2012-02-14', '2012-02-15', '2012-02-16',\n",
       "       '2012-02-17', '2012-02-18', '2012-02-19', '2012-02-20',\n",
       "       '2012-02-21', '2012-02-22', '2012-02-23', '2012-02-24',\n",
       "       '2012-02-25', '2012-02-26', '2012-02-27', '2012-02-28',\n",
       "       '2012-02-29', '2012-03-01', '2012-03-02', '2012-03-03',\n",
       "       '2012-03-04', '2012-03-05', '2012-03-06', '2012-03-07',\n",
       "       '2012-03-08', '2012-03-09', '2012-03-10', '2012-03-11',\n",
       "       '2012-03-12', '2012-03-13', '2012-03-14', '2012-03-15',\n",
       "       '2012-03-16', '2012-03-17', '2012-03-18', '2012-03-19',\n",
       "       '2012-03-20', '2012-03-21', '2012-03-22', '2012-03-23',\n",
       "       '2012-03-24', '2012-03-25', '2012-03-26', '2012-03-27',\n",
       "       '2012-03-28', '2012-03-29', '2012-03-30', '2012-03-31',\n",
       "       '2012-04-01', '2012-04-02', '2012-04-03', '2012-04-04',\n",
       "       '2012-04-05', '2012-04-06', '2012-04-07', '2012-04-08',\n",
       "       '2012-04-09', '2012-04-10', '2012-04-11', '2012-04-12',\n",
       "       '2012-04-13', '2012-04-14', '2012-04-15', '2012-04-16',\n",
       "       '2012-04-17', '2012-04-18', '2012-04-19', '2012-04-20',\n",
       "       '2012-04-21', '2012-04-22', '2012-04-23', '2012-04-24',\n",
       "       '2012-04-25', '2012-04-26', '2012-04-27', '2012-04-28',\n",
       "       '2012-04-29', '2012-04-30', '2012-05-01', '2012-05-02',\n",
       "       '2012-05-03', '2012-05-04', '2012-05-05', '2012-05-06',\n",
       "       '2012-05-07', '2012-05-08', '2012-05-09', '2012-05-10',\n",
       "       '2012-05-11', '2012-05-12', '2012-05-13', '2012-05-14',\n",
       "       '2012-05-15', '2012-05-16', '2012-05-17', '2012-05-18',\n",
       "       '2012-05-19', '2012-05-20', '2012-05-21', '2012-05-22',\n",
       "       '2012-05-23', '2012-05-24', '2012-05-25', '2012-05-26',\n",
       "       '2012-05-27', '2012-05-28', '2012-05-29', '2012-05-30',\n",
       "       '2012-05-31', '2012-06-01', '2012-06-02', '2012-06-03',\n",
       "       '2012-06-04', '2012-06-05', '2012-06-06', '2012-06-07',\n",
       "       '2012-06-08', '2012-06-09', '2012-06-10', '2012-06-11',\n",
       "       '2012-06-12', '2012-06-13', '2012-06-14', '2012-06-15',\n",
       "       '2012-06-16', '2012-06-17', '2012-06-18', '2012-06-19',\n",
       "       '2012-06-20', '2012-06-21', '2012-06-22', '2012-06-23',\n",
       "       '2012-06-24', '2012-06-25', '2012-06-26', '2012-06-27',\n",
       "       '2012-06-28', '2012-06-29', '2012-06-30', '2012-07-01',\n",
       "       '2012-07-02', '2012-07-03', '2012-07-04', '2012-07-05',\n",
       "       '2012-07-06', '2012-07-07', '2012-07-08', '2012-07-09',\n",
       "       '2012-07-10', '2012-07-11', '2012-07-12', '2012-07-13',\n",
       "       '2012-07-14', '2012-07-15', '2012-07-16', '2012-07-17',\n",
       "       '2012-07-18', '2012-07-19', '2012-07-20', '2012-07-21',\n",
       "       '2012-07-22', '2012-07-23', '2012-07-24', '2012-07-25',\n",
       "       '2012-07-26', '2012-07-27', '2012-07-28', '2012-07-29',\n",
       "       '2012-07-30', '2012-07-31', '2012-08-01', '2012-08-02',\n",
       "       '2012-08-03', '2012-08-04', '2012-08-05', '2012-08-06',\n",
       "       '2012-08-07', '2012-08-08', '2012-08-09', '2012-08-10',\n",
       "       '2012-08-11', '2012-08-12', '2012-08-13', '2012-08-14',\n",
       "       '2012-08-15', '2012-08-16', '2012-08-17', '2012-08-18',\n",
       "       '2012-08-19', '2012-08-20', '2012-08-21', '2012-08-22',\n",
       "       '2012-08-23', '2012-08-24', '2012-08-25', '2012-08-26',\n",
       "       '2012-08-27', '2012-08-28', '2012-08-29', '2012-08-30',\n",
       "       '2012-08-31', '2012-09-01', '2012-09-02', '2012-09-03',\n",
       "       '2012-09-04', '2012-09-05', '2012-09-06', '2012-09-07',\n",
       "       '2012-09-08', '2012-09-09', '2012-09-10', '2012-09-11',\n",
       "       '2012-09-12', '2012-09-13', '2012-09-14', '2012-09-15',\n",
       "       '2012-09-16', '2012-09-17', '2012-09-18', '2012-09-19',\n",
       "       '2012-09-20', '2012-09-21', '2012-09-22', '2012-09-23',\n",
       "       '2012-09-24', '2012-09-25', '2012-09-26', '2012-09-27',\n",
       "       '2012-09-28', '2012-09-29', '2012-09-30', '2012-10-01',\n",
       "       '2012-10-02', '2012-10-03', '2012-10-04', '2012-10-05',\n",
       "       '2012-10-06', '2012-10-07', '2012-10-08', '2012-10-09',\n",
       "       '2012-10-10', '2012-10-11', '2012-10-12', '2012-10-13',\n",
       "       '2012-10-14', '2012-10-15', '2012-10-16', '2012-10-17',\n",
       "       '2012-10-18', '2012-10-19', '2012-10-20', '2012-10-21',\n",
       "       '2012-10-22', '2012-10-23', '2012-10-24', '2012-10-25',\n",
       "       '2012-10-26', '2012-10-27', '2012-10-28', '2012-10-29',\n",
       "       '2012-10-30', '2012-10-31', '2012-11-01', '2012-11-02',\n",
       "       '2012-11-03', '2012-11-04', '2012-11-05', '2012-11-06',\n",
       "       '2012-11-07', '2012-11-08', '2012-11-09', '2012-11-10',\n",
       "       '2012-11-11', '2012-11-12', '2012-11-13', '2012-11-14',\n",
       "       '2012-11-15', '2012-11-16', '2012-11-17', '2012-11-18',\n",
       "       '2012-11-19', '2012-11-20', '2012-11-21', '2012-11-22',\n",
       "       '2012-11-23', '2012-11-24', '2012-11-25', '2012-11-26',\n",
       "       '2012-11-27', '2012-11-28', '2012-11-29', '2012-11-30',\n",
       "       '2012-12-01', '2012-12-02', '2012-12-03', '2012-12-04',\n",
       "       '2012-12-05', '2012-12-06', '2012-12-07', '2012-12-08',\n",
       "       '2012-12-09', '2012-12-10', '2012-12-11', '2012-12-12',\n",
       "       '2012-12-13', '2012-12-14', '2012-12-15', '2012-12-16',\n",
       "       '2012-12-17', '2012-12-18', '2012-12-19', '2012-12-20',\n",
       "       '2012-12-21', '2012-12-22', '2012-12-23', '2012-12-24',\n",
       "       '2012-12-25', '2012-12-26', '2012-12-27', '2012-12-28',\n",
       "       '2012-12-29', '2012-12-30', '2012-12-31'], dtype=object)"
      ]
     },
     "execution_count": 9,
     "metadata": {},
     "output_type": "execute_result"
    }
   ],
   "source": [
    "bikes.dteday.unique() "
   ]
  },
  {
   "cell_type": "markdown",
   "id": "3e181543",
   "metadata": {},
   "source": [
    "Most of the date data is from 2011 and 2012, starting from Jan 2011 to Dec 2012"
   ]
  },
  {
   "cell_type": "code",
   "execution_count": 10,
   "id": "d2aaa6c5",
   "metadata": {},
   "outputs": [
    {
     "data": {
      "text/plain": [
       "0        1\n",
       "1        1\n",
       "2        1\n",
       "3        1\n",
       "4        1\n",
       "        ..\n",
       "17374    1\n",
       "17375    1\n",
       "17376    1\n",
       "17377    1\n",
       "17378    1\n",
       "Name: season, Length: 17379, dtype: int64"
      ]
     },
     "execution_count": 10,
     "metadata": {},
     "output_type": "execute_result"
    }
   ],
   "source": [
    "bikes.season"
   ]
  },
  {
   "cell_type": "code",
   "execution_count": 11,
   "id": "928f0a2d",
   "metadata": {},
   "outputs": [
    {
     "data": {
      "text/plain": [
       "array([1, 2, 3, 4], dtype=int64)"
      ]
     },
     "execution_count": 11,
     "metadata": {},
     "output_type": "execute_result"
    }
   ],
   "source": [
    "bikes.season.unique()"
   ]
  },
  {
   "cell_type": "markdown",
   "id": "e52392bf",
   "metadata": {},
   "source": [
    "There are 4 unique season in the current dataset"
   ]
  },
  {
   "cell_type": "code",
   "execution_count": 12,
   "id": "9be7635e",
   "metadata": {},
   "outputs": [
    {
     "data": {
      "text/plain": [
       "0        0\n",
       "1        0\n",
       "2        0\n",
       "3        0\n",
       "4        0\n",
       "        ..\n",
       "17374    1\n",
       "17375    1\n",
       "17376    1\n",
       "17377    1\n",
       "17378    1\n",
       "Name: yr, Length: 17379, dtype: int64"
      ]
     },
     "execution_count": 12,
     "metadata": {},
     "output_type": "execute_result"
    }
   ],
   "source": [
    "bikes.yr"
   ]
  },
  {
   "cell_type": "code",
   "execution_count": 13,
   "id": "8eb98719",
   "metadata": {},
   "outputs": [
    {
     "data": {
      "text/plain": [
       "array([0, 1], dtype=int64)"
      ]
     },
     "execution_count": 13,
     "metadata": {},
     "output_type": "execute_result"
    }
   ],
   "source": [
    "bikes.yr.unique()"
   ]
  },
  {
   "cell_type": "markdown",
   "id": "2c84adfa",
   "metadata": {},
   "source": [
    "Again the yr information can be considered as 0 for year 2011 and 1 for year 2012"
   ]
  },
  {
   "cell_type": "code",
   "execution_count": 14,
   "id": "d62315fd",
   "metadata": {},
   "outputs": [
    {
     "data": {
      "text/plain": [
       "0         1\n",
       "1         1\n",
       "2         1\n",
       "3         1\n",
       "4         1\n",
       "         ..\n",
       "17374    12\n",
       "17375    12\n",
       "17376    12\n",
       "17377    12\n",
       "17378    12\n",
       "Name: mnth, Length: 17379, dtype: int64"
      ]
     },
     "execution_count": 14,
     "metadata": {},
     "output_type": "execute_result"
    }
   ],
   "source": [
    "bikes.mnth"
   ]
  },
  {
   "cell_type": "code",
   "execution_count": 15,
   "id": "2aefe4e4",
   "metadata": {},
   "outputs": [
    {
     "data": {
      "text/plain": [
       "array([ 1,  2,  3,  4,  5,  6,  7,  8,  9, 10, 11, 12], dtype=int64)"
      ]
     },
     "execution_count": 15,
     "metadata": {},
     "output_type": "execute_result"
    }
   ],
   "source": [
    "bikes.mnth.unique()"
   ]
  },
  {
   "cell_type": "markdown",
   "id": "e10ebe9e",
   "metadata": {},
   "source": [
    "We have bikes shared across all the 12 months for the year 2011 & 2012"
   ]
  },
  {
   "cell_type": "code",
   "execution_count": 16,
   "id": "c73beca0",
   "metadata": {},
   "outputs": [
    {
     "data": {
      "text/plain": [
       "0         0\n",
       "1         1\n",
       "2         2\n",
       "3         3\n",
       "4         4\n",
       "         ..\n",
       "17374    19\n",
       "17375    20\n",
       "17376    21\n",
       "17377    22\n",
       "17378    23\n",
       "Name: hr, Length: 17379, dtype: int64"
      ]
     },
     "execution_count": 16,
     "metadata": {},
     "output_type": "execute_result"
    }
   ],
   "source": [
    "bikes.hr"
   ]
  },
  {
   "cell_type": "code",
   "execution_count": 17,
   "id": "8798a023",
   "metadata": {},
   "outputs": [
    {
     "data": {
      "text/plain": [
       "array([ 0,  1,  2,  3,  4,  5,  6,  7,  8,  9, 10, 11, 12, 13, 14, 15, 16,\n",
       "       17, 18, 19, 20, 21, 22, 23], dtype=int64)"
      ]
     },
     "execution_count": 17,
     "metadata": {},
     "output_type": "execute_result"
    }
   ],
   "source": [
    "bikes.hr.unique()"
   ]
  },
  {
   "cell_type": "markdown",
   "id": "d199959c",
   "metadata": {},
   "source": [
    "Data analysis for Bikes shared 24 hours round the clock "
   ]
  },
  {
   "cell_type": "code",
   "execution_count": 18,
   "id": "0fc94084",
   "metadata": {},
   "outputs": [
    {
     "data": {
      "text/plain": [
       "0        0\n",
       "1        0\n",
       "2        0\n",
       "3        0\n",
       "4        0\n",
       "        ..\n",
       "17374    0\n",
       "17375    0\n",
       "17376    0\n",
       "17377    0\n",
       "17378    0\n",
       "Name: holiday, Length: 17379, dtype: int64"
      ]
     },
     "execution_count": 18,
     "metadata": {},
     "output_type": "execute_result"
    }
   ],
   "source": [
    "bikes.holiday"
   ]
  },
  {
   "cell_type": "code",
   "execution_count": 19,
   "id": "8ee8dbe2",
   "metadata": {},
   "outputs": [
    {
     "data": {
      "text/plain": [
       "array([0, 1], dtype=int64)"
      ]
     },
     "execution_count": 19,
     "metadata": {},
     "output_type": "execute_result"
    }
   ],
   "source": [
    "bikes.holiday.unique()"
   ]
  },
  {
   "cell_type": "markdown",
   "id": "e44c4aa9",
   "metadata": {},
   "source": [
    "Here 0 represents no holiday and 1 for holiday"
   ]
  },
  {
   "cell_type": "code",
   "execution_count": 20,
   "id": "0f928231",
   "metadata": {},
   "outputs": [
    {
     "data": {
      "text/plain": [
       "0        6\n",
       "1        6\n",
       "2        6\n",
       "3        6\n",
       "4        6\n",
       "        ..\n",
       "17374    1\n",
       "17375    1\n",
       "17376    1\n",
       "17377    1\n",
       "17378    1\n",
       "Name: weekday, Length: 17379, dtype: int64"
      ]
     },
     "execution_count": 20,
     "metadata": {},
     "output_type": "execute_result"
    }
   ],
   "source": [
    "bikes.weekday"
   ]
  },
  {
   "cell_type": "code",
   "execution_count": 21,
   "id": "66f45051",
   "metadata": {},
   "outputs": [
    {
     "data": {
      "text/plain": [
       "array([6, 0, 1, 2, 3, 4, 5], dtype=int64)"
      ]
     },
     "execution_count": 21,
     "metadata": {},
     "output_type": "execute_result"
    }
   ],
   "source": [
    "bikes.weekday.unique()"
   ]
  },
  {
   "cell_type": "markdown",
   "id": "e40b852c",
   "metadata": {},
   "source": [
    "Bikes shared round the week from sunday to monday"
   ]
  },
  {
   "cell_type": "code",
   "execution_count": 22,
   "id": "4a82bda1",
   "metadata": {},
   "outputs": [
    {
     "data": {
      "text/plain": [
       "0        0\n",
       "1        0\n",
       "2        0\n",
       "3        0\n",
       "4        0\n",
       "        ..\n",
       "17374    1\n",
       "17375    1\n",
       "17376    1\n",
       "17377    1\n",
       "17378    1\n",
       "Name: workingday, Length: 17379, dtype: int64"
      ]
     },
     "execution_count": 22,
     "metadata": {},
     "output_type": "execute_result"
    }
   ],
   "source": [
    "bikes.workingday"
   ]
  },
  {
   "cell_type": "code",
   "execution_count": 23,
   "id": "36993455",
   "metadata": {},
   "outputs": [
    {
     "data": {
      "text/plain": [
       "array([0, 1], dtype=int64)"
      ]
     },
     "execution_count": 23,
     "metadata": {},
     "output_type": "execute_result"
    }
   ],
   "source": [
    "bikes.workingday.unique()"
   ]
  },
  {
   "cell_type": "markdown",
   "id": "af67b11c",
   "metadata": {},
   "source": [
    "Here 0 for not workig days and 1 for working days"
   ]
  },
  {
   "cell_type": "code",
   "execution_count": 24,
   "id": "37935e37",
   "metadata": {},
   "outputs": [
    {
     "data": {
      "text/plain": [
       "0        1\n",
       "1        1\n",
       "2        1\n",
       "3        1\n",
       "4        1\n",
       "        ..\n",
       "17374    2\n",
       "17375    2\n",
       "17376    1\n",
       "17377    1\n",
       "17378    1\n",
       "Name: weathersit, Length: 17379, dtype: int64"
      ]
     },
     "execution_count": 24,
     "metadata": {},
     "output_type": "execute_result"
    }
   ],
   "source": [
    "bikes.weathersit"
   ]
  },
  {
   "cell_type": "code",
   "execution_count": 25,
   "id": "8c0418ba",
   "metadata": {},
   "outputs": [
    {
     "data": {
      "text/plain": [
       "array([1, 2, 3, 4], dtype=int64)"
      ]
     },
     "execution_count": 25,
     "metadata": {},
     "output_type": "execute_result"
    }
   ],
   "source": [
    "bikes.weathersit.unique()"
   ]
  },
  {
   "cell_type": "markdown",
   "id": "39dffe22",
   "metadata": {},
   "source": [
    "weathersit  has four values - 1 , 2, 3, 4"
   ]
  },
  {
   "cell_type": "markdown",
   "id": "2ba0b95e",
   "metadata": {},
   "source": [
    "The other columns have data which may not considered for uniqueness like temp, windsped, atemp etc"
   ]
  },
  {
   "cell_type": "code",
   "execution_count": 26,
   "id": "482be42e",
   "metadata": {},
   "outputs": [
    {
     "data": {
      "text/plain": [
       "instant       0\n",
       "dteday        0\n",
       "season        0\n",
       "yr            0\n",
       "mnth          0\n",
       "hr            0\n",
       "holiday       0\n",
       "weekday       0\n",
       "workingday    0\n",
       "weathersit    0\n",
       "temp          0\n",
       "atemp         0\n",
       "hum           0\n",
       "windspeed     0\n",
       "casual        0\n",
       "registered    0\n",
       "cnt           0\n",
       "dtype: int64"
      ]
     },
     "execution_count": 26,
     "metadata": {},
     "output_type": "execute_result"
    }
   ],
   "source": [
    "bikes.isnull().sum()  # checkig for missing values, null values etc"
   ]
  },
  {
   "cell_type": "code",
   "execution_count": 27,
   "id": "140eda16",
   "metadata": {},
   "outputs": [
    {
     "data": {
      "text/plain": [
       "instant       0\n",
       "dteday        0\n",
       "season        0\n",
       "yr            0\n",
       "mnth          0\n",
       "hr            0\n",
       "holiday       0\n",
       "weekday       0\n",
       "workingday    0\n",
       "weathersit    0\n",
       "temp          0\n",
       "atemp         0\n",
       "hum           0\n",
       "windspeed     0\n",
       "casual        0\n",
       "registered    0\n",
       "cnt           0\n",
       "dtype: int64"
      ]
     },
     "execution_count": 27,
     "metadata": {},
     "output_type": "execute_result"
    }
   ],
   "source": [
    "bikes.isna().sum()  # Checking for NA values"
   ]
  },
  {
   "cell_type": "code",
   "execution_count": 28,
   "id": "a6a3db3f",
   "metadata": {},
   "outputs": [
    {
     "data": {
      "text/plain": [
       "0"
      ]
     },
     "execution_count": 28,
     "metadata": {},
     "output_type": "execute_result"
    }
   ],
   "source": [
    "bikes.dteday.isnull().sum()  # checking for null values"
   ]
  },
  {
   "cell_type": "code",
   "execution_count": 29,
   "id": "32de5707",
   "metadata": {},
   "outputs": [
    {
     "data": {
      "text/plain": [
       "0        False\n",
       "1        False\n",
       "2        False\n",
       "3        False\n",
       "4        False\n",
       "         ...  \n",
       "17374    False\n",
       "17375    False\n",
       "17376    False\n",
       "17377    False\n",
       "17378    False\n",
       "Length: 17379, dtype: bool"
      ]
     },
     "execution_count": 29,
     "metadata": {},
     "output_type": "execute_result"
    }
   ],
   "source": [
    "bikes.duplicated()"
   ]
  },
  {
   "cell_type": "code",
   "execution_count": 30,
   "id": "683beeca",
   "metadata": {},
   "outputs": [
    {
     "data": {
      "text/plain": [
       "0"
      ]
     },
     "execution_count": 30,
     "metadata": {},
     "output_type": "execute_result"
    }
   ],
   "source": [
    "bikes.duplicated().sum() # checking for duplicate records in the dataframe"
   ]
  },
  {
   "cell_type": "markdown",
   "id": "6ddbf582",
   "metadata": {},
   "source": [
    "<b> Data transformation <b>"
   ]
  },
  {
   "cell_type": "markdown",
   "id": "d54c3a81",
   "metadata": {},
   "source": [
    "The column dte can be converted to datetime  for better analysis"
   ]
  },
  {
   "cell_type": "code",
   "execution_count": 31,
   "id": "a9558777",
   "metadata": {},
   "outputs": [
    {
     "data": {
      "text/plain": [
       "0        2011-01-01\n",
       "1        2011-01-01\n",
       "2        2011-01-01\n",
       "3        2011-01-01\n",
       "4        2011-01-01\n",
       "            ...    \n",
       "17374    2012-12-31\n",
       "17375    2012-12-31\n",
       "17376    2012-12-31\n",
       "17377    2012-12-31\n",
       "17378    2012-12-31\n",
       "Name: dteday, Length: 17379, dtype: object"
      ]
     },
     "execution_count": 31,
     "metadata": {},
     "output_type": "execute_result"
    }
   ],
   "source": [
    "bikes.dteday"
   ]
  },
  {
   "cell_type": "code",
   "execution_count": 32,
   "id": "ae758e74",
   "metadata": {},
   "outputs": [
    {
     "data": {
      "text/plain": [
       "0    2011-01-01\n",
       "1    2011-01-01\n",
       "2    2011-01-01\n",
       "3    2011-01-01\n",
       "4    2011-01-01\n",
       "Name: dteday, dtype: object"
      ]
     },
     "execution_count": 32,
     "metadata": {},
     "output_type": "execute_result"
    }
   ],
   "source": [
    "bikes.dteday.head()"
   ]
  },
  {
   "cell_type": "code",
   "execution_count": 33,
   "id": "c9ca5a61",
   "metadata": {},
   "outputs": [],
   "source": [
    "dte = pd.to_datetime(bikes.dteday)"
   ]
  },
  {
   "cell_type": "code",
   "execution_count": 34,
   "id": "c6bbc56d",
   "metadata": {},
   "outputs": [
    {
     "data": {
      "text/plain": [
       "0       2011-01-01\n",
       "1       2011-01-01\n",
       "2       2011-01-01\n",
       "3       2011-01-01\n",
       "4       2011-01-01\n",
       "           ...    \n",
       "17374   2012-12-31\n",
       "17375   2012-12-31\n",
       "17376   2012-12-31\n",
       "17377   2012-12-31\n",
       "17378   2012-12-31\n",
       "Name: dteday, Length: 17379, dtype: datetime64[ns]"
      ]
     },
     "execution_count": 34,
     "metadata": {},
     "output_type": "execute_result"
    }
   ],
   "source": [
    "dte"
   ]
  },
  {
   "cell_type": "code",
   "execution_count": 35,
   "id": "dcd1bf25",
   "metadata": {},
   "outputs": [
    {
     "data": {
      "text/plain": [
       "pandas.core.series.Series"
      ]
     },
     "execution_count": 35,
     "metadata": {},
     "output_type": "execute_result"
    }
   ],
   "source": [
    "type(dte)"
   ]
  },
  {
   "cell_type": "markdown",
   "id": "d1ac08e0",
   "metadata": {},
   "source": [
    "<b> Feature Extraction<b>"
   ]
  },
  {
   "cell_type": "markdown",
   "id": "8513ef31",
   "metadata": {},
   "source": [
    "Now extract year, month and day from \"dte\" series."
   ]
  },
  {
   "cell_type": "code",
   "execution_count": 36,
   "id": "27211e7d",
   "metadata": {},
   "outputs": [
    {
     "data": {
      "text/plain": [
       "<pandas.core.indexes.accessors.DatetimeProperties object at 0x00000222BDF23190>"
      ]
     },
     "execution_count": 36,
     "metadata": {},
     "output_type": "execute_result"
    }
   ],
   "source": [
    "dte.dt"
   ]
  },
  {
   "cell_type": "code",
   "execution_count": 37,
   "id": "dd6c1800",
   "metadata": {},
   "outputs": [
    {
     "data": {
      "text/plain": [
       "0    2011\n",
       "1    2011\n",
       "2    2011\n",
       "3    2011\n",
       "4    2011\n",
       "Name: dteday, dtype: int64"
      ]
     },
     "execution_count": 37,
     "metadata": {},
     "output_type": "execute_result"
    }
   ],
   "source": [
    "year=dte.dt.year\n",
    "year.head()"
   ]
  },
  {
   "cell_type": "markdown",
   "id": "dd1f460d",
   "metadata": {},
   "source": [
    "Add year series into the data frame."
   ]
  },
  {
   "cell_type": "code",
   "execution_count": 38,
   "id": "4d34fcb3",
   "metadata": {},
   "outputs": [
    {
     "name": "stderr",
     "output_type": "stream",
     "text": [
      "C:\\Users\\DEEPAM\\AppData\\Local\\Temp\\ipykernel_26156\\343711501.py:1: UserWarning: Pandas doesn't allow columns to be created via a new attribute name - see https://pandas.pydata.org/pandas-docs/stable/indexing.html#attribute-access\n",
      "  bikes.year=year\n"
     ]
    }
   ],
   "source": [
    "bikes.year=year"
   ]
  },
  {
   "cell_type": "code",
   "execution_count": 39,
   "id": "e215db76",
   "metadata": {},
   "outputs": [],
   "source": [
    "bikes['year']=year"
   ]
  },
  {
   "cell_type": "code",
   "execution_count": 40,
   "id": "f4bc946a",
   "metadata": {},
   "outputs": [
    {
     "data": {
      "text/html": [
       "<div>\n",
       "<style scoped>\n",
       "    .dataframe tbody tr th:only-of-type {\n",
       "        vertical-align: middle;\n",
       "    }\n",
       "\n",
       "    .dataframe tbody tr th {\n",
       "        vertical-align: top;\n",
       "    }\n",
       "\n",
       "    .dataframe thead th {\n",
       "        text-align: right;\n",
       "    }\n",
       "</style>\n",
       "<table border=\"1\" class=\"dataframe\">\n",
       "  <thead>\n",
       "    <tr style=\"text-align: right;\">\n",
       "      <th></th>\n",
       "      <th>instant</th>\n",
       "      <th>dteday</th>\n",
       "      <th>season</th>\n",
       "      <th>yr</th>\n",
       "      <th>mnth</th>\n",
       "      <th>hr</th>\n",
       "      <th>holiday</th>\n",
       "      <th>weekday</th>\n",
       "      <th>workingday</th>\n",
       "      <th>weathersit</th>\n",
       "      <th>temp</th>\n",
       "      <th>atemp</th>\n",
       "      <th>hum</th>\n",
       "      <th>windspeed</th>\n",
       "      <th>casual</th>\n",
       "      <th>registered</th>\n",
       "      <th>cnt</th>\n",
       "      <th>year</th>\n",
       "    </tr>\n",
       "  </thead>\n",
       "  <tbody>\n",
       "    <tr>\n",
       "      <th>0</th>\n",
       "      <td>1</td>\n",
       "      <td>2011-01-01</td>\n",
       "      <td>1</td>\n",
       "      <td>0</td>\n",
       "      <td>1</td>\n",
       "      <td>0</td>\n",
       "      <td>0</td>\n",
       "      <td>6</td>\n",
       "      <td>0</td>\n",
       "      <td>1</td>\n",
       "      <td>0.24</td>\n",
       "      <td>0.2879</td>\n",
       "      <td>0.81</td>\n",
       "      <td>0.0</td>\n",
       "      <td>3</td>\n",
       "      <td>13</td>\n",
       "      <td>16</td>\n",
       "      <td>2011</td>\n",
       "    </tr>\n",
       "    <tr>\n",
       "      <th>1</th>\n",
       "      <td>2</td>\n",
       "      <td>2011-01-01</td>\n",
       "      <td>1</td>\n",
       "      <td>0</td>\n",
       "      <td>1</td>\n",
       "      <td>1</td>\n",
       "      <td>0</td>\n",
       "      <td>6</td>\n",
       "      <td>0</td>\n",
       "      <td>1</td>\n",
       "      <td>0.22</td>\n",
       "      <td>0.2727</td>\n",
       "      <td>0.80</td>\n",
       "      <td>0.0</td>\n",
       "      <td>8</td>\n",
       "      <td>32</td>\n",
       "      <td>40</td>\n",
       "      <td>2011</td>\n",
       "    </tr>\n",
       "    <tr>\n",
       "      <th>2</th>\n",
       "      <td>3</td>\n",
       "      <td>2011-01-01</td>\n",
       "      <td>1</td>\n",
       "      <td>0</td>\n",
       "      <td>1</td>\n",
       "      <td>2</td>\n",
       "      <td>0</td>\n",
       "      <td>6</td>\n",
       "      <td>0</td>\n",
       "      <td>1</td>\n",
       "      <td>0.22</td>\n",
       "      <td>0.2727</td>\n",
       "      <td>0.80</td>\n",
       "      <td>0.0</td>\n",
       "      <td>5</td>\n",
       "      <td>27</td>\n",
       "      <td>32</td>\n",
       "      <td>2011</td>\n",
       "    </tr>\n",
       "    <tr>\n",
       "      <th>3</th>\n",
       "      <td>4</td>\n",
       "      <td>2011-01-01</td>\n",
       "      <td>1</td>\n",
       "      <td>0</td>\n",
       "      <td>1</td>\n",
       "      <td>3</td>\n",
       "      <td>0</td>\n",
       "      <td>6</td>\n",
       "      <td>0</td>\n",
       "      <td>1</td>\n",
       "      <td>0.24</td>\n",
       "      <td>0.2879</td>\n",
       "      <td>0.75</td>\n",
       "      <td>0.0</td>\n",
       "      <td>3</td>\n",
       "      <td>10</td>\n",
       "      <td>13</td>\n",
       "      <td>2011</td>\n",
       "    </tr>\n",
       "    <tr>\n",
       "      <th>4</th>\n",
       "      <td>5</td>\n",
       "      <td>2011-01-01</td>\n",
       "      <td>1</td>\n",
       "      <td>0</td>\n",
       "      <td>1</td>\n",
       "      <td>4</td>\n",
       "      <td>0</td>\n",
       "      <td>6</td>\n",
       "      <td>0</td>\n",
       "      <td>1</td>\n",
       "      <td>0.24</td>\n",
       "      <td>0.2879</td>\n",
       "      <td>0.75</td>\n",
       "      <td>0.0</td>\n",
       "      <td>0</td>\n",
       "      <td>1</td>\n",
       "      <td>1</td>\n",
       "      <td>2011</td>\n",
       "    </tr>\n",
       "  </tbody>\n",
       "</table>\n",
       "</div>"
      ],
      "text/plain": [
       "   instant      dteday  season  yr  mnth  hr  holiday  weekday  workingday  \\\n",
       "0        1  2011-01-01       1   0     1   0        0        6           0   \n",
       "1        2  2011-01-01       1   0     1   1        0        6           0   \n",
       "2        3  2011-01-01       1   0     1   2        0        6           0   \n",
       "3        4  2011-01-01       1   0     1   3        0        6           0   \n",
       "4        5  2011-01-01       1   0     1   4        0        6           0   \n",
       "\n",
       "   weathersit  temp   atemp   hum  windspeed  casual  registered  cnt  year  \n",
       "0           1  0.24  0.2879  0.81        0.0       3          13   16  2011  \n",
       "1           1  0.22  0.2727  0.80        0.0       8          32   40  2011  \n",
       "2           1  0.22  0.2727  0.80        0.0       5          27   32  2011  \n",
       "3           1  0.24  0.2879  0.75        0.0       3          10   13  2011  \n",
       "4           1  0.24  0.2879  0.75        0.0       0           1    1  2011  "
      ]
     },
     "execution_count": 40,
     "metadata": {},
     "output_type": "execute_result"
    }
   ],
   "source": [
    "bikes.head()"
   ]
  },
  {
   "cell_type": "code",
   "execution_count": 41,
   "id": "131605d6",
   "metadata": {},
   "outputs": [
    {
     "data": {
      "text/plain": [
       "17379"
      ]
     },
     "execution_count": 41,
     "metadata": {},
     "output_type": "execute_result"
    }
   ],
   "source": [
    "bikes.year.count()"
   ]
  },
  {
   "cell_type": "markdown",
   "id": "3c54e049",
   "metadata": {},
   "source": [
    "<b> Removing Unused Features or Features that does not impact the dataset </b>"
   ]
  },
  {
   "cell_type": "markdown",
   "id": "d0ad2c62",
   "metadata": {},
   "source": [
    "Some of the features like \"instant\" does not do any value addition for the analysis apart from identifying the unique record. But same thing can be induced from the row label, hence the \"instant\" feature can be removed."
   ]
  },
  {
   "cell_type": "code",
   "execution_count": 42,
   "id": "9233e2e6",
   "metadata": {},
   "outputs": [],
   "source": [
    "bikes.drop([\"instant\"], axis=1, inplace=True)"
   ]
  },
  {
   "cell_type": "code",
   "execution_count": 43,
   "id": "b2da9d3f",
   "metadata": {},
   "outputs": [
    {
     "data": {
      "text/plain": [
       "Index(['dteday', 'season', 'yr', 'mnth', 'hr', 'holiday', 'weekday',\n",
       "       'workingday', 'weathersit', 'temp', 'atemp', 'hum', 'windspeed',\n",
       "       'casual', 'registered', 'cnt', 'year'],\n",
       "      dtype='object')"
      ]
     },
     "execution_count": 43,
     "metadata": {},
     "output_type": "execute_result"
    }
   ],
   "source": [
    "bikes.columns"
   ]
  },
  {
   "cell_type": "code",
   "execution_count": 44,
   "id": "9cf9c0ef",
   "metadata": {},
   "outputs": [
    {
     "data": {
      "text/html": [
       "<div>\n",
       "<style scoped>\n",
       "    .dataframe tbody tr th:only-of-type {\n",
       "        vertical-align: middle;\n",
       "    }\n",
       "\n",
       "    .dataframe tbody tr th {\n",
       "        vertical-align: top;\n",
       "    }\n",
       "\n",
       "    .dataframe thead th {\n",
       "        text-align: right;\n",
       "    }\n",
       "</style>\n",
       "<table border=\"1\" class=\"dataframe\">\n",
       "  <thead>\n",
       "    <tr style=\"text-align: right;\">\n",
       "      <th></th>\n",
       "      <th>dteday</th>\n",
       "      <th>season</th>\n",
       "      <th>yr</th>\n",
       "      <th>mnth</th>\n",
       "      <th>hr</th>\n",
       "      <th>holiday</th>\n",
       "      <th>weekday</th>\n",
       "      <th>workingday</th>\n",
       "      <th>weathersit</th>\n",
       "      <th>temp</th>\n",
       "      <th>atemp</th>\n",
       "      <th>hum</th>\n",
       "      <th>windspeed</th>\n",
       "      <th>casual</th>\n",
       "      <th>registered</th>\n",
       "      <th>cnt</th>\n",
       "      <th>year</th>\n",
       "    </tr>\n",
       "  </thead>\n",
       "  <tbody>\n",
       "    <tr>\n",
       "      <th>0</th>\n",
       "      <td>2011-01-01</td>\n",
       "      <td>1</td>\n",
       "      <td>0</td>\n",
       "      <td>1</td>\n",
       "      <td>0</td>\n",
       "      <td>0</td>\n",
       "      <td>6</td>\n",
       "      <td>0</td>\n",
       "      <td>1</td>\n",
       "      <td>0.24</td>\n",
       "      <td>0.2879</td>\n",
       "      <td>0.81</td>\n",
       "      <td>0.0</td>\n",
       "      <td>3</td>\n",
       "      <td>13</td>\n",
       "      <td>16</td>\n",
       "      <td>2011</td>\n",
       "    </tr>\n",
       "    <tr>\n",
       "      <th>1</th>\n",
       "      <td>2011-01-01</td>\n",
       "      <td>1</td>\n",
       "      <td>0</td>\n",
       "      <td>1</td>\n",
       "      <td>1</td>\n",
       "      <td>0</td>\n",
       "      <td>6</td>\n",
       "      <td>0</td>\n",
       "      <td>1</td>\n",
       "      <td>0.22</td>\n",
       "      <td>0.2727</td>\n",
       "      <td>0.80</td>\n",
       "      <td>0.0</td>\n",
       "      <td>8</td>\n",
       "      <td>32</td>\n",
       "      <td>40</td>\n",
       "      <td>2011</td>\n",
       "    </tr>\n",
       "    <tr>\n",
       "      <th>2</th>\n",
       "      <td>2011-01-01</td>\n",
       "      <td>1</td>\n",
       "      <td>0</td>\n",
       "      <td>1</td>\n",
       "      <td>2</td>\n",
       "      <td>0</td>\n",
       "      <td>6</td>\n",
       "      <td>0</td>\n",
       "      <td>1</td>\n",
       "      <td>0.22</td>\n",
       "      <td>0.2727</td>\n",
       "      <td>0.80</td>\n",
       "      <td>0.0</td>\n",
       "      <td>5</td>\n",
       "      <td>27</td>\n",
       "      <td>32</td>\n",
       "      <td>2011</td>\n",
       "    </tr>\n",
       "    <tr>\n",
       "      <th>3</th>\n",
       "      <td>2011-01-01</td>\n",
       "      <td>1</td>\n",
       "      <td>0</td>\n",
       "      <td>1</td>\n",
       "      <td>3</td>\n",
       "      <td>0</td>\n",
       "      <td>6</td>\n",
       "      <td>0</td>\n",
       "      <td>1</td>\n",
       "      <td>0.24</td>\n",
       "      <td>0.2879</td>\n",
       "      <td>0.75</td>\n",
       "      <td>0.0</td>\n",
       "      <td>3</td>\n",
       "      <td>10</td>\n",
       "      <td>13</td>\n",
       "      <td>2011</td>\n",
       "    </tr>\n",
       "    <tr>\n",
       "      <th>4</th>\n",
       "      <td>2011-01-01</td>\n",
       "      <td>1</td>\n",
       "      <td>0</td>\n",
       "      <td>1</td>\n",
       "      <td>4</td>\n",
       "      <td>0</td>\n",
       "      <td>6</td>\n",
       "      <td>0</td>\n",
       "      <td>1</td>\n",
       "      <td>0.24</td>\n",
       "      <td>0.2879</td>\n",
       "      <td>0.75</td>\n",
       "      <td>0.0</td>\n",
       "      <td>0</td>\n",
       "      <td>1</td>\n",
       "      <td>1</td>\n",
       "      <td>2011</td>\n",
       "    </tr>\n",
       "  </tbody>\n",
       "</table>\n",
       "</div>"
      ],
      "text/plain": [
       "       dteday  season  yr  mnth  hr  holiday  weekday  workingday  weathersit  \\\n",
       "0  2011-01-01       1   0     1   0        0        6           0           1   \n",
       "1  2011-01-01       1   0     1   1        0        6           0           1   \n",
       "2  2011-01-01       1   0     1   2        0        6           0           1   \n",
       "3  2011-01-01       1   0     1   3        0        6           0           1   \n",
       "4  2011-01-01       1   0     1   4        0        6           0           1   \n",
       "\n",
       "   temp   atemp   hum  windspeed  casual  registered  cnt  year  \n",
       "0  0.24  0.2879  0.81        0.0       3          13   16  2011  \n",
       "1  0.22  0.2727  0.80        0.0       8          32   40  2011  \n",
       "2  0.22  0.2727  0.80        0.0       5          27   32  2011  \n",
       "3  0.24  0.2879  0.75        0.0       3          10   13  2011  \n",
       "4  0.24  0.2879  0.75        0.0       0           1    1  2011  "
      ]
     },
     "execution_count": 44,
     "metadata": {},
     "output_type": "execute_result"
    }
   ],
   "source": [
    "bikes.head()"
   ]
  },
  {
   "cell_type": "markdown",
   "id": "00a2fe64",
   "metadata": {},
   "source": [
    "Similary, \"cnt\" attribute can be derived from \"casual\" and \"registered\" attributes. So \"cnt\" is redundant information, hence can be removed."
   ]
  },
  {
   "cell_type": "code",
   "execution_count": 45,
   "id": "a49c01e2",
   "metadata": {},
   "outputs": [],
   "source": [
    "bikes.drop([\"cnt\"], axis=1, inplace=True)"
   ]
  },
  {
   "cell_type": "code",
   "execution_count": 46,
   "id": "30aeed41",
   "metadata": {},
   "outputs": [
    {
     "data": {
      "text/plain": [
       "Index(['dteday', 'season', 'yr', 'mnth', 'hr', 'holiday', 'weekday',\n",
       "       'workingday', 'weathersit', 'temp', 'atemp', 'hum', 'windspeed',\n",
       "       'casual', 'registered', 'year'],\n",
       "      dtype='object')"
      ]
     },
     "execution_count": 46,
     "metadata": {},
     "output_type": "execute_result"
    }
   ],
   "source": [
    "bikes.columns"
   ]
  },
  {
   "cell_type": "markdown",
   "id": "56844ebc",
   "metadata": {},
   "source": [
    "<b> Data Filtering based on year<b>"
   ]
  },
  {
   "cell_type": "markdown",
   "id": "edce30aa",
   "metadata": {},
   "source": [
    "Lets divide the data frame into two different data frames each one containing different year - 2011 & 2012"
   ]
  },
  {
   "cell_type": "code",
   "execution_count": 47,
   "id": "f681028b",
   "metadata": {},
   "outputs": [
    {
     "data": {
      "text/plain": [
       "0         True\n",
       "1         True\n",
       "2         True\n",
       "3         True\n",
       "4         True\n",
       "         ...  \n",
       "17374    False\n",
       "17375    False\n",
       "17376    False\n",
       "17377    False\n",
       "17378    False\n",
       "Name: dteday, Length: 17379, dtype: bool"
      ]
     },
     "execution_count": 47,
     "metadata": {},
     "output_type": "execute_result"
    }
   ],
   "source": [
    "bikes.year == 2011"
   ]
  },
  {
   "cell_type": "code",
   "execution_count": 48,
   "id": "05a11563",
   "metadata": {},
   "outputs": [
    {
     "data": {
      "text/html": [
       "<div>\n",
       "<style scoped>\n",
       "    .dataframe tbody tr th:only-of-type {\n",
       "        vertical-align: middle;\n",
       "    }\n",
       "\n",
       "    .dataframe tbody tr th {\n",
       "        vertical-align: top;\n",
       "    }\n",
       "\n",
       "    .dataframe thead th {\n",
       "        text-align: right;\n",
       "    }\n",
       "</style>\n",
       "<table border=\"1\" class=\"dataframe\">\n",
       "  <thead>\n",
       "    <tr style=\"text-align: right;\">\n",
       "      <th></th>\n",
       "      <th>dteday</th>\n",
       "      <th>season</th>\n",
       "      <th>yr</th>\n",
       "      <th>mnth</th>\n",
       "      <th>hr</th>\n",
       "      <th>holiday</th>\n",
       "      <th>weekday</th>\n",
       "      <th>workingday</th>\n",
       "      <th>weathersit</th>\n",
       "      <th>temp</th>\n",
       "      <th>atemp</th>\n",
       "      <th>hum</th>\n",
       "      <th>windspeed</th>\n",
       "      <th>casual</th>\n",
       "      <th>registered</th>\n",
       "      <th>year</th>\n",
       "    </tr>\n",
       "  </thead>\n",
       "  <tbody>\n",
       "    <tr>\n",
       "      <th>0</th>\n",
       "      <td>2011-01-01</td>\n",
       "      <td>1</td>\n",
       "      <td>0</td>\n",
       "      <td>1</td>\n",
       "      <td>0</td>\n",
       "      <td>0</td>\n",
       "      <td>6</td>\n",
       "      <td>0</td>\n",
       "      <td>1</td>\n",
       "      <td>0.24</td>\n",
       "      <td>0.2879</td>\n",
       "      <td>0.81</td>\n",
       "      <td>0.0000</td>\n",
       "      <td>3</td>\n",
       "      <td>13</td>\n",
       "      <td>2011</td>\n",
       "    </tr>\n",
       "    <tr>\n",
       "      <th>1</th>\n",
       "      <td>2011-01-01</td>\n",
       "      <td>1</td>\n",
       "      <td>0</td>\n",
       "      <td>1</td>\n",
       "      <td>1</td>\n",
       "      <td>0</td>\n",
       "      <td>6</td>\n",
       "      <td>0</td>\n",
       "      <td>1</td>\n",
       "      <td>0.22</td>\n",
       "      <td>0.2727</td>\n",
       "      <td>0.80</td>\n",
       "      <td>0.0000</td>\n",
       "      <td>8</td>\n",
       "      <td>32</td>\n",
       "      <td>2011</td>\n",
       "    </tr>\n",
       "    <tr>\n",
       "      <th>2</th>\n",
       "      <td>2011-01-01</td>\n",
       "      <td>1</td>\n",
       "      <td>0</td>\n",
       "      <td>1</td>\n",
       "      <td>2</td>\n",
       "      <td>0</td>\n",
       "      <td>6</td>\n",
       "      <td>0</td>\n",
       "      <td>1</td>\n",
       "      <td>0.22</td>\n",
       "      <td>0.2727</td>\n",
       "      <td>0.80</td>\n",
       "      <td>0.0000</td>\n",
       "      <td>5</td>\n",
       "      <td>27</td>\n",
       "      <td>2011</td>\n",
       "    </tr>\n",
       "    <tr>\n",
       "      <th>3</th>\n",
       "      <td>2011-01-01</td>\n",
       "      <td>1</td>\n",
       "      <td>0</td>\n",
       "      <td>1</td>\n",
       "      <td>3</td>\n",
       "      <td>0</td>\n",
       "      <td>6</td>\n",
       "      <td>0</td>\n",
       "      <td>1</td>\n",
       "      <td>0.24</td>\n",
       "      <td>0.2879</td>\n",
       "      <td>0.75</td>\n",
       "      <td>0.0000</td>\n",
       "      <td>3</td>\n",
       "      <td>10</td>\n",
       "      <td>2011</td>\n",
       "    </tr>\n",
       "    <tr>\n",
       "      <th>4</th>\n",
       "      <td>2011-01-01</td>\n",
       "      <td>1</td>\n",
       "      <td>0</td>\n",
       "      <td>1</td>\n",
       "      <td>4</td>\n",
       "      <td>0</td>\n",
       "      <td>6</td>\n",
       "      <td>0</td>\n",
       "      <td>1</td>\n",
       "      <td>0.24</td>\n",
       "      <td>0.2879</td>\n",
       "      <td>0.75</td>\n",
       "      <td>0.0000</td>\n",
       "      <td>0</td>\n",
       "      <td>1</td>\n",
       "      <td>2011</td>\n",
       "    </tr>\n",
       "    <tr>\n",
       "      <th>...</th>\n",
       "      <td>...</td>\n",
       "      <td>...</td>\n",
       "      <td>...</td>\n",
       "      <td>...</td>\n",
       "      <td>...</td>\n",
       "      <td>...</td>\n",
       "      <td>...</td>\n",
       "      <td>...</td>\n",
       "      <td>...</td>\n",
       "      <td>...</td>\n",
       "      <td>...</td>\n",
       "      <td>...</td>\n",
       "      <td>...</td>\n",
       "      <td>...</td>\n",
       "      <td>...</td>\n",
       "      <td>...</td>\n",
       "    </tr>\n",
       "    <tr>\n",
       "      <th>8640</th>\n",
       "      <td>2011-12-31</td>\n",
       "      <td>1</td>\n",
       "      <td>0</td>\n",
       "      <td>12</td>\n",
       "      <td>19</td>\n",
       "      <td>0</td>\n",
       "      <td>6</td>\n",
       "      <td>0</td>\n",
       "      <td>1</td>\n",
       "      <td>0.42</td>\n",
       "      <td>0.4242</td>\n",
       "      <td>0.54</td>\n",
       "      <td>0.2239</td>\n",
       "      <td>19</td>\n",
       "      <td>73</td>\n",
       "      <td>2011</td>\n",
       "    </tr>\n",
       "    <tr>\n",
       "      <th>8641</th>\n",
       "      <td>2011-12-31</td>\n",
       "      <td>1</td>\n",
       "      <td>0</td>\n",
       "      <td>12</td>\n",
       "      <td>20</td>\n",
       "      <td>0</td>\n",
       "      <td>6</td>\n",
       "      <td>0</td>\n",
       "      <td>1</td>\n",
       "      <td>0.42</td>\n",
       "      <td>0.4242</td>\n",
       "      <td>0.54</td>\n",
       "      <td>0.2239</td>\n",
       "      <td>8</td>\n",
       "      <td>63</td>\n",
       "      <td>2011</td>\n",
       "    </tr>\n",
       "    <tr>\n",
       "      <th>8642</th>\n",
       "      <td>2011-12-31</td>\n",
       "      <td>1</td>\n",
       "      <td>0</td>\n",
       "      <td>12</td>\n",
       "      <td>21</td>\n",
       "      <td>0</td>\n",
       "      <td>6</td>\n",
       "      <td>0</td>\n",
       "      <td>1</td>\n",
       "      <td>0.40</td>\n",
       "      <td>0.4091</td>\n",
       "      <td>0.58</td>\n",
       "      <td>0.1940</td>\n",
       "      <td>2</td>\n",
       "      <td>50</td>\n",
       "      <td>2011</td>\n",
       "    </tr>\n",
       "    <tr>\n",
       "      <th>8643</th>\n",
       "      <td>2011-12-31</td>\n",
       "      <td>1</td>\n",
       "      <td>0</td>\n",
       "      <td>12</td>\n",
       "      <td>22</td>\n",
       "      <td>0</td>\n",
       "      <td>6</td>\n",
       "      <td>0</td>\n",
       "      <td>1</td>\n",
       "      <td>0.38</td>\n",
       "      <td>0.3939</td>\n",
       "      <td>0.62</td>\n",
       "      <td>0.1343</td>\n",
       "      <td>2</td>\n",
       "      <td>36</td>\n",
       "      <td>2011</td>\n",
       "    </tr>\n",
       "    <tr>\n",
       "      <th>8644</th>\n",
       "      <td>2011-12-31</td>\n",
       "      <td>1</td>\n",
       "      <td>0</td>\n",
       "      <td>12</td>\n",
       "      <td>23</td>\n",
       "      <td>0</td>\n",
       "      <td>6</td>\n",
       "      <td>0</td>\n",
       "      <td>1</td>\n",
       "      <td>0.36</td>\n",
       "      <td>0.3788</td>\n",
       "      <td>0.66</td>\n",
       "      <td>0.0000</td>\n",
       "      <td>4</td>\n",
       "      <td>27</td>\n",
       "      <td>2011</td>\n",
       "    </tr>\n",
       "  </tbody>\n",
       "</table>\n",
       "<p>8645 rows × 16 columns</p>\n",
       "</div>"
      ],
      "text/plain": [
       "          dteday  season  yr  mnth  hr  holiday  weekday  workingday  \\\n",
       "0     2011-01-01       1   0     1   0        0        6           0   \n",
       "1     2011-01-01       1   0     1   1        0        6           0   \n",
       "2     2011-01-01       1   0     1   2        0        6           0   \n",
       "3     2011-01-01       1   0     1   3        0        6           0   \n",
       "4     2011-01-01       1   0     1   4        0        6           0   \n",
       "...          ...     ...  ..   ...  ..      ...      ...         ...   \n",
       "8640  2011-12-31       1   0    12  19        0        6           0   \n",
       "8641  2011-12-31       1   0    12  20        0        6           0   \n",
       "8642  2011-12-31       1   0    12  21        0        6           0   \n",
       "8643  2011-12-31       1   0    12  22        0        6           0   \n",
       "8644  2011-12-31       1   0    12  23        0        6           0   \n",
       "\n",
       "      weathersit  temp   atemp   hum  windspeed  casual  registered  year  \n",
       "0              1  0.24  0.2879  0.81     0.0000       3          13  2011  \n",
       "1              1  0.22  0.2727  0.80     0.0000       8          32  2011  \n",
       "2              1  0.22  0.2727  0.80     0.0000       5          27  2011  \n",
       "3              1  0.24  0.2879  0.75     0.0000       3          10  2011  \n",
       "4              1  0.24  0.2879  0.75     0.0000       0           1  2011  \n",
       "...          ...   ...     ...   ...        ...     ...         ...   ...  \n",
       "8640           1  0.42  0.4242  0.54     0.2239      19          73  2011  \n",
       "8641           1  0.42  0.4242  0.54     0.2239       8          63  2011  \n",
       "8642           1  0.40  0.4091  0.58     0.1940       2          50  2011  \n",
       "8643           1  0.38  0.3939  0.62     0.1343       2          36  2011  \n",
       "8644           1  0.36  0.3788  0.66     0.0000       4          27  2011  \n",
       "\n",
       "[8645 rows x 16 columns]"
      ]
     },
     "execution_count": 48,
     "metadata": {},
     "output_type": "execute_result"
    }
   ],
   "source": [
    "bikes[bikes.year == 2011]"
   ]
  },
  {
   "cell_type": "code",
   "execution_count": 49,
   "id": "cdca210a",
   "metadata": {},
   "outputs": [],
   "source": [
    "bikes_2011 = bikes[bikes.year == 2011]"
   ]
  },
  {
   "cell_type": "code",
   "execution_count": 50,
   "id": "4d1fe725",
   "metadata": {},
   "outputs": [
    {
     "data": {
      "text/html": [
       "<div>\n",
       "<style scoped>\n",
       "    .dataframe tbody tr th:only-of-type {\n",
       "        vertical-align: middle;\n",
       "    }\n",
       "\n",
       "    .dataframe tbody tr th {\n",
       "        vertical-align: top;\n",
       "    }\n",
       "\n",
       "    .dataframe thead th {\n",
       "        text-align: right;\n",
       "    }\n",
       "</style>\n",
       "<table border=\"1\" class=\"dataframe\">\n",
       "  <thead>\n",
       "    <tr style=\"text-align: right;\">\n",
       "      <th></th>\n",
       "      <th>dteday</th>\n",
       "      <th>season</th>\n",
       "      <th>yr</th>\n",
       "      <th>mnth</th>\n",
       "      <th>hr</th>\n",
       "      <th>holiday</th>\n",
       "      <th>weekday</th>\n",
       "      <th>workingday</th>\n",
       "      <th>weathersit</th>\n",
       "      <th>temp</th>\n",
       "      <th>atemp</th>\n",
       "      <th>hum</th>\n",
       "      <th>windspeed</th>\n",
       "      <th>casual</th>\n",
       "      <th>registered</th>\n",
       "      <th>year</th>\n",
       "    </tr>\n",
       "  </thead>\n",
       "  <tbody>\n",
       "    <tr>\n",
       "      <th>0</th>\n",
       "      <td>2011-01-01</td>\n",
       "      <td>1</td>\n",
       "      <td>0</td>\n",
       "      <td>1</td>\n",
       "      <td>0</td>\n",
       "      <td>0</td>\n",
       "      <td>6</td>\n",
       "      <td>0</td>\n",
       "      <td>1</td>\n",
       "      <td>0.24</td>\n",
       "      <td>0.2879</td>\n",
       "      <td>0.81</td>\n",
       "      <td>0.0</td>\n",
       "      <td>3</td>\n",
       "      <td>13</td>\n",
       "      <td>2011</td>\n",
       "    </tr>\n",
       "    <tr>\n",
       "      <th>1</th>\n",
       "      <td>2011-01-01</td>\n",
       "      <td>1</td>\n",
       "      <td>0</td>\n",
       "      <td>1</td>\n",
       "      <td>1</td>\n",
       "      <td>0</td>\n",
       "      <td>6</td>\n",
       "      <td>0</td>\n",
       "      <td>1</td>\n",
       "      <td>0.22</td>\n",
       "      <td>0.2727</td>\n",
       "      <td>0.80</td>\n",
       "      <td>0.0</td>\n",
       "      <td>8</td>\n",
       "      <td>32</td>\n",
       "      <td>2011</td>\n",
       "    </tr>\n",
       "    <tr>\n",
       "      <th>2</th>\n",
       "      <td>2011-01-01</td>\n",
       "      <td>1</td>\n",
       "      <td>0</td>\n",
       "      <td>1</td>\n",
       "      <td>2</td>\n",
       "      <td>0</td>\n",
       "      <td>6</td>\n",
       "      <td>0</td>\n",
       "      <td>1</td>\n",
       "      <td>0.22</td>\n",
       "      <td>0.2727</td>\n",
       "      <td>0.80</td>\n",
       "      <td>0.0</td>\n",
       "      <td>5</td>\n",
       "      <td>27</td>\n",
       "      <td>2011</td>\n",
       "    </tr>\n",
       "    <tr>\n",
       "      <th>3</th>\n",
       "      <td>2011-01-01</td>\n",
       "      <td>1</td>\n",
       "      <td>0</td>\n",
       "      <td>1</td>\n",
       "      <td>3</td>\n",
       "      <td>0</td>\n",
       "      <td>6</td>\n",
       "      <td>0</td>\n",
       "      <td>1</td>\n",
       "      <td>0.24</td>\n",
       "      <td>0.2879</td>\n",
       "      <td>0.75</td>\n",
       "      <td>0.0</td>\n",
       "      <td>3</td>\n",
       "      <td>10</td>\n",
       "      <td>2011</td>\n",
       "    </tr>\n",
       "    <tr>\n",
       "      <th>4</th>\n",
       "      <td>2011-01-01</td>\n",
       "      <td>1</td>\n",
       "      <td>0</td>\n",
       "      <td>1</td>\n",
       "      <td>4</td>\n",
       "      <td>0</td>\n",
       "      <td>6</td>\n",
       "      <td>0</td>\n",
       "      <td>1</td>\n",
       "      <td>0.24</td>\n",
       "      <td>0.2879</td>\n",
       "      <td>0.75</td>\n",
       "      <td>0.0</td>\n",
       "      <td>0</td>\n",
       "      <td>1</td>\n",
       "      <td>2011</td>\n",
       "    </tr>\n",
       "  </tbody>\n",
       "</table>\n",
       "</div>"
      ],
      "text/plain": [
       "       dteday  season  yr  mnth  hr  holiday  weekday  workingday  weathersit  \\\n",
       "0  2011-01-01       1   0     1   0        0        6           0           1   \n",
       "1  2011-01-01       1   0     1   1        0        6           0           1   \n",
       "2  2011-01-01       1   0     1   2        0        6           0           1   \n",
       "3  2011-01-01       1   0     1   3        0        6           0           1   \n",
       "4  2011-01-01       1   0     1   4        0        6           0           1   \n",
       "\n",
       "   temp   atemp   hum  windspeed  casual  registered  year  \n",
       "0  0.24  0.2879  0.81        0.0       3          13  2011  \n",
       "1  0.22  0.2727  0.80        0.0       8          32  2011  \n",
       "2  0.22  0.2727  0.80        0.0       5          27  2011  \n",
       "3  0.24  0.2879  0.75        0.0       3          10  2011  \n",
       "4  0.24  0.2879  0.75        0.0       0           1  2011  "
      ]
     },
     "execution_count": 50,
     "metadata": {},
     "output_type": "execute_result"
    }
   ],
   "source": [
    "bikes_2011.head()"
   ]
  },
  {
   "cell_type": "code",
   "execution_count": 51,
   "id": "b9550fa4",
   "metadata": {},
   "outputs": [],
   "source": [
    "bikes_2012 = bikes[bikes.year == 2012]"
   ]
  },
  {
   "cell_type": "code",
   "execution_count": 52,
   "id": "20b3273a",
   "metadata": {},
   "outputs": [
    {
     "data": {
      "text/html": [
       "<div>\n",
       "<style scoped>\n",
       "    .dataframe tbody tr th:only-of-type {\n",
       "        vertical-align: middle;\n",
       "    }\n",
       "\n",
       "    .dataframe tbody tr th {\n",
       "        vertical-align: top;\n",
       "    }\n",
       "\n",
       "    .dataframe thead th {\n",
       "        text-align: right;\n",
       "    }\n",
       "</style>\n",
       "<table border=\"1\" class=\"dataframe\">\n",
       "  <thead>\n",
       "    <tr style=\"text-align: right;\">\n",
       "      <th></th>\n",
       "      <th>dteday</th>\n",
       "      <th>season</th>\n",
       "      <th>yr</th>\n",
       "      <th>mnth</th>\n",
       "      <th>hr</th>\n",
       "      <th>holiday</th>\n",
       "      <th>weekday</th>\n",
       "      <th>workingday</th>\n",
       "      <th>weathersit</th>\n",
       "      <th>temp</th>\n",
       "      <th>atemp</th>\n",
       "      <th>hum</th>\n",
       "      <th>windspeed</th>\n",
       "      <th>casual</th>\n",
       "      <th>registered</th>\n",
       "      <th>year</th>\n",
       "    </tr>\n",
       "  </thead>\n",
       "  <tbody>\n",
       "    <tr>\n",
       "      <th>8645</th>\n",
       "      <td>2012-01-01</td>\n",
       "      <td>1</td>\n",
       "      <td>1</td>\n",
       "      <td>1</td>\n",
       "      <td>0</td>\n",
       "      <td>0</td>\n",
       "      <td>0</td>\n",
       "      <td>0</td>\n",
       "      <td>1</td>\n",
       "      <td>0.36</td>\n",
       "      <td>0.3788</td>\n",
       "      <td>0.66</td>\n",
       "      <td>0.0000</td>\n",
       "      <td>5</td>\n",
       "      <td>43</td>\n",
       "      <td>2012</td>\n",
       "    </tr>\n",
       "    <tr>\n",
       "      <th>8646</th>\n",
       "      <td>2012-01-01</td>\n",
       "      <td>1</td>\n",
       "      <td>1</td>\n",
       "      <td>1</td>\n",
       "      <td>1</td>\n",
       "      <td>0</td>\n",
       "      <td>0</td>\n",
       "      <td>0</td>\n",
       "      <td>1</td>\n",
       "      <td>0.36</td>\n",
       "      <td>0.3485</td>\n",
       "      <td>0.66</td>\n",
       "      <td>0.1343</td>\n",
       "      <td>15</td>\n",
       "      <td>78</td>\n",
       "      <td>2012</td>\n",
       "    </tr>\n",
       "    <tr>\n",
       "      <th>8647</th>\n",
       "      <td>2012-01-01</td>\n",
       "      <td>1</td>\n",
       "      <td>1</td>\n",
       "      <td>1</td>\n",
       "      <td>2</td>\n",
       "      <td>0</td>\n",
       "      <td>0</td>\n",
       "      <td>0</td>\n",
       "      <td>1</td>\n",
       "      <td>0.32</td>\n",
       "      <td>0.3485</td>\n",
       "      <td>0.76</td>\n",
       "      <td>0.0000</td>\n",
       "      <td>16</td>\n",
       "      <td>59</td>\n",
       "      <td>2012</td>\n",
       "    </tr>\n",
       "    <tr>\n",
       "      <th>8648</th>\n",
       "      <td>2012-01-01</td>\n",
       "      <td>1</td>\n",
       "      <td>1</td>\n",
       "      <td>1</td>\n",
       "      <td>3</td>\n",
       "      <td>0</td>\n",
       "      <td>0</td>\n",
       "      <td>0</td>\n",
       "      <td>1</td>\n",
       "      <td>0.30</td>\n",
       "      <td>0.3333</td>\n",
       "      <td>0.81</td>\n",
       "      <td>0.0000</td>\n",
       "      <td>11</td>\n",
       "      <td>41</td>\n",
       "      <td>2012</td>\n",
       "    </tr>\n",
       "    <tr>\n",
       "      <th>8649</th>\n",
       "      <td>2012-01-01</td>\n",
       "      <td>1</td>\n",
       "      <td>1</td>\n",
       "      <td>1</td>\n",
       "      <td>4</td>\n",
       "      <td>0</td>\n",
       "      <td>0</td>\n",
       "      <td>0</td>\n",
       "      <td>1</td>\n",
       "      <td>0.28</td>\n",
       "      <td>0.3030</td>\n",
       "      <td>0.81</td>\n",
       "      <td>0.0896</td>\n",
       "      <td>0</td>\n",
       "      <td>8</td>\n",
       "      <td>2012</td>\n",
       "    </tr>\n",
       "  </tbody>\n",
       "</table>\n",
       "</div>"
      ],
      "text/plain": [
       "          dteday  season  yr  mnth  hr  holiday  weekday  workingday  \\\n",
       "8645  2012-01-01       1   1     1   0        0        0           0   \n",
       "8646  2012-01-01       1   1     1   1        0        0           0   \n",
       "8647  2012-01-01       1   1     1   2        0        0           0   \n",
       "8648  2012-01-01       1   1     1   3        0        0           0   \n",
       "8649  2012-01-01       1   1     1   4        0        0           0   \n",
       "\n",
       "      weathersit  temp   atemp   hum  windspeed  casual  registered  year  \n",
       "8645           1  0.36  0.3788  0.66     0.0000       5          43  2012  \n",
       "8646           1  0.36  0.3485  0.66     0.1343      15          78  2012  \n",
       "8647           1  0.32  0.3485  0.76     0.0000      16          59  2012  \n",
       "8648           1  0.30  0.3333  0.81     0.0000      11          41  2012  \n",
       "8649           1  0.28  0.3030  0.81     0.0896       0           8  2012  "
      ]
     },
     "execution_count": 52,
     "metadata": {},
     "output_type": "execute_result"
    }
   ],
   "source": [
    "bikes_2012.head()"
   ]
  },
  {
   "cell_type": "code",
   "execution_count": 53,
   "id": "4a54da3b",
   "metadata": {},
   "outputs": [
    {
     "data": {
      "text/plain": [
       "8645"
      ]
     },
     "execution_count": 53,
     "metadata": {},
     "output_type": "execute_result"
    }
   ],
   "source": [
    "bikes_2011.year.count()"
   ]
  },
  {
   "cell_type": "code",
   "execution_count": 54,
   "id": "e58ecee3",
   "metadata": {},
   "outputs": [
    {
     "data": {
      "text/plain": [
       "8734"
      ]
     },
     "execution_count": 54,
     "metadata": {},
     "output_type": "execute_result"
    }
   ],
   "source": [
    "bikes_2012.year.count()"
   ]
  },
  {
   "cell_type": "markdown",
   "id": "319643e5",
   "metadata": {},
   "source": [
    "Similary several smaller data frames can be derived out of complete data set and then anlysis can be done on those data frames."
   ]
  },
  {
   "cell_type": "markdown",
   "id": "2ded2141",
   "metadata": {},
   "source": [
    "Lets divide the dataframe into smaller dataset based on seasons"
   ]
  },
  {
   "cell_type": "code",
   "execution_count": 55,
   "id": "415b319f",
   "metadata": {},
   "outputs": [
    {
     "data": {
      "text/plain": [
       "array([1, 2, 3, 4], dtype=int64)"
      ]
     },
     "execution_count": 55,
     "metadata": {},
     "output_type": "execute_result"
    }
   ],
   "source": [
    "bikes_2011.season.unique()"
   ]
  },
  {
   "cell_type": "code",
   "execution_count": 56,
   "id": "699b1474",
   "metadata": {},
   "outputs": [
    {
     "data": {
      "text/plain": [
       "array([1, 2, 3, 4], dtype=int64)"
      ]
     },
     "execution_count": 56,
     "metadata": {},
     "output_type": "execute_result"
    }
   ],
   "source": [
    "bikes_2012.season.unique()"
   ]
  },
  {
   "cell_type": "code",
   "execution_count": 57,
   "id": "c71380b1",
   "metadata": {},
   "outputs": [
    {
     "data": {
      "text/plain": [
       "0         True\n",
       "1         True\n",
       "2         True\n",
       "3         True\n",
       "4         True\n",
       "         ...  \n",
       "17374    False\n",
       "17375    False\n",
       "17376    False\n",
       "17377    False\n",
       "17378    False\n",
       "Length: 17379, dtype: bool"
      ]
     },
     "execution_count": 57,
     "metadata": {},
     "output_type": "execute_result"
    }
   ],
   "source": [
    "(bikes.year==2011) & (bikes.season==1)"
   ]
  },
  {
   "cell_type": "code",
   "execution_count": 58,
   "id": "6aca292e",
   "metadata": {},
   "outputs": [
    {
     "data": {
      "text/html": [
       "<div>\n",
       "<style scoped>\n",
       "    .dataframe tbody tr th:only-of-type {\n",
       "        vertical-align: middle;\n",
       "    }\n",
       "\n",
       "    .dataframe tbody tr th {\n",
       "        vertical-align: top;\n",
       "    }\n",
       "\n",
       "    .dataframe thead th {\n",
       "        text-align: right;\n",
       "    }\n",
       "</style>\n",
       "<table border=\"1\" class=\"dataframe\">\n",
       "  <thead>\n",
       "    <tr style=\"text-align: right;\">\n",
       "      <th></th>\n",
       "      <th>dteday</th>\n",
       "      <th>season</th>\n",
       "      <th>yr</th>\n",
       "      <th>mnth</th>\n",
       "      <th>hr</th>\n",
       "      <th>holiday</th>\n",
       "      <th>weekday</th>\n",
       "      <th>workingday</th>\n",
       "      <th>weathersit</th>\n",
       "      <th>temp</th>\n",
       "      <th>atemp</th>\n",
       "      <th>hum</th>\n",
       "      <th>windspeed</th>\n",
       "      <th>casual</th>\n",
       "      <th>registered</th>\n",
       "      <th>year</th>\n",
       "    </tr>\n",
       "  </thead>\n",
       "  <tbody>\n",
       "    <tr>\n",
       "      <th>0</th>\n",
       "      <td>2011-01-01</td>\n",
       "      <td>1</td>\n",
       "      <td>0</td>\n",
       "      <td>1</td>\n",
       "      <td>0</td>\n",
       "      <td>0</td>\n",
       "      <td>6</td>\n",
       "      <td>0</td>\n",
       "      <td>1</td>\n",
       "      <td>0.24</td>\n",
       "      <td>0.2879</td>\n",
       "      <td>0.81</td>\n",
       "      <td>0.0000</td>\n",
       "      <td>3</td>\n",
       "      <td>13</td>\n",
       "      <td>2011</td>\n",
       "    </tr>\n",
       "    <tr>\n",
       "      <th>1</th>\n",
       "      <td>2011-01-01</td>\n",
       "      <td>1</td>\n",
       "      <td>0</td>\n",
       "      <td>1</td>\n",
       "      <td>1</td>\n",
       "      <td>0</td>\n",
       "      <td>6</td>\n",
       "      <td>0</td>\n",
       "      <td>1</td>\n",
       "      <td>0.22</td>\n",
       "      <td>0.2727</td>\n",
       "      <td>0.80</td>\n",
       "      <td>0.0000</td>\n",
       "      <td>8</td>\n",
       "      <td>32</td>\n",
       "      <td>2011</td>\n",
       "    </tr>\n",
       "    <tr>\n",
       "      <th>2</th>\n",
       "      <td>2011-01-01</td>\n",
       "      <td>1</td>\n",
       "      <td>0</td>\n",
       "      <td>1</td>\n",
       "      <td>2</td>\n",
       "      <td>0</td>\n",
       "      <td>6</td>\n",
       "      <td>0</td>\n",
       "      <td>1</td>\n",
       "      <td>0.22</td>\n",
       "      <td>0.2727</td>\n",
       "      <td>0.80</td>\n",
       "      <td>0.0000</td>\n",
       "      <td>5</td>\n",
       "      <td>27</td>\n",
       "      <td>2011</td>\n",
       "    </tr>\n",
       "    <tr>\n",
       "      <th>3</th>\n",
       "      <td>2011-01-01</td>\n",
       "      <td>1</td>\n",
       "      <td>0</td>\n",
       "      <td>1</td>\n",
       "      <td>3</td>\n",
       "      <td>0</td>\n",
       "      <td>6</td>\n",
       "      <td>0</td>\n",
       "      <td>1</td>\n",
       "      <td>0.24</td>\n",
       "      <td>0.2879</td>\n",
       "      <td>0.75</td>\n",
       "      <td>0.0000</td>\n",
       "      <td>3</td>\n",
       "      <td>10</td>\n",
       "      <td>2011</td>\n",
       "    </tr>\n",
       "    <tr>\n",
       "      <th>4</th>\n",
       "      <td>2011-01-01</td>\n",
       "      <td>1</td>\n",
       "      <td>0</td>\n",
       "      <td>1</td>\n",
       "      <td>4</td>\n",
       "      <td>0</td>\n",
       "      <td>6</td>\n",
       "      <td>0</td>\n",
       "      <td>1</td>\n",
       "      <td>0.24</td>\n",
       "      <td>0.2879</td>\n",
       "      <td>0.75</td>\n",
       "      <td>0.0000</td>\n",
       "      <td>0</td>\n",
       "      <td>1</td>\n",
       "      <td>2011</td>\n",
       "    </tr>\n",
       "    <tr>\n",
       "      <th>...</th>\n",
       "      <td>...</td>\n",
       "      <td>...</td>\n",
       "      <td>...</td>\n",
       "      <td>...</td>\n",
       "      <td>...</td>\n",
       "      <td>...</td>\n",
       "      <td>...</td>\n",
       "      <td>...</td>\n",
       "      <td>...</td>\n",
       "      <td>...</td>\n",
       "      <td>...</td>\n",
       "      <td>...</td>\n",
       "      <td>...</td>\n",
       "      <td>...</td>\n",
       "      <td>...</td>\n",
       "      <td>...</td>\n",
       "    </tr>\n",
       "    <tr>\n",
       "      <th>8640</th>\n",
       "      <td>2011-12-31</td>\n",
       "      <td>1</td>\n",
       "      <td>0</td>\n",
       "      <td>12</td>\n",
       "      <td>19</td>\n",
       "      <td>0</td>\n",
       "      <td>6</td>\n",
       "      <td>0</td>\n",
       "      <td>1</td>\n",
       "      <td>0.42</td>\n",
       "      <td>0.4242</td>\n",
       "      <td>0.54</td>\n",
       "      <td>0.2239</td>\n",
       "      <td>19</td>\n",
       "      <td>73</td>\n",
       "      <td>2011</td>\n",
       "    </tr>\n",
       "    <tr>\n",
       "      <th>8641</th>\n",
       "      <td>2011-12-31</td>\n",
       "      <td>1</td>\n",
       "      <td>0</td>\n",
       "      <td>12</td>\n",
       "      <td>20</td>\n",
       "      <td>0</td>\n",
       "      <td>6</td>\n",
       "      <td>0</td>\n",
       "      <td>1</td>\n",
       "      <td>0.42</td>\n",
       "      <td>0.4242</td>\n",
       "      <td>0.54</td>\n",
       "      <td>0.2239</td>\n",
       "      <td>8</td>\n",
       "      <td>63</td>\n",
       "      <td>2011</td>\n",
       "    </tr>\n",
       "    <tr>\n",
       "      <th>8642</th>\n",
       "      <td>2011-12-31</td>\n",
       "      <td>1</td>\n",
       "      <td>0</td>\n",
       "      <td>12</td>\n",
       "      <td>21</td>\n",
       "      <td>0</td>\n",
       "      <td>6</td>\n",
       "      <td>0</td>\n",
       "      <td>1</td>\n",
       "      <td>0.40</td>\n",
       "      <td>0.4091</td>\n",
       "      <td>0.58</td>\n",
       "      <td>0.1940</td>\n",
       "      <td>2</td>\n",
       "      <td>50</td>\n",
       "      <td>2011</td>\n",
       "    </tr>\n",
       "    <tr>\n",
       "      <th>8643</th>\n",
       "      <td>2011-12-31</td>\n",
       "      <td>1</td>\n",
       "      <td>0</td>\n",
       "      <td>12</td>\n",
       "      <td>22</td>\n",
       "      <td>0</td>\n",
       "      <td>6</td>\n",
       "      <td>0</td>\n",
       "      <td>1</td>\n",
       "      <td>0.38</td>\n",
       "      <td>0.3939</td>\n",
       "      <td>0.62</td>\n",
       "      <td>0.1343</td>\n",
       "      <td>2</td>\n",
       "      <td>36</td>\n",
       "      <td>2011</td>\n",
       "    </tr>\n",
       "    <tr>\n",
       "      <th>8644</th>\n",
       "      <td>2011-12-31</td>\n",
       "      <td>1</td>\n",
       "      <td>0</td>\n",
       "      <td>12</td>\n",
       "      <td>23</td>\n",
       "      <td>0</td>\n",
       "      <td>6</td>\n",
       "      <td>0</td>\n",
       "      <td>1</td>\n",
       "      <td>0.36</td>\n",
       "      <td>0.3788</td>\n",
       "      <td>0.66</td>\n",
       "      <td>0.0000</td>\n",
       "      <td>4</td>\n",
       "      <td>27</td>\n",
       "      <td>2011</td>\n",
       "    </tr>\n",
       "  </tbody>\n",
       "</table>\n",
       "<p>2068 rows × 16 columns</p>\n",
       "</div>"
      ],
      "text/plain": [
       "          dteday  season  yr  mnth  hr  holiday  weekday  workingday  \\\n",
       "0     2011-01-01       1   0     1   0        0        6           0   \n",
       "1     2011-01-01       1   0     1   1        0        6           0   \n",
       "2     2011-01-01       1   0     1   2        0        6           0   \n",
       "3     2011-01-01       1   0     1   3        0        6           0   \n",
       "4     2011-01-01       1   0     1   4        0        6           0   \n",
       "...          ...     ...  ..   ...  ..      ...      ...         ...   \n",
       "8640  2011-12-31       1   0    12  19        0        6           0   \n",
       "8641  2011-12-31       1   0    12  20        0        6           0   \n",
       "8642  2011-12-31       1   0    12  21        0        6           0   \n",
       "8643  2011-12-31       1   0    12  22        0        6           0   \n",
       "8644  2011-12-31       1   0    12  23        0        6           0   \n",
       "\n",
       "      weathersit  temp   atemp   hum  windspeed  casual  registered  year  \n",
       "0              1  0.24  0.2879  0.81     0.0000       3          13  2011  \n",
       "1              1  0.22  0.2727  0.80     0.0000       8          32  2011  \n",
       "2              1  0.22  0.2727  0.80     0.0000       5          27  2011  \n",
       "3              1  0.24  0.2879  0.75     0.0000       3          10  2011  \n",
       "4              1  0.24  0.2879  0.75     0.0000       0           1  2011  \n",
       "...          ...   ...     ...   ...        ...     ...         ...   ...  \n",
       "8640           1  0.42  0.4242  0.54     0.2239      19          73  2011  \n",
       "8641           1  0.42  0.4242  0.54     0.2239       8          63  2011  \n",
       "8642           1  0.40  0.4091  0.58     0.1940       2          50  2011  \n",
       "8643           1  0.38  0.3939  0.62     0.1343       2          36  2011  \n",
       "8644           1  0.36  0.3788  0.66     0.0000       4          27  2011  \n",
       "\n",
       "[2068 rows x 16 columns]"
      ]
     },
     "execution_count": 58,
     "metadata": {},
     "output_type": "execute_result"
    }
   ],
   "source": [
    "bikes[(bikes.year==2011) & (bikes.season==1)]"
   ]
  },
  {
   "cell_type": "code",
   "execution_count": 59,
   "id": "37b882c9",
   "metadata": {},
   "outputs": [],
   "source": [
    "bikes_2011_winter_season=bikes[(bikes.year==2011) & (bikes.season==1)]"
   ]
  },
  {
   "cell_type": "code",
   "execution_count": 60,
   "id": "44fcddef",
   "metadata": {},
   "outputs": [
    {
     "data": {
      "text/html": [
       "<div>\n",
       "<style scoped>\n",
       "    .dataframe tbody tr th:only-of-type {\n",
       "        vertical-align: middle;\n",
       "    }\n",
       "\n",
       "    .dataframe tbody tr th {\n",
       "        vertical-align: top;\n",
       "    }\n",
       "\n",
       "    .dataframe thead th {\n",
       "        text-align: right;\n",
       "    }\n",
       "</style>\n",
       "<table border=\"1\" class=\"dataframe\">\n",
       "  <thead>\n",
       "    <tr style=\"text-align: right;\">\n",
       "      <th></th>\n",
       "      <th>dteday</th>\n",
       "      <th>season</th>\n",
       "      <th>yr</th>\n",
       "      <th>mnth</th>\n",
       "      <th>hr</th>\n",
       "      <th>holiday</th>\n",
       "      <th>weekday</th>\n",
       "      <th>workingday</th>\n",
       "      <th>weathersit</th>\n",
       "      <th>temp</th>\n",
       "      <th>atemp</th>\n",
       "      <th>hum</th>\n",
       "      <th>windspeed</th>\n",
       "      <th>casual</th>\n",
       "      <th>registered</th>\n",
       "      <th>year</th>\n",
       "    </tr>\n",
       "  </thead>\n",
       "  <tbody>\n",
       "    <tr>\n",
       "      <th>0</th>\n",
       "      <td>2011-01-01</td>\n",
       "      <td>1</td>\n",
       "      <td>0</td>\n",
       "      <td>1</td>\n",
       "      <td>0</td>\n",
       "      <td>0</td>\n",
       "      <td>6</td>\n",
       "      <td>0</td>\n",
       "      <td>1</td>\n",
       "      <td>0.24</td>\n",
       "      <td>0.2879</td>\n",
       "      <td>0.81</td>\n",
       "      <td>0.0000</td>\n",
       "      <td>3</td>\n",
       "      <td>13</td>\n",
       "      <td>2011</td>\n",
       "    </tr>\n",
       "    <tr>\n",
       "      <th>1</th>\n",
       "      <td>2011-01-01</td>\n",
       "      <td>1</td>\n",
       "      <td>0</td>\n",
       "      <td>1</td>\n",
       "      <td>1</td>\n",
       "      <td>0</td>\n",
       "      <td>6</td>\n",
       "      <td>0</td>\n",
       "      <td>1</td>\n",
       "      <td>0.22</td>\n",
       "      <td>0.2727</td>\n",
       "      <td>0.80</td>\n",
       "      <td>0.0000</td>\n",
       "      <td>8</td>\n",
       "      <td>32</td>\n",
       "      <td>2011</td>\n",
       "    </tr>\n",
       "    <tr>\n",
       "      <th>2</th>\n",
       "      <td>2011-01-01</td>\n",
       "      <td>1</td>\n",
       "      <td>0</td>\n",
       "      <td>1</td>\n",
       "      <td>2</td>\n",
       "      <td>0</td>\n",
       "      <td>6</td>\n",
       "      <td>0</td>\n",
       "      <td>1</td>\n",
       "      <td>0.22</td>\n",
       "      <td>0.2727</td>\n",
       "      <td>0.80</td>\n",
       "      <td>0.0000</td>\n",
       "      <td>5</td>\n",
       "      <td>27</td>\n",
       "      <td>2011</td>\n",
       "    </tr>\n",
       "    <tr>\n",
       "      <th>3</th>\n",
       "      <td>2011-01-01</td>\n",
       "      <td>1</td>\n",
       "      <td>0</td>\n",
       "      <td>1</td>\n",
       "      <td>3</td>\n",
       "      <td>0</td>\n",
       "      <td>6</td>\n",
       "      <td>0</td>\n",
       "      <td>1</td>\n",
       "      <td>0.24</td>\n",
       "      <td>0.2879</td>\n",
       "      <td>0.75</td>\n",
       "      <td>0.0000</td>\n",
       "      <td>3</td>\n",
       "      <td>10</td>\n",
       "      <td>2011</td>\n",
       "    </tr>\n",
       "    <tr>\n",
       "      <th>4</th>\n",
       "      <td>2011-01-01</td>\n",
       "      <td>1</td>\n",
       "      <td>0</td>\n",
       "      <td>1</td>\n",
       "      <td>4</td>\n",
       "      <td>0</td>\n",
       "      <td>6</td>\n",
       "      <td>0</td>\n",
       "      <td>1</td>\n",
       "      <td>0.24</td>\n",
       "      <td>0.2879</td>\n",
       "      <td>0.75</td>\n",
       "      <td>0.0000</td>\n",
       "      <td>0</td>\n",
       "      <td>1</td>\n",
       "      <td>2011</td>\n",
       "    </tr>\n",
       "    <tr>\n",
       "      <th>...</th>\n",
       "      <td>...</td>\n",
       "      <td>...</td>\n",
       "      <td>...</td>\n",
       "      <td>...</td>\n",
       "      <td>...</td>\n",
       "      <td>...</td>\n",
       "      <td>...</td>\n",
       "      <td>...</td>\n",
       "      <td>...</td>\n",
       "      <td>...</td>\n",
       "      <td>...</td>\n",
       "      <td>...</td>\n",
       "      <td>...</td>\n",
       "      <td>...</td>\n",
       "      <td>...</td>\n",
       "      <td>...</td>\n",
       "    </tr>\n",
       "    <tr>\n",
       "      <th>8640</th>\n",
       "      <td>2011-12-31</td>\n",
       "      <td>1</td>\n",
       "      <td>0</td>\n",
       "      <td>12</td>\n",
       "      <td>19</td>\n",
       "      <td>0</td>\n",
       "      <td>6</td>\n",
       "      <td>0</td>\n",
       "      <td>1</td>\n",
       "      <td>0.42</td>\n",
       "      <td>0.4242</td>\n",
       "      <td>0.54</td>\n",
       "      <td>0.2239</td>\n",
       "      <td>19</td>\n",
       "      <td>73</td>\n",
       "      <td>2011</td>\n",
       "    </tr>\n",
       "    <tr>\n",
       "      <th>8641</th>\n",
       "      <td>2011-12-31</td>\n",
       "      <td>1</td>\n",
       "      <td>0</td>\n",
       "      <td>12</td>\n",
       "      <td>20</td>\n",
       "      <td>0</td>\n",
       "      <td>6</td>\n",
       "      <td>0</td>\n",
       "      <td>1</td>\n",
       "      <td>0.42</td>\n",
       "      <td>0.4242</td>\n",
       "      <td>0.54</td>\n",
       "      <td>0.2239</td>\n",
       "      <td>8</td>\n",
       "      <td>63</td>\n",
       "      <td>2011</td>\n",
       "    </tr>\n",
       "    <tr>\n",
       "      <th>8642</th>\n",
       "      <td>2011-12-31</td>\n",
       "      <td>1</td>\n",
       "      <td>0</td>\n",
       "      <td>12</td>\n",
       "      <td>21</td>\n",
       "      <td>0</td>\n",
       "      <td>6</td>\n",
       "      <td>0</td>\n",
       "      <td>1</td>\n",
       "      <td>0.40</td>\n",
       "      <td>0.4091</td>\n",
       "      <td>0.58</td>\n",
       "      <td>0.1940</td>\n",
       "      <td>2</td>\n",
       "      <td>50</td>\n",
       "      <td>2011</td>\n",
       "    </tr>\n",
       "    <tr>\n",
       "      <th>8643</th>\n",
       "      <td>2011-12-31</td>\n",
       "      <td>1</td>\n",
       "      <td>0</td>\n",
       "      <td>12</td>\n",
       "      <td>22</td>\n",
       "      <td>0</td>\n",
       "      <td>6</td>\n",
       "      <td>0</td>\n",
       "      <td>1</td>\n",
       "      <td>0.38</td>\n",
       "      <td>0.3939</td>\n",
       "      <td>0.62</td>\n",
       "      <td>0.1343</td>\n",
       "      <td>2</td>\n",
       "      <td>36</td>\n",
       "      <td>2011</td>\n",
       "    </tr>\n",
       "    <tr>\n",
       "      <th>8644</th>\n",
       "      <td>2011-12-31</td>\n",
       "      <td>1</td>\n",
       "      <td>0</td>\n",
       "      <td>12</td>\n",
       "      <td>23</td>\n",
       "      <td>0</td>\n",
       "      <td>6</td>\n",
       "      <td>0</td>\n",
       "      <td>1</td>\n",
       "      <td>0.36</td>\n",
       "      <td>0.3788</td>\n",
       "      <td>0.66</td>\n",
       "      <td>0.0000</td>\n",
       "      <td>4</td>\n",
       "      <td>27</td>\n",
       "      <td>2011</td>\n",
       "    </tr>\n",
       "  </tbody>\n",
       "</table>\n",
       "<p>2068 rows × 16 columns</p>\n",
       "</div>"
      ],
      "text/plain": [
       "          dteday  season  yr  mnth  hr  holiday  weekday  workingday  \\\n",
       "0     2011-01-01       1   0     1   0        0        6           0   \n",
       "1     2011-01-01       1   0     1   1        0        6           0   \n",
       "2     2011-01-01       1   0     1   2        0        6           0   \n",
       "3     2011-01-01       1   0     1   3        0        6           0   \n",
       "4     2011-01-01       1   0     1   4        0        6           0   \n",
       "...          ...     ...  ..   ...  ..      ...      ...         ...   \n",
       "8640  2011-12-31       1   0    12  19        0        6           0   \n",
       "8641  2011-12-31       1   0    12  20        0        6           0   \n",
       "8642  2011-12-31       1   0    12  21        0        6           0   \n",
       "8643  2011-12-31       1   0    12  22        0        6           0   \n",
       "8644  2011-12-31       1   0    12  23        0        6           0   \n",
       "\n",
       "      weathersit  temp   atemp   hum  windspeed  casual  registered  year  \n",
       "0              1  0.24  0.2879  0.81     0.0000       3          13  2011  \n",
       "1              1  0.22  0.2727  0.80     0.0000       8          32  2011  \n",
       "2              1  0.22  0.2727  0.80     0.0000       5          27  2011  \n",
       "3              1  0.24  0.2879  0.75     0.0000       3          10  2011  \n",
       "4              1  0.24  0.2879  0.75     0.0000       0           1  2011  \n",
       "...          ...   ...     ...   ...        ...     ...         ...   ...  \n",
       "8640           1  0.42  0.4242  0.54     0.2239      19          73  2011  \n",
       "8641           1  0.42  0.4242  0.54     0.2239       8          63  2011  \n",
       "8642           1  0.40  0.4091  0.58     0.1940       2          50  2011  \n",
       "8643           1  0.38  0.3939  0.62     0.1343       2          36  2011  \n",
       "8644           1  0.36  0.3788  0.66     0.0000       4          27  2011  \n",
       "\n",
       "[2068 rows x 16 columns]"
      ]
     },
     "execution_count": 60,
     "metadata": {},
     "output_type": "execute_result"
    }
   ],
   "source": [
    "bikes_2011_winter_season"
   ]
  },
  {
   "cell_type": "code",
   "execution_count": 61,
   "id": "8dc00dea",
   "metadata": {},
   "outputs": [],
   "source": [
    "bikes_2011_summer_season=bikes[(bikes.year==2011) & (bikes.season==3)]\n",
    "bikes_2011_spring_season=bikes[(bikes.year==2011) & (bikes.season==2)]\n",
    "bikes_2011_fall_season=bikes[(bikes.year==2011) & (bikes.season==4)]"
   ]
  },
  {
   "cell_type": "markdown",
   "id": "c1ee5930",
   "metadata": {},
   "source": [
    "Creating similar dataframe for 2012 year"
   ]
  },
  {
   "cell_type": "code",
   "execution_count": 62,
   "id": "82f87d7f",
   "metadata": {},
   "outputs": [],
   "source": [
    "bikes_2012_winter_season=bikes[(bikes.year==2012) & (bikes.season==1)]\n",
    "bikes_2012_summer_season=bikes[(bikes.year==2012) & (bikes.season==3)]\n",
    "bikes_2012_spring_season=bikes[(bikes.year==2012) & (bikes.season==2)]\n",
    "bikes_2012_fall_season=bikes[(bikes.year==2012) & (bikes.season==4)]"
   ]
  },
  {
   "cell_type": "code",
   "execution_count": 63,
   "id": "e9556e29",
   "metadata": {},
   "outputs": [],
   "source": [
    "bikes_holiday = bikes[bikes.holiday == 1]"
   ]
  },
  {
   "cell_type": "code",
   "execution_count": 64,
   "id": "2e2a55cb",
   "metadata": {},
   "outputs": [
    {
     "data": {
      "text/html": [
       "<div>\n",
       "<style scoped>\n",
       "    .dataframe tbody tr th:only-of-type {\n",
       "        vertical-align: middle;\n",
       "    }\n",
       "\n",
       "    .dataframe tbody tr th {\n",
       "        vertical-align: top;\n",
       "    }\n",
       "\n",
       "    .dataframe thead th {\n",
       "        text-align: right;\n",
       "    }\n",
       "</style>\n",
       "<table border=\"1\" class=\"dataframe\">\n",
       "  <thead>\n",
       "    <tr style=\"text-align: right;\">\n",
       "      <th></th>\n",
       "      <th>dteday</th>\n",
       "      <th>season</th>\n",
       "      <th>yr</th>\n",
       "      <th>mnth</th>\n",
       "      <th>hr</th>\n",
       "      <th>holiday</th>\n",
       "      <th>weekday</th>\n",
       "      <th>workingday</th>\n",
       "      <th>weathersit</th>\n",
       "      <th>temp</th>\n",
       "      <th>atemp</th>\n",
       "      <th>hum</th>\n",
       "      <th>windspeed</th>\n",
       "      <th>casual</th>\n",
       "      <th>registered</th>\n",
       "      <th>year</th>\n",
       "    </tr>\n",
       "  </thead>\n",
       "  <tbody>\n",
       "    <tr>\n",
       "      <th>372</th>\n",
       "      <td>2011-01-17</td>\n",
       "      <td>1</td>\n",
       "      <td>0</td>\n",
       "      <td>1</td>\n",
       "      <td>0</td>\n",
       "      <td>1</td>\n",
       "      <td>1</td>\n",
       "      <td>0</td>\n",
       "      <td>2</td>\n",
       "      <td>0.20</td>\n",
       "      <td>0.1970</td>\n",
       "      <td>0.47</td>\n",
       "      <td>0.2239</td>\n",
       "      <td>1</td>\n",
       "      <td>16</td>\n",
       "      <td>2011</td>\n",
       "    </tr>\n",
       "    <tr>\n",
       "      <th>373</th>\n",
       "      <td>2011-01-17</td>\n",
       "      <td>1</td>\n",
       "      <td>0</td>\n",
       "      <td>1</td>\n",
       "      <td>1</td>\n",
       "      <td>1</td>\n",
       "      <td>1</td>\n",
       "      <td>0</td>\n",
       "      <td>2</td>\n",
       "      <td>0.20</td>\n",
       "      <td>0.1970</td>\n",
       "      <td>0.44</td>\n",
       "      <td>0.1940</td>\n",
       "      <td>1</td>\n",
       "      <td>15</td>\n",
       "      <td>2011</td>\n",
       "    </tr>\n",
       "    <tr>\n",
       "      <th>374</th>\n",
       "      <td>2011-01-17</td>\n",
       "      <td>1</td>\n",
       "      <td>0</td>\n",
       "      <td>1</td>\n",
       "      <td>2</td>\n",
       "      <td>1</td>\n",
       "      <td>1</td>\n",
       "      <td>0</td>\n",
       "      <td>2</td>\n",
       "      <td>0.18</td>\n",
       "      <td>0.1667</td>\n",
       "      <td>0.43</td>\n",
       "      <td>0.2537</td>\n",
       "      <td>0</td>\n",
       "      <td>8</td>\n",
       "      <td>2011</td>\n",
       "    </tr>\n",
       "    <tr>\n",
       "      <th>375</th>\n",
       "      <td>2011-01-17</td>\n",
       "      <td>1</td>\n",
       "      <td>0</td>\n",
       "      <td>1</td>\n",
       "      <td>3</td>\n",
       "      <td>1</td>\n",
       "      <td>1</td>\n",
       "      <td>0</td>\n",
       "      <td>2</td>\n",
       "      <td>0.18</td>\n",
       "      <td>0.1818</td>\n",
       "      <td>0.43</td>\n",
       "      <td>0.1940</td>\n",
       "      <td>0</td>\n",
       "      <td>2</td>\n",
       "      <td>2011</td>\n",
       "    </tr>\n",
       "    <tr>\n",
       "      <th>376</th>\n",
       "      <td>2011-01-17</td>\n",
       "      <td>1</td>\n",
       "      <td>0</td>\n",
       "      <td>1</td>\n",
       "      <td>4</td>\n",
       "      <td>1</td>\n",
       "      <td>1</td>\n",
       "      <td>0</td>\n",
       "      <td>2</td>\n",
       "      <td>0.18</td>\n",
       "      <td>0.1970</td>\n",
       "      <td>0.43</td>\n",
       "      <td>0.1343</td>\n",
       "      <td>1</td>\n",
       "      <td>2</td>\n",
       "      <td>2011</td>\n",
       "    </tr>\n",
       "    <tr>\n",
       "      <th>...</th>\n",
       "      <td>...</td>\n",
       "      <td>...</td>\n",
       "      <td>...</td>\n",
       "      <td>...</td>\n",
       "      <td>...</td>\n",
       "      <td>...</td>\n",
       "      <td>...</td>\n",
       "      <td>...</td>\n",
       "      <td>...</td>\n",
       "      <td>...</td>\n",
       "      <td>...</td>\n",
       "      <td>...</td>\n",
       "      <td>...</td>\n",
       "      <td>...</td>\n",
       "      <td>...</td>\n",
       "      <td>...</td>\n",
       "    </tr>\n",
       "    <tr>\n",
       "      <th>17230</th>\n",
       "      <td>2012-12-25</td>\n",
       "      <td>1</td>\n",
       "      <td>1</td>\n",
       "      <td>12</td>\n",
       "      <td>19</td>\n",
       "      <td>1</td>\n",
       "      <td>2</td>\n",
       "      <td>0</td>\n",
       "      <td>2</td>\n",
       "      <td>0.32</td>\n",
       "      <td>0.3030</td>\n",
       "      <td>0.66</td>\n",
       "      <td>0.2239</td>\n",
       "      <td>16</td>\n",
       "      <td>20</td>\n",
       "      <td>2012</td>\n",
       "    </tr>\n",
       "    <tr>\n",
       "      <th>17231</th>\n",
       "      <td>2012-12-25</td>\n",
       "      <td>1</td>\n",
       "      <td>1</td>\n",
       "      <td>12</td>\n",
       "      <td>20</td>\n",
       "      <td>1</td>\n",
       "      <td>2</td>\n",
       "      <td>0</td>\n",
       "      <td>2</td>\n",
       "      <td>0.32</td>\n",
       "      <td>0.3030</td>\n",
       "      <td>0.66</td>\n",
       "      <td>0.2836</td>\n",
       "      <td>11</td>\n",
       "      <td>29</td>\n",
       "      <td>2012</td>\n",
       "    </tr>\n",
       "    <tr>\n",
       "      <th>17232</th>\n",
       "      <td>2012-12-25</td>\n",
       "      <td>1</td>\n",
       "      <td>1</td>\n",
       "      <td>12</td>\n",
       "      <td>21</td>\n",
       "      <td>1</td>\n",
       "      <td>2</td>\n",
       "      <td>0</td>\n",
       "      <td>2</td>\n",
       "      <td>0.30</td>\n",
       "      <td>0.2879</td>\n",
       "      <td>0.65</td>\n",
       "      <td>0.1940</td>\n",
       "      <td>8</td>\n",
       "      <td>26</td>\n",
       "      <td>2012</td>\n",
       "    </tr>\n",
       "    <tr>\n",
       "      <th>17233</th>\n",
       "      <td>2012-12-25</td>\n",
       "      <td>1</td>\n",
       "      <td>1</td>\n",
       "      <td>12</td>\n",
       "      <td>22</td>\n",
       "      <td>1</td>\n",
       "      <td>2</td>\n",
       "      <td>0</td>\n",
       "      <td>2</td>\n",
       "      <td>0.30</td>\n",
       "      <td>0.3030</td>\n",
       "      <td>0.70</td>\n",
       "      <td>0.1642</td>\n",
       "      <td>3</td>\n",
       "      <td>16</td>\n",
       "      <td>2012</td>\n",
       "    </tr>\n",
       "    <tr>\n",
       "      <th>17234</th>\n",
       "      <td>2012-12-25</td>\n",
       "      <td>1</td>\n",
       "      <td>1</td>\n",
       "      <td>12</td>\n",
       "      <td>23</td>\n",
       "      <td>1</td>\n",
       "      <td>2</td>\n",
       "      <td>0</td>\n",
       "      <td>2</td>\n",
       "      <td>0.28</td>\n",
       "      <td>0.2727</td>\n",
       "      <td>0.65</td>\n",
       "      <td>0.2537</td>\n",
       "      <td>4</td>\n",
       "      <td>26</td>\n",
       "      <td>2012</td>\n",
       "    </tr>\n",
       "  </tbody>\n",
       "</table>\n",
       "<p>500 rows × 16 columns</p>\n",
       "</div>"
      ],
      "text/plain": [
       "           dteday  season  yr  mnth  hr  holiday  weekday  workingday  \\\n",
       "372    2011-01-17       1   0     1   0        1        1           0   \n",
       "373    2011-01-17       1   0     1   1        1        1           0   \n",
       "374    2011-01-17       1   0     1   2        1        1           0   \n",
       "375    2011-01-17       1   0     1   3        1        1           0   \n",
       "376    2011-01-17       1   0     1   4        1        1           0   \n",
       "...           ...     ...  ..   ...  ..      ...      ...         ...   \n",
       "17230  2012-12-25       1   1    12  19        1        2           0   \n",
       "17231  2012-12-25       1   1    12  20        1        2           0   \n",
       "17232  2012-12-25       1   1    12  21        1        2           0   \n",
       "17233  2012-12-25       1   1    12  22        1        2           0   \n",
       "17234  2012-12-25       1   1    12  23        1        2           0   \n",
       "\n",
       "       weathersit  temp   atemp   hum  windspeed  casual  registered  year  \n",
       "372             2  0.20  0.1970  0.47     0.2239       1          16  2011  \n",
       "373             2  0.20  0.1970  0.44     0.1940       1          15  2011  \n",
       "374             2  0.18  0.1667  0.43     0.2537       0           8  2011  \n",
       "375             2  0.18  0.1818  0.43     0.1940       0           2  2011  \n",
       "376             2  0.18  0.1970  0.43     0.1343       1           2  2011  \n",
       "...           ...   ...     ...   ...        ...     ...         ...   ...  \n",
       "17230           2  0.32  0.3030  0.66     0.2239      16          20  2012  \n",
       "17231           2  0.32  0.3030  0.66     0.2836      11          29  2012  \n",
       "17232           2  0.30  0.2879  0.65     0.1940       8          26  2012  \n",
       "17233           2  0.30  0.3030  0.70     0.1642       3          16  2012  \n",
       "17234           2  0.28  0.2727  0.65     0.2537       4          26  2012  \n",
       "\n",
       "[500 rows x 16 columns]"
      ]
     },
     "execution_count": 64,
     "metadata": {},
     "output_type": "execute_result"
    }
   ],
   "source": [
    "bikes_holiday"
   ]
  },
  {
   "cell_type": "markdown",
   "id": "ee9bfc00",
   "metadata": {},
   "source": [
    "Checking other stats for this dataset"
   ]
  },
  {
   "cell_type": "code",
   "execution_count": 65,
   "id": "f16141ae",
   "metadata": {},
   "outputs": [
    {
     "data": {
      "text/plain": [
       "count    17379.000000\n",
       "mean        35.676218\n",
       "std         49.305030\n",
       "min          0.000000\n",
       "25%          4.000000\n",
       "50%         17.000000\n",
       "75%         48.000000\n",
       "max        367.000000\n",
       "Name: casual, dtype: float64"
      ]
     },
     "execution_count": 65,
     "metadata": {},
     "output_type": "execute_result"
    }
   ],
   "source": [
    "bikes.casual.describe()  #casual users stat"
   ]
  },
  {
   "cell_type": "code",
   "execution_count": 66,
   "id": "3ae10088",
   "metadata": {},
   "outputs": [
    {
     "data": {
      "text/plain": [
       "count    17379.000000\n",
       "mean       153.786869\n",
       "std        151.357286\n",
       "min          0.000000\n",
       "25%         34.000000\n",
       "50%        115.000000\n",
       "75%        220.000000\n",
       "max        886.000000\n",
       "Name: registered, dtype: float64"
      ]
     },
     "execution_count": 66,
     "metadata": {},
     "output_type": "execute_result"
    }
   ],
   "source": [
    "bikes.registered.describe()  #registered users stat"
   ]
  },
  {
   "cell_type": "markdown",
   "id": "3722d009",
   "metadata": {},
   "source": [
    "There are four seasons for which bike shairing data is collected. Lets figure out how many users are using this service as per different seasons."
   ]
  },
  {
   "cell_type": "code",
   "execution_count": 67,
   "id": "00f38f2d",
   "metadata": {},
   "outputs": [
    {
     "data": {
      "text/plain": [
       "pandas.core.groupby.generic.DataFrameGroupBy"
      ]
     },
     "execution_count": 67,
     "metadata": {},
     "output_type": "execute_result"
    }
   ],
   "source": [
    "#First create the group by \n",
    "df_by_seasons = bikes.groupby(\"season\")\n",
    "type(df_by_seasons)"
   ]
  },
  {
   "cell_type": "code",
   "execution_count": 68,
   "id": "aa0957b9",
   "metadata": {},
   "outputs": [
    {
     "data": {
      "text/plain": [
       "season\n",
       "1     60622\n",
       "2    203522\n",
       "3    226091\n",
       "4    129782\n",
       "Name: casual, dtype: int64"
      ]
     },
     "execution_count": 68,
     "metadata": {},
     "output_type": "execute_result"
    }
   ],
   "source": [
    "#sum(\"casual\") group by season\n",
    "df_by_seasons[\"casual\"].sum()"
   ]
  },
  {
   "cell_type": "markdown",
   "id": "d7bb961e",
   "metadata": {},
   "source": [
    "As per above data analysis, casual users are more during season 3, which is summer season"
   ]
  },
  {
   "cell_type": "code",
   "execution_count": 69,
   "id": "cfe74c6a",
   "metadata": {},
   "outputs": [
    {
     "data": {
      "text/plain": [
       "season\n",
       "1    410726\n",
       "2    715067\n",
       "3    835038\n",
       "4    711831\n",
       "Name: registered, dtype: int64"
      ]
     },
     "execution_count": 69,
     "metadata": {},
     "output_type": "execute_result"
    }
   ],
   "source": [
    "#sum(\"registered\") group by season\n",
    "df_by_seasons[\"registered\"].sum()"
   ]
  },
  {
   "cell_type": "markdown",
   "id": "e3032d53",
   "metadata": {},
   "source": [
    "As per above data analysis, registered users are more during season 3, which is summer season"
   ]
  },
  {
   "cell_type": "code",
   "execution_count": 70,
   "id": "590b69ef",
   "metadata": {},
   "outputs": [
    {
     "data": {
      "text/plain": [
       "season\n",
       "1    410726\n",
       "4    711831\n",
       "2    715067\n",
       "3    835038\n",
       "Name: registered, dtype: int64"
      ]
     },
     "execution_count": 70,
     "metadata": {},
     "output_type": "execute_result"
    }
   ],
   "source": [
    "#sum(\"registered\") group by season , sort in ascending order\n",
    "df_by_seasons[\"registered\"].sum().sort_values()"
   ]
  },
  {
   "cell_type": "code",
   "execution_count": 71,
   "id": "8854f9f6",
   "metadata": {},
   "outputs": [
    {
     "data": {
      "text/plain": [
       "season\n",
       "1     60622\n",
       "4    129782\n",
       "2    203522\n",
       "3    226091\n",
       "Name: casual, dtype: int64"
      ]
     },
     "execution_count": 71,
     "metadata": {},
     "output_type": "execute_result"
    }
   ],
   "source": [
    "#sum(\"casual\") group by season , sort in ascending order\n",
    "df_by_seasons[\"casual\"].sum().sort_values()"
   ]
  },
  {
   "cell_type": "code",
   "execution_count": 72,
   "id": "e27cd469",
   "metadata": {},
   "outputs": [
    {
     "data": {
      "text/plain": [
       "season\n",
       "3    835038\n",
       "2    715067\n",
       "4    711831\n",
       "1    410726\n",
       "Name: registered, dtype: int64"
      ]
     },
     "execution_count": 72,
     "metadata": {},
     "output_type": "execute_result"
    }
   ],
   "source": [
    "#sum(\"registered\") group by season , sort in descending order\n",
    "df_by_seasons[\"registered\"].sum().sort_values(ascending=False)"
   ]
  },
  {
   "cell_type": "markdown",
   "id": "63cd7a89",
   "metadata": {},
   "source": [
    "Combine the outcome of two group by into single data frame."
   ]
  },
  {
   "cell_type": "code",
   "execution_count": 73,
   "id": "80c56fde",
   "metadata": {},
   "outputs": [
    {
     "data": {
      "text/plain": [
       "season\n",
       "1     60622\n",
       "2    203522\n",
       "3    226091\n",
       "4    129782\n",
       "Name: casual, dtype: int64"
      ]
     },
     "execution_count": 73,
     "metadata": {},
     "output_type": "execute_result"
    }
   ],
   "source": [
    "#Create the summarized data for casual users\n",
    "df_casual = df_by_seasons[\"casual\"].sum()\n",
    "df_casual"
   ]
  },
  {
   "cell_type": "code",
   "execution_count": 74,
   "id": "2f99e2dc",
   "metadata": {},
   "outputs": [
    {
     "data": {
      "text/plain": [
       "season\n",
       "1    410726\n",
       "2    715067\n",
       "3    835038\n",
       "4    711831\n",
       "Name: registered, dtype: int64"
      ]
     },
     "execution_count": 74,
     "metadata": {},
     "output_type": "execute_result"
    }
   ],
   "source": [
    "#Create the summarized data for registered users\n",
    "df_registered = df_by_seasons[\"registered\"].sum()\n",
    "df_registered"
   ]
  },
  {
   "cell_type": "code",
   "execution_count": 75,
   "id": "8c715317",
   "metadata": {},
   "outputs": [
    {
     "data": {
      "text/html": [
       "<div>\n",
       "<style scoped>\n",
       "    .dataframe tbody tr th:only-of-type {\n",
       "        vertical-align: middle;\n",
       "    }\n",
       "\n",
       "    .dataframe tbody tr th {\n",
       "        vertical-align: top;\n",
       "    }\n",
       "\n",
       "    .dataframe thead th {\n",
       "        text-align: right;\n",
       "    }\n",
       "</style>\n",
       "<table border=\"1\" class=\"dataframe\">\n",
       "  <thead>\n",
       "    <tr style=\"text-align: right;\">\n",
       "      <th></th>\n",
       "      <th>casual</th>\n",
       "      <th>registered</th>\n",
       "    </tr>\n",
       "    <tr>\n",
       "      <th>season</th>\n",
       "      <th></th>\n",
       "      <th></th>\n",
       "    </tr>\n",
       "  </thead>\n",
       "  <tbody>\n",
       "    <tr>\n",
       "      <th>1</th>\n",
       "      <td>60622</td>\n",
       "      <td>410726</td>\n",
       "    </tr>\n",
       "    <tr>\n",
       "      <th>2</th>\n",
       "      <td>203522</td>\n",
       "      <td>715067</td>\n",
       "    </tr>\n",
       "    <tr>\n",
       "      <th>3</th>\n",
       "      <td>226091</td>\n",
       "      <td>835038</td>\n",
       "    </tr>\n",
       "    <tr>\n",
       "      <th>4</th>\n",
       "      <td>129782</td>\n",
       "      <td>711831</td>\n",
       "    </tr>\n",
       "  </tbody>\n",
       "</table>\n",
       "</div>"
      ],
      "text/plain": [
       "        casual  registered\n",
       "season                    \n",
       "1        60622      410726\n",
       "2       203522      715067\n",
       "3       226091      835038\n",
       "4       129782      711831"
      ]
     },
     "execution_count": 75,
     "metadata": {},
     "output_type": "execute_result"
    }
   ],
   "source": [
    "#Combine the two frames into single one using pandas concat feature\n",
    "frames = [df_casual, df_registered]\n",
    "df_seasons = pd.concat(frames, axis=1)\n",
    "df_seasons"
   ]
  },
  {
   "cell_type": "code",
   "execution_count": 76,
   "id": "75ecb42a",
   "metadata": {},
   "outputs": [
    {
     "data": {
      "text/html": [
       "<div>\n",
       "<style scoped>\n",
       "    .dataframe tbody tr th:only-of-type {\n",
       "        vertical-align: middle;\n",
       "    }\n",
       "\n",
       "    .dataframe tbody tr th {\n",
       "        vertical-align: top;\n",
       "    }\n",
       "\n",
       "    .dataframe thead th {\n",
       "        text-align: right;\n",
       "    }\n",
       "</style>\n",
       "<table border=\"1\" class=\"dataframe\">\n",
       "  <thead>\n",
       "    <tr style=\"text-align: right;\">\n",
       "      <th></th>\n",
       "      <th>casual</th>\n",
       "      <th>registered</th>\n",
       "      <th>total</th>\n",
       "    </tr>\n",
       "    <tr>\n",
       "      <th>season</th>\n",
       "      <th></th>\n",
       "      <th></th>\n",
       "      <th></th>\n",
       "    </tr>\n",
       "  </thead>\n",
       "  <tbody>\n",
       "    <tr>\n",
       "      <th>1</th>\n",
       "      <td>60622</td>\n",
       "      <td>410726</td>\n",
       "      <td>471348</td>\n",
       "    </tr>\n",
       "    <tr>\n",
       "      <th>2</th>\n",
       "      <td>203522</td>\n",
       "      <td>715067</td>\n",
       "      <td>918589</td>\n",
       "    </tr>\n",
       "    <tr>\n",
       "      <th>3</th>\n",
       "      <td>226091</td>\n",
       "      <td>835038</td>\n",
       "      <td>1061129</td>\n",
       "    </tr>\n",
       "    <tr>\n",
       "      <th>4</th>\n",
       "      <td>129782</td>\n",
       "      <td>711831</td>\n",
       "      <td>841613</td>\n",
       "    </tr>\n",
       "  </tbody>\n",
       "</table>\n",
       "</div>"
      ],
      "text/plain": [
       "        casual  registered    total\n",
       "season                             \n",
       "1        60622      410726   471348\n",
       "2       203522      715067   918589\n",
       "3       226091      835038  1061129\n",
       "4       129782      711831   841613"
      ]
     },
     "execution_count": 76,
     "metadata": {},
     "output_type": "execute_result"
    }
   ],
   "source": [
    "#Add the rowwise total for each season\n",
    "df_seasons[\"total\"] = df_seasons[\"casual\"] + df_seasons[\"registered\"]\n",
    "df_seasons"
   ]
  },
  {
   "cell_type": "markdown",
   "id": "5efc7841",
   "metadata": {},
   "source": [
    " Average number of users for different years and months can be found as follows :"
   ]
  },
  {
   "cell_type": "code",
   "execution_count": 77,
   "id": "abfcb5be",
   "metadata": {},
   "outputs": [],
   "source": [
    "#Create the group by based on year and months\n",
    "df_by_year_months = bikes.groupby([\"year\", \"mnth\"])"
   ]
  },
  {
   "cell_type": "code",
   "execution_count": 78,
   "id": "f946973a",
   "metadata": {},
   "outputs": [
    {
     "data": {
      "text/plain": [
       "<pandas.core.groupby.generic.DataFrameGroupBy object at 0x00000222BDEE3A50>"
      ]
     },
     "execution_count": 78,
     "metadata": {},
     "output_type": "execute_result"
    }
   ],
   "source": [
    "df_by_year_months"
   ]
  },
  {
   "cell_type": "code",
   "execution_count": 79,
   "id": "059d7c84",
   "metadata": {},
   "outputs": [
    {
     "data": {
      "text/plain": [
       "year  mnth\n",
       "2011  1        4.466570\n",
       "      2        9.617874\n",
       "      3       17.569863\n",
       "      4       31.079277\n",
       "      5       41.733871\n",
       "      6       42.516667\n",
       "      7       48.994624\n",
       "      8       39.455540\n",
       "      9       37.022315\n",
       "      10      33.946164\n",
       "      11      21.688456\n",
       "      12      11.400810\n",
       "2012  1       12.103914\n",
       "      2       12.602601\n",
       "      3       42.554509\n",
       "      4       53.559889\n",
       "      5       59.455645\n",
       "      6       60.130556\n",
       "      7       56.055108\n",
       "      8       58.060484\n",
       "      9       60.802778\n",
       "      10      48.782486\n",
       "      11      29.260446\n",
       "      12      17.850404\n",
       "Name: casual, dtype: float64"
      ]
     },
     "execution_count": 79,
     "metadata": {},
     "output_type": "execute_result"
    }
   ],
   "source": [
    "#Compute the average number of casual users per month per year\n",
    "series_casual = df_by_year_months[\"casual\"].mean()\n",
    "series_casual "
   ]
  },
  {
   "cell_type": "code",
   "execution_count": 80,
   "id": "2dbb1325",
   "metadata": {},
   "outputs": [
    {
     "data": {
      "text/plain": [
       "year  mnth\n",
       "2011  1        51.040698\n",
       "      2        64.673344\n",
       "      3        70.163014\n",
       "      4       100.867872\n",
       "      5       140.821237\n",
       "      6       156.805556\n",
       "      7       140.979839\n",
       "      8       147.536252\n",
       "      9       140.687587\n",
       "      10      132.286676\n",
       "      11      120.407510\n",
       "      12      106.443995\n",
       "2012  1       118.454791\n",
       "      2       136.439306\n",
       "      3       179.349933\n",
       "      4       189.091922\n",
       "      5       203.803763\n",
       "      6       221.577778\n",
       "      7       217.610215\n",
       "      8       230.250000\n",
       "      9       242.770833\n",
       "      10      232.066384\n",
       "      11      183.363510\n",
       "      12      148.878706\n",
       "Name: registered, dtype: float64"
      ]
     },
     "execution_count": 80,
     "metadata": {},
     "output_type": "execute_result"
    }
   ],
   "source": [
    "#Compute the average number of registered users per month per year\n",
    "series_registered = df_by_year_months[\"registered\"].mean()\n",
    "series_registered "
   ]
  },
  {
   "cell_type": "code",
   "execution_count": 81,
   "id": "f45dfab5",
   "metadata": {},
   "outputs": [
    {
     "data": {
      "text/html": [
       "<div>\n",
       "<style scoped>\n",
       "    .dataframe tbody tr th:only-of-type {\n",
       "        vertical-align: middle;\n",
       "    }\n",
       "\n",
       "    .dataframe tbody tr th {\n",
       "        vertical-align: top;\n",
       "    }\n",
       "\n",
       "    .dataframe thead th {\n",
       "        text-align: right;\n",
       "    }\n",
       "</style>\n",
       "<table border=\"1\" class=\"dataframe\">\n",
       "  <thead>\n",
       "    <tr style=\"text-align: right;\">\n",
       "      <th></th>\n",
       "      <th></th>\n",
       "      <th>casual</th>\n",
       "      <th>registered</th>\n",
       "    </tr>\n",
       "    <tr>\n",
       "      <th>year</th>\n",
       "      <th>mnth</th>\n",
       "      <th></th>\n",
       "      <th></th>\n",
       "    </tr>\n",
       "  </thead>\n",
       "  <tbody>\n",
       "    <tr>\n",
       "      <th rowspan=\"12\" valign=\"top\">2011</th>\n",
       "      <th>1</th>\n",
       "      <td>4.466570</td>\n",
       "      <td>51.040698</td>\n",
       "    </tr>\n",
       "    <tr>\n",
       "      <th>2</th>\n",
       "      <td>9.617874</td>\n",
       "      <td>64.673344</td>\n",
       "    </tr>\n",
       "    <tr>\n",
       "      <th>3</th>\n",
       "      <td>17.569863</td>\n",
       "      <td>70.163014</td>\n",
       "    </tr>\n",
       "    <tr>\n",
       "      <th>4</th>\n",
       "      <td>31.079277</td>\n",
       "      <td>100.867872</td>\n",
       "    </tr>\n",
       "    <tr>\n",
       "      <th>5</th>\n",
       "      <td>41.733871</td>\n",
       "      <td>140.821237</td>\n",
       "    </tr>\n",
       "    <tr>\n",
       "      <th>6</th>\n",
       "      <td>42.516667</td>\n",
       "      <td>156.805556</td>\n",
       "    </tr>\n",
       "    <tr>\n",
       "      <th>7</th>\n",
       "      <td>48.994624</td>\n",
       "      <td>140.979839</td>\n",
       "    </tr>\n",
       "    <tr>\n",
       "      <th>8</th>\n",
       "      <td>39.455540</td>\n",
       "      <td>147.536252</td>\n",
       "    </tr>\n",
       "    <tr>\n",
       "      <th>9</th>\n",
       "      <td>37.022315</td>\n",
       "      <td>140.687587</td>\n",
       "    </tr>\n",
       "    <tr>\n",
       "      <th>10</th>\n",
       "      <td>33.946164</td>\n",
       "      <td>132.286676</td>\n",
       "    </tr>\n",
       "    <tr>\n",
       "      <th>11</th>\n",
       "      <td>21.688456</td>\n",
       "      <td>120.407510</td>\n",
       "    </tr>\n",
       "    <tr>\n",
       "      <th>12</th>\n",
       "      <td>11.400810</td>\n",
       "      <td>106.443995</td>\n",
       "    </tr>\n",
       "    <tr>\n",
       "      <th rowspan=\"12\" valign=\"top\">2012</th>\n",
       "      <th>1</th>\n",
       "      <td>12.103914</td>\n",
       "      <td>118.454791</td>\n",
       "    </tr>\n",
       "    <tr>\n",
       "      <th>2</th>\n",
       "      <td>12.602601</td>\n",
       "      <td>136.439306</td>\n",
       "    </tr>\n",
       "    <tr>\n",
       "      <th>3</th>\n",
       "      <td>42.554509</td>\n",
       "      <td>179.349933</td>\n",
       "    </tr>\n",
       "    <tr>\n",
       "      <th>4</th>\n",
       "      <td>53.559889</td>\n",
       "      <td>189.091922</td>\n",
       "    </tr>\n",
       "    <tr>\n",
       "      <th>5</th>\n",
       "      <td>59.455645</td>\n",
       "      <td>203.803763</td>\n",
       "    </tr>\n",
       "    <tr>\n",
       "      <th>6</th>\n",
       "      <td>60.130556</td>\n",
       "      <td>221.577778</td>\n",
       "    </tr>\n",
       "    <tr>\n",
       "      <th>7</th>\n",
       "      <td>56.055108</td>\n",
       "      <td>217.610215</td>\n",
       "    </tr>\n",
       "    <tr>\n",
       "      <th>8</th>\n",
       "      <td>58.060484</td>\n",
       "      <td>230.250000</td>\n",
       "    </tr>\n",
       "    <tr>\n",
       "      <th>9</th>\n",
       "      <td>60.802778</td>\n",
       "      <td>242.770833</td>\n",
       "    </tr>\n",
       "    <tr>\n",
       "      <th>10</th>\n",
       "      <td>48.782486</td>\n",
       "      <td>232.066384</td>\n",
       "    </tr>\n",
       "    <tr>\n",
       "      <th>11</th>\n",
       "      <td>29.260446</td>\n",
       "      <td>183.363510</td>\n",
       "    </tr>\n",
       "    <tr>\n",
       "      <th>12</th>\n",
       "      <td>17.850404</td>\n",
       "      <td>148.878706</td>\n",
       "    </tr>\n",
       "  </tbody>\n",
       "</table>\n",
       "</div>"
      ],
      "text/plain": [
       "              casual  registered\n",
       "year mnth                       \n",
       "2011 1      4.466570   51.040698\n",
       "     2      9.617874   64.673344\n",
       "     3     17.569863   70.163014\n",
       "     4     31.079277  100.867872\n",
       "     5     41.733871  140.821237\n",
       "     6     42.516667  156.805556\n",
       "     7     48.994624  140.979839\n",
       "     8     39.455540  147.536252\n",
       "     9     37.022315  140.687587\n",
       "     10    33.946164  132.286676\n",
       "     11    21.688456  120.407510\n",
       "     12    11.400810  106.443995\n",
       "2012 1     12.103914  118.454791\n",
       "     2     12.602601  136.439306\n",
       "     3     42.554509  179.349933\n",
       "     4     53.559889  189.091922\n",
       "     5     59.455645  203.803763\n",
       "     6     60.130556  221.577778\n",
       "     7     56.055108  217.610215\n",
       "     8     58.060484  230.250000\n",
       "     9     60.802778  242.770833\n",
       "     10    48.782486  232.066384\n",
       "     11    29.260446  183.363510\n",
       "     12    17.850404  148.878706"
      ]
     },
     "execution_count": 81,
     "metadata": {},
     "output_type": "execute_result"
    }
   ],
   "source": [
    "#Concatenate the results of two data frames\n",
    "df_casual = pd.DataFrame(series_casual)\n",
    "#df_casual\n",
    "df_registered = pd.DataFrame(series_registered)\n",
    "#df_registered\n",
    "df_year_month = pd.merge(df_casual,df_registered, on=['year', 'mnth'])\n",
    "df_year_month"
   ]
  },
  {
   "cell_type": "code",
   "execution_count": 82,
   "id": "8b1156d5",
   "metadata": {},
   "outputs": [],
   "source": [
    "df_year_month[\"total\"] = df_year_month[\"casual\"] + df_year_month[\"registered\"]"
   ]
  },
  {
   "cell_type": "code",
   "execution_count": 83,
   "id": "dd85dafb",
   "metadata": {},
   "outputs": [
    {
     "data": {
      "text/html": [
       "<div>\n",
       "<style scoped>\n",
       "    .dataframe tbody tr th:only-of-type {\n",
       "        vertical-align: middle;\n",
       "    }\n",
       "\n",
       "    .dataframe tbody tr th {\n",
       "        vertical-align: top;\n",
       "    }\n",
       "\n",
       "    .dataframe thead th {\n",
       "        text-align: right;\n",
       "    }\n",
       "</style>\n",
       "<table border=\"1\" class=\"dataframe\">\n",
       "  <thead>\n",
       "    <tr style=\"text-align: right;\">\n",
       "      <th></th>\n",
       "      <th></th>\n",
       "      <th>casual</th>\n",
       "      <th>registered</th>\n",
       "      <th>total</th>\n",
       "    </tr>\n",
       "    <tr>\n",
       "      <th>year</th>\n",
       "      <th>mnth</th>\n",
       "      <th></th>\n",
       "      <th></th>\n",
       "      <th></th>\n",
       "    </tr>\n",
       "  </thead>\n",
       "  <tbody>\n",
       "    <tr>\n",
       "      <th rowspan=\"12\" valign=\"top\">2011</th>\n",
       "      <th>1</th>\n",
       "      <td>4.466570</td>\n",
       "      <td>51.040698</td>\n",
       "      <td>55.507267</td>\n",
       "    </tr>\n",
       "    <tr>\n",
       "      <th>2</th>\n",
       "      <td>9.617874</td>\n",
       "      <td>64.673344</td>\n",
       "      <td>74.291217</td>\n",
       "    </tr>\n",
       "    <tr>\n",
       "      <th>3</th>\n",
       "      <td>17.569863</td>\n",
       "      <td>70.163014</td>\n",
       "      <td>87.732877</td>\n",
       "    </tr>\n",
       "    <tr>\n",
       "      <th>4</th>\n",
       "      <td>31.079277</td>\n",
       "      <td>100.867872</td>\n",
       "      <td>131.947149</td>\n",
       "    </tr>\n",
       "    <tr>\n",
       "      <th>5</th>\n",
       "      <td>41.733871</td>\n",
       "      <td>140.821237</td>\n",
       "      <td>182.555108</td>\n",
       "    </tr>\n",
       "    <tr>\n",
       "      <th>6</th>\n",
       "      <td>42.516667</td>\n",
       "      <td>156.805556</td>\n",
       "      <td>199.322222</td>\n",
       "    </tr>\n",
       "    <tr>\n",
       "      <th>7</th>\n",
       "      <td>48.994624</td>\n",
       "      <td>140.979839</td>\n",
       "      <td>189.974462</td>\n",
       "    </tr>\n",
       "    <tr>\n",
       "      <th>8</th>\n",
       "      <td>39.455540</td>\n",
       "      <td>147.536252</td>\n",
       "      <td>186.991792</td>\n",
       "    </tr>\n",
       "    <tr>\n",
       "      <th>9</th>\n",
       "      <td>37.022315</td>\n",
       "      <td>140.687587</td>\n",
       "      <td>177.709902</td>\n",
       "    </tr>\n",
       "    <tr>\n",
       "      <th>10</th>\n",
       "      <td>33.946164</td>\n",
       "      <td>132.286676</td>\n",
       "      <td>166.232840</td>\n",
       "    </tr>\n",
       "    <tr>\n",
       "      <th>11</th>\n",
       "      <td>21.688456</td>\n",
       "      <td>120.407510</td>\n",
       "      <td>142.095967</td>\n",
       "    </tr>\n",
       "    <tr>\n",
       "      <th>12</th>\n",
       "      <td>11.400810</td>\n",
       "      <td>106.443995</td>\n",
       "      <td>117.844804</td>\n",
       "    </tr>\n",
       "    <tr>\n",
       "      <th rowspan=\"12\" valign=\"top\">2012</th>\n",
       "      <th>1</th>\n",
       "      <td>12.103914</td>\n",
       "      <td>118.454791</td>\n",
       "      <td>130.558704</td>\n",
       "    </tr>\n",
       "    <tr>\n",
       "      <th>2</th>\n",
       "      <td>12.602601</td>\n",
       "      <td>136.439306</td>\n",
       "      <td>149.041908</td>\n",
       "    </tr>\n",
       "    <tr>\n",
       "      <th>3</th>\n",
       "      <td>42.554509</td>\n",
       "      <td>179.349933</td>\n",
       "      <td>221.904441</td>\n",
       "    </tr>\n",
       "    <tr>\n",
       "      <th>4</th>\n",
       "      <td>53.559889</td>\n",
       "      <td>189.091922</td>\n",
       "      <td>242.651811</td>\n",
       "    </tr>\n",
       "    <tr>\n",
       "      <th>5</th>\n",
       "      <td>59.455645</td>\n",
       "      <td>203.803763</td>\n",
       "      <td>263.259409</td>\n",
       "    </tr>\n",
       "    <tr>\n",
       "      <th>6</th>\n",
       "      <td>60.130556</td>\n",
       "      <td>221.577778</td>\n",
       "      <td>281.708333</td>\n",
       "    </tr>\n",
       "    <tr>\n",
       "      <th>7</th>\n",
       "      <td>56.055108</td>\n",
       "      <td>217.610215</td>\n",
       "      <td>273.665323</td>\n",
       "    </tr>\n",
       "    <tr>\n",
       "      <th>8</th>\n",
       "      <td>58.060484</td>\n",
       "      <td>230.250000</td>\n",
       "      <td>288.310484</td>\n",
       "    </tr>\n",
       "    <tr>\n",
       "      <th>9</th>\n",
       "      <td>60.802778</td>\n",
       "      <td>242.770833</td>\n",
       "      <td>303.573611</td>\n",
       "    </tr>\n",
       "    <tr>\n",
       "      <th>10</th>\n",
       "      <td>48.782486</td>\n",
       "      <td>232.066384</td>\n",
       "      <td>280.848870</td>\n",
       "    </tr>\n",
       "    <tr>\n",
       "      <th>11</th>\n",
       "      <td>29.260446</td>\n",
       "      <td>183.363510</td>\n",
       "      <td>212.623955</td>\n",
       "    </tr>\n",
       "    <tr>\n",
       "      <th>12</th>\n",
       "      <td>17.850404</td>\n",
       "      <td>148.878706</td>\n",
       "      <td>166.729111</td>\n",
       "    </tr>\n",
       "  </tbody>\n",
       "</table>\n",
       "</div>"
      ],
      "text/plain": [
       "              casual  registered       total\n",
       "year mnth                                   \n",
       "2011 1      4.466570   51.040698   55.507267\n",
       "     2      9.617874   64.673344   74.291217\n",
       "     3     17.569863   70.163014   87.732877\n",
       "     4     31.079277  100.867872  131.947149\n",
       "     5     41.733871  140.821237  182.555108\n",
       "     6     42.516667  156.805556  199.322222\n",
       "     7     48.994624  140.979839  189.974462\n",
       "     8     39.455540  147.536252  186.991792\n",
       "     9     37.022315  140.687587  177.709902\n",
       "     10    33.946164  132.286676  166.232840\n",
       "     11    21.688456  120.407510  142.095967\n",
       "     12    11.400810  106.443995  117.844804\n",
       "2012 1     12.103914  118.454791  130.558704\n",
       "     2     12.602601  136.439306  149.041908\n",
       "     3     42.554509  179.349933  221.904441\n",
       "     4     53.559889  189.091922  242.651811\n",
       "     5     59.455645  203.803763  263.259409\n",
       "     6     60.130556  221.577778  281.708333\n",
       "     7     56.055108  217.610215  273.665323\n",
       "     8     58.060484  230.250000  288.310484\n",
       "     9     60.802778  242.770833  303.573611\n",
       "     10    48.782486  232.066384  280.848870\n",
       "     11    29.260446  183.363510  212.623955\n",
       "     12    17.850404  148.878706  166.729111"
      ]
     },
     "execution_count": 83,
     "metadata": {},
     "output_type": "execute_result"
    }
   ],
   "source": [
    "df_year_month"
   ]
  },
  {
   "cell_type": "code",
   "execution_count": 84,
   "id": "8f9fc5ca",
   "metadata": {},
   "outputs": [
    {
     "data": {
      "text/html": [
       "<div>\n",
       "<style scoped>\n",
       "    .dataframe tbody tr th:only-of-type {\n",
       "        vertical-align: middle;\n",
       "    }\n",
       "\n",
       "    .dataframe tbody tr th {\n",
       "        vertical-align: top;\n",
       "    }\n",
       "\n",
       "    .dataframe thead th {\n",
       "        text-align: right;\n",
       "    }\n",
       "</style>\n",
       "<table border=\"1\" class=\"dataframe\">\n",
       "  <thead>\n",
       "    <tr style=\"text-align: right;\">\n",
       "      <th></th>\n",
       "      <th>casual</th>\n",
       "      <th>registered</th>\n",
       "      <th>total</th>\n",
       "    </tr>\n",
       "    <tr>\n",
       "      <th>season</th>\n",
       "      <th></th>\n",
       "      <th></th>\n",
       "      <th></th>\n",
       "    </tr>\n",
       "  </thead>\n",
       "  <tbody>\n",
       "    <tr>\n",
       "      <th>1</th>\n",
       "      <td>60622</td>\n",
       "      <td>410726</td>\n",
       "      <td>471348</td>\n",
       "    </tr>\n",
       "    <tr>\n",
       "      <th>2</th>\n",
       "      <td>203522</td>\n",
       "      <td>715067</td>\n",
       "      <td>918589</td>\n",
       "    </tr>\n",
       "    <tr>\n",
       "      <th>3</th>\n",
       "      <td>226091</td>\n",
       "      <td>835038</td>\n",
       "      <td>1061129</td>\n",
       "    </tr>\n",
       "    <tr>\n",
       "      <th>4</th>\n",
       "      <td>129782</td>\n",
       "      <td>711831</td>\n",
       "      <td>841613</td>\n",
       "    </tr>\n",
       "  </tbody>\n",
       "</table>\n",
       "</div>"
      ],
      "text/plain": [
       "        casual  registered    total\n",
       "season                             \n",
       "1        60622      410726   471348\n",
       "2       203522      715067   918589\n",
       "3       226091      835038  1061129\n",
       "4       129782      711831   841613"
      ]
     },
     "execution_count": 84,
     "metadata": {},
     "output_type": "execute_result"
    }
   ],
   "source": [
    "df_seasons.head()"
   ]
  },
  {
   "cell_type": "markdown",
   "id": "1db33ca8",
   "metadata": {},
   "source": [
    "Writing the newly created smaller data frames to CSV file"
   ]
  },
  {
   "cell_type": "code",
   "execution_count": 85,
   "id": "373fea9b",
   "metadata": {},
   "outputs": [],
   "source": [
    "df_seasons.to_csv(\"../Data/bikes_season_data.csv\")"
   ]
  },
  {
   "cell_type": "code",
   "execution_count": 86,
   "id": "30f269c4",
   "metadata": {},
   "outputs": [],
   "source": [
    "df_year_month.to_csv(\"../Data/bikes_year_data.csv\")"
   ]
  },
  {
   "cell_type": "markdown",
   "id": "71a895dd",
   "metadata": {},
   "source": [
    "## Data visualization"
   ]
  },
  {
   "cell_type": "code",
   "execution_count": 87,
   "id": "4b8011db",
   "metadata": {},
   "outputs": [],
   "source": [
    "import matplotlib.pyplot as plt"
   ]
  },
  {
   "cell_type": "code",
   "execution_count": 112,
   "id": "a2c65fd6",
   "metadata": {},
   "outputs": [],
   "source": [
    "bikes = pd.read_csv(\"../Data/bike_shairing_hourly.csv\")"
   ]
  },
  {
   "cell_type": "code",
   "execution_count": 114,
   "id": "fa02c651",
   "metadata": {},
   "outputs": [],
   "source": [
    "dte = pd.to_datetime(bikes.dteday)\n",
    "year = dte.dt.year\n",
    "bikes[\"year\"] = year"
   ]
  },
  {
   "cell_type": "code",
   "execution_count": 115,
   "id": "7ec4430f",
   "metadata": {},
   "outputs": [
    {
     "data": {
      "text/plain": [
       "[<matplotlib.lines.Line2D at 0x222c9081f50>]"
      ]
     },
     "execution_count": 115,
     "metadata": {},
     "output_type": "execute_result"
    },
    {
     "data": {
      "image/png": "[encoded data removed]",
      "text/plain": [
       "<Figure size 640x480 with 1 Axes>"
      ]
     },
     "metadata": {},
     "output_type": "display_data"
    }
   ],
   "source": [
    "# Plotting for bikes season graph\n",
    "plt.plot(bikes.season)"
   ]
  },
  {
   "cell_type": "code",
   "execution_count": 116,
   "id": "98661e8f",
   "metadata": {},
   "outputs": [
    {
     "data": {
      "text/plain": [
       "[<matplotlib.lines.Line2D at 0x222c90e1f50>]"
      ]
     },
     "execution_count": 116,
     "metadata": {},
     "output_type": "execute_result"
    },
    {
     "data": {
      "image/png": "[encoded data removed]",
      "text/plain": [
       "<Figure size 640x480 with 1 Axes>"
      ]
     },
     "metadata": {},
     "output_type": "display_data"
    }
   ],
   "source": [
    "# Plotting for bikes year\n",
    "plt.plot(bikes.year)"
   ]
  },
  {
   "cell_type": "markdown",
   "id": "c081d7be",
   "metadata": {},
   "source": [
    "Not much meaning insights have come from the 2 plots"
   ]
  },
  {
   "cell_type": "code",
   "execution_count": 93,
   "id": "2ca0c4a3",
   "metadata": {},
   "outputs": [
    {
     "data": {
      "text/plain": [
       "[<matplotlib.lines.Line2D at 0x222c0ac59d0>]"
      ]
     },
     "execution_count": 93,
     "metadata": {},
     "output_type": "execute_result"
    },
    {
     "data": {
      "image/png": "[encoded data removed]",
      "text/plain": [
       "<Figure size 640x480 with 1 Axes>"
      ]
     },
     "metadata": {},
     "output_type": "display_data"
    }
   ],
   "source": [
    "#Plotting for casual users\n",
    "plt.plot(bikes.casual)"
   ]
  },
  {
   "cell_type": "code",
   "execution_count": 94,
   "id": "a69bb45d",
   "metadata": {},
   "outputs": [
    {
     "data": {
      "text/plain": [
       "[<matplotlib.lines.Line2D at 0x222c0257750>]"
      ]
     },
     "execution_count": 94,
     "metadata": {},
     "output_type": "execute_result"
    },
    {
     "data": {
      "image/png": "[encoded data removed]",
      "text/plain": [
       "<Figure size 640x480 with 1 Axes>"
      ]
     },
     "metadata": {},
     "output_type": "display_data"
    }
   ],
   "source": [
    "#Plotting for registered users\n",
    "plt.plot(bikes.registered)"
   ]
  },
  {
   "cell_type": "code",
   "execution_count": 97,
   "id": "a6b63104",
   "metadata": {},
   "outputs": [
    {
     "data": {
      "text/plain": [
       "[<matplotlib.lines.Line2D at 0x222c37aa110>]"
      ]
     },
     "execution_count": 97,
     "metadata": {},
     "output_type": "execute_result"
    },
    {
     "data": {
      "image/png": "[encoded data removed]",
      "text/plain": [
       "<Figure size 640x480 with 1 Axes>"
      ]
     },
     "metadata": {},
     "output_type": "display_data"
    }
   ],
   "source": [
    "# Plot for casual users across different seasons\n",
    "plt.plot(df_seasons.casual)"
   ]
  },
  {
   "cell_type": "code",
   "execution_count": 99,
   "id": "1ef54e7a",
   "metadata": {},
   "outputs": [
    {
     "data": {
      "text/plain": [
       "[<matplotlib.lines.Line2D at 0x222c3b0ae50>]"
      ]
     },
     "execution_count": 99,
     "metadata": {},
     "output_type": "execute_result"
    },
    {
     "data": {
      "image/png": "[encoded data removed]",
      "text/plain": [
       "<Figure size 640x480 with 1 Axes>"
      ]
     },
     "metadata": {},
     "output_type": "display_data"
    }
   ],
   "source": [
    "# Plot for registered users across different seasons\n",
    "plt.plot(df_seasons.registered)"
   ]
  },
  {
   "cell_type": "markdown",
   "id": "f522adc5",
   "metadata": {},
   "source": [
    "Users have used the service most during season 3 (summer season) whether they are registerd or casual users"
   ]
  },
  {
   "cell_type": "markdown",
   "id": "a154456d",
   "metadata": {},
   "source": [
    "Lets check the yearly trends."
   ]
  },
  {
   "cell_type": "code",
   "execution_count": 117,
   "id": "d5e016cf",
   "metadata": {},
   "outputs": [
    {
     "data": {
      "text/plain": [
       "[<matplotlib.lines.Line2D at 0x222c910d9d0>]"
      ]
     },
     "execution_count": 117,
     "metadata": {},
     "output_type": "execute_result"
    },
    {
     "data": {
      "image/png": "[encoded data removed]",
      "text/plain": [
       "<Figure size 640x480 with 1 Axes>"
      ]
     },
     "metadata": {},
     "output_type": "display_data"
    }
   ],
   "source": [
    "plt.plot(bikes.cnt)"
   ]
  },
  {
   "cell_type": "markdown",
   "id": "1b2b8971",
   "metadata": {},
   "source": [
    "Lets see how we can compare two features using same plot. Compare count of users against each day."
   ]
  },
  {
   "cell_type": "code",
   "execution_count": 118,
   "id": "c714117e",
   "metadata": {},
   "outputs": [
    {
     "data": {
      "text/plain": [
       "[<matplotlib.lines.Line2D at 0x222c9124d50>]"
      ]
     },
     "execution_count": 118,
     "metadata": {},
     "output_type": "execute_result"
    },
    {
     "data": {
      "image/png": "[encoded data removed]",
      "text/plain": [
       "<Figure size 640x480 with 1 Axes>"
      ]
     },
     "metadata": {},
     "output_type": "display_data"
    }
   ],
   "source": [
    "plt.plot(bikes.dteday, bikes.cnt)"
   ]
  },
  {
   "cell_type": "code",
   "execution_count": 119,
   "id": "9c22ef6c",
   "metadata": {},
   "outputs": [
    {
     "data": {
      "text/plain": [
       "[<matplotlib.lines.Line2D at 0x222cecbd3d0>]"
      ]
     },
     "execution_count": 119,
     "metadata": {},
     "output_type": "execute_result"
    },
    {
     "data": {
      "image/png": "[encoded data removed]",
      "text/plain": [
       "<Figure size 640x480 with 1 Axes>"
      ]
     },
     "metadata": {},
     "output_type": "display_data"
    }
   ],
   "source": [
    "plt.plot(bikes.season, bikes.cnt)"
   ]
  },
  {
   "cell_type": "code",
   "execution_count": 120,
   "id": "bbdb087b",
   "metadata": {},
   "outputs": [
    {
     "data": {
      "text/plain": [
       "season\n",
       "1     471348\n",
       "2     918589\n",
       "3    1061129\n",
       "4     841613\n",
       "Name: cnt, dtype: int64"
      ]
     },
     "execution_count": 120,
     "metadata": {},
     "output_type": "execute_result"
    }
   ],
   "source": [
    "df_by_season = bikes.groupby(\"season\")\n",
    "df_by_season.cnt.sum()"
   ]
  },
  {
   "cell_type": "code",
   "execution_count": 121,
   "id": "1dc4fbb0",
   "metadata": {},
   "outputs": [
    {
     "data": {
      "text/plain": [
       "[<matplotlib.lines.Line2D at 0x222ced19f50>]"
      ]
     },
     "execution_count": 121,
     "metadata": {},
     "output_type": "execute_result"
    },
    {
     "data": {
      "image/png": "[encoded data removed]",
      "text/plain": [
       "<Figure size 640x480 with 1 Axes>"
      ]
     },
     "metadata": {},
     "output_type": "display_data"
    }
   ],
   "source": [
    "plt.plot(bikes.season.unique(), df_by_season.cnt.sum())"
   ]
  },
  {
   "cell_type": "markdown",
   "id": "18ebb750",
   "metadata": {},
   "source": [
    "Looks like users prefers to use service in season 3 i.e. summer."
   ]
  },
  {
   "cell_type": "markdown",
   "id": "ea7bf906",
   "metadata": {},
   "source": [
    "Lets check the yearly trends."
   ]
  },
  {
   "cell_type": "code",
   "execution_count": 122,
   "id": "aea831cb",
   "metadata": {},
   "outputs": [],
   "source": [
    "df_by_year = bikes.groupby([\"year\"])"
   ]
  },
  {
   "cell_type": "code",
   "execution_count": 123,
   "id": "b05b462e",
   "metadata": {},
   "outputs": [
    {
     "data": {
      "text/plain": [
       "year\n",
       "2011    1243103\n",
       "2012    2049576\n",
       "Name: cnt, dtype: int64"
      ]
     },
     "execution_count": 123,
     "metadata": {},
     "output_type": "execute_result"
    }
   ],
   "source": [
    "df_by_year.cnt.sum()"
   ]
  },
  {
   "cell_type": "code",
   "execution_count": 124,
   "id": "4de91fac",
   "metadata": {},
   "outputs": [
    {
     "data": {
      "text/plain": [
       "[<matplotlib.lines.Line2D at 0x222ced0f890>]"
      ]
     },
     "execution_count": 124,
     "metadata": {},
     "output_type": "execute_result"
    },
    {
     "data": {
      "image/png": "[encoded data removed]",
      "text/plain": [
       "<Figure size 640x480 with 1 Axes>"
      ]
     },
     "metadata": {},
     "output_type": "display_data"
    }
   ],
   "source": [
    "plt.plot(df_by_year.year.unique(), df_by_year.cnt.sum())"
   ]
  },
  {
   "cell_type": "markdown",
   "id": "b35c1d06",
   "metadata": {},
   "source": [
    "Lets explore monthly and hourly trends."
   ]
  },
  {
   "cell_type": "code",
   "execution_count": 125,
   "id": "f1def0b5",
   "metadata": {},
   "outputs": [
    {
     "data": {
      "text/plain": [
       "mnth\n",
       "1     134933\n",
       "2     151352\n",
       "3     228920\n",
       "4     269094\n",
       "5     331686\n",
       "6     346342\n",
       "7     344948\n",
       "8     351194\n",
       "9     345991\n",
       "10    322352\n",
       "11    254831\n",
       "12    211036\n",
       "Name: cnt, dtype: int64"
      ]
     },
     "execution_count": 125,
     "metadata": {},
     "output_type": "execute_result"
    }
   ],
   "source": [
    "df_months = bikes.groupby(\"mnth\")\n",
    "df_months.cnt.sum()"
   ]
  },
  {
   "cell_type": "code",
   "execution_count": 126,
   "id": "dc84e343",
   "metadata": {},
   "outputs": [
    {
     "data": {
      "text/plain": [
       "[<matplotlib.lines.Line2D at 0x222cee07390>]"
      ]
     },
     "execution_count": 126,
     "metadata": {},
     "output_type": "execute_result"
    },
    {
     "data": {
      "image/png": "[encoded data removed]",
      "text/plain": [
       "<Figure size 640x480 with 1 Axes>"
      ]
     },
     "metadata": {},
     "output_type": "display_data"
    }
   ],
   "source": [
    "plt.plot(df_months.cnt.sum())"
   ]
  },
  {
   "cell_type": "markdown",
   "id": "951931ba",
   "metadata": {},
   "source": [
    "Usually between June to Sept users uses the service most."
   ]
  },
  {
   "cell_type": "code",
   "execution_count": 127,
   "id": "5564832d",
   "metadata": {},
   "outputs": [
    {
     "data": {
      "text/plain": [
       "hr\n",
       "0      39130\n",
       "1      24164\n",
       "2      16352\n",
       "3       8174\n",
       "4       4428\n",
       "5      14261\n",
       "6      55132\n",
       "7     154171\n",
       "8     261001\n",
       "9     159438\n",
       "10    126257\n",
       "11    151320\n",
       "12    184414\n",
       "13    184919\n",
       "14    175652\n",
       "15    183149\n",
       "16    227748\n",
       "17    336860\n",
       "18    309772\n",
       "19    226789\n",
       "20    164550\n",
       "21    125445\n",
       "22     95612\n",
       "23     63941\n",
       "Name: cnt, dtype: int64"
      ]
     },
     "execution_count": 127,
     "metadata": {},
     "output_type": "execute_result"
    }
   ],
   "source": [
    "df_hours = bikes.groupby(\"hr\")\n",
    "df_hours.cnt.sum()"
   ]
  },
  {
   "cell_type": "code",
   "execution_count": 128,
   "id": "8ec62ab7",
   "metadata": {},
   "outputs": [
    {
     "data": {
      "text/plain": [
       "[<matplotlib.lines.Line2D at 0x222cee6cd90>]"
      ]
     },
     "execution_count": 128,
     "metadata": {},
     "output_type": "execute_result"
    },
    {
     "data": {
      "image/png": "[encoded data removed]",
      "text/plain": [
       "<Figure size 640x480 with 1 Axes>"
      ]
     },
     "metadata": {},
     "output_type": "display_data"
    }
   ],
   "source": [
    "plt.plot(df_hours.cnt.sum())"
   ]
  },
  {
   "cell_type": "markdown",
   "id": "d3deda62",
   "metadata": {},
   "source": [
    "Usually during morning and afternoon hours most users uses the service. Whereas during early morning hours least number of users uses the service."
   ]
  },
  {
   "cell_type": "code",
   "execution_count": 129,
   "id": "e4fb5745",
   "metadata": {},
   "outputs": [
    {
     "data": {
      "text/plain": [
       "[<matplotlib.lines.Line2D at 0x222cedb88d0>]"
      ]
     },
     "execution_count": 129,
     "metadata": {},
     "output_type": "execute_result"
    },
    {
     "data": {
      "image/png": "[encoded data removed]",
      "text/plain": [
       "<Figure size 640x480 with 1 Axes>"
      ]
     },
     "metadata": {},
     "output_type": "display_data"
    }
   ],
   "source": [
    "plt.plot(df_hours.cnt.mean())"
   ]
  },
  {
   "cell_type": "code",
   "execution_count": 131,
   "id": "55bb1ee2",
   "metadata": {},
   "outputs": [
    {
     "data": {
      "text/plain": [
       "Text(0, 0.5, 'sum(users)')"
      ]
     },
     "execution_count": 131,
     "metadata": {},
     "output_type": "execute_result"
    },
    {
     "data": {
      "image/png": "[encoded data removed]",
      "text/plain": [
       "<Figure size 640x480 with 1 Axes>"
      ]
     },
     "metadata": {},
     "output_type": "display_data"
    }
   ],
   "source": [
    "plt.plot(bikes.hr.unique(), df_hours.cnt.sum())\n",
    "plt.title(\"Hourly users trend\")\n",
    "plt.xlabel(\"hours\")\n",
    "plt.ylabel(\"sum(users)\")"
   ]
  },
  {
   "cell_type": "code",
   "execution_count": 132,
   "id": "20c09702",
   "metadata": {},
   "outputs": [
    {
     "data": {
      "image/png": "[encoded data removed]",
      "text/plain": [
       "<Figure size 640x480 with 1 Axes>"
      ]
     },
     "metadata": {},
     "output_type": "display_data"
    }
   ],
   "source": [
    "plt.plot(bikes.hr.unique(), df_hours.cnt.sum())\n",
    "plt.title(\"Hourly users trend\")\n",
    "plt.xlabel(\"hours\")\n",
    "plt.ylabel(\"sum(users)\")\n",
    "plt.grid(True)"
   ]
  },
  {
   "cell_type": "markdown",
   "id": "2c81fd53",
   "metadata": {},
   "source": [
    "May be adding legend can also increase the readability of the graph."
   ]
  },
  {
   "cell_type": "code",
   "execution_count": 135,
   "id": "f959ba2e",
   "metadata": {},
   "outputs": [
    {
     "data": {
      "text/plain": [
       "<matplotlib.legend.Legend at 0x222c9605410>"
      ]
     },
     "execution_count": 135,
     "metadata": {},
     "output_type": "execute_result"
    },
    {
     "data": {
      "image/png": "[encoded data removed]",
      "text/plain": [
       "<Figure size 640x480 with 1 Axes>"
      ]
     },
     "metadata": {},
     "output_type": "display_data"
    }
   ],
   "source": [
    "plt.plot(bikes.hr.unique(), df_hours.cnt.sum(), label=\"user count\")\n",
    "plt.title(\"Hourly users trend\")\n",
    "plt.xlabel(\"hours\")\n",
    "plt.ylabel(\"sum(users)\")\n",
    "plt.grid(True)\n",
    "plt.legend()"
   ]
  },
  {
   "cell_type": "code",
   "execution_count": null,
   "id": "af81de5e",
   "metadata": {},
   "outputs": [],
   "source": []
  }
 ],
 "metadata": {
  "kernelspec": {
   "display_name": "Python 3 (ipykernel)",
   "language": "python",
   "name": "python3"
  },
  "language_info": {
   "codemirror_mode": {
    "name": "ipython",
    "version": 3
   },
   "file_extension": ".py",
   "mimetype": "text/x-python",
   "name": "python",
   "nbconvert_exporter": "python",
   "pygments_lexer": "ipython3",
   "version": "3.11.3"
  }
 },
 "nbformat": 4,
 "nbformat_minor": 5
}
