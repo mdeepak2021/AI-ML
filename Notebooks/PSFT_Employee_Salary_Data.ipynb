{
 "cells": [
  {
   "cell_type": "markdown",
   "id": "5d09753e",
   "metadata": {},
   "source": [
    "# <h1> <center>PeopleSoft Employee Salary Prediction </center> </h1>"
   ]
  },
  {
   "cell_type": "markdown",
   "id": "956a5890",
   "metadata": {},
   "source": [
    "This case study is to retrieve the employee data from the PeopleSoft HCM environment using Open search and predict the salary of the employee based on the current work level and work experience."
   ]
  },
  {
   "cell_type": "markdown",
   "id": "2ff8b3b8",
   "metadata": {},
   "source": [
    "<b>Import Python Libraries<b>"
   ]
  },
  {
   "cell_type": "markdown",
   "id": "b0516fda",
   "metadata": {},
   "source": [
    "Importing the required Python libraries "
   ]
  },
  {
   "cell_type": "code",
   "execution_count": 1,
   "id": "222881e0",
   "metadata": {},
   "outputs": [],
   "source": [
    "import numpy as np\n",
    "import pandas as pd\n",
    "import matplotlib.pyplot as plt\n",
    "import seaborn as sns\n",
    "from sklearn.model_selection import train_test_split\n",
    "from sklearn.linear_model import LinearRegression\n",
    "from sklearn.preprocessing import PolynomialFeatures\n",
    "from sklearn.metrics import r2_score\n",
    "import requests\n",
    "import warnings\n",
    "warnings.filterwarnings('ignore')"
   ]
  },
  {
   "cell_type": "markdown",
   "id": "6e6f0d46",
   "metadata": {},
   "source": [
    "Using request library, retrieve the open search index for the employee data and request status code 200 means the retrieval was successful"
   ]
  },
  {
   "cell_type": "code",
   "execution_count": 2,
   "id": "da7b8200",
   "metadata": {},
   "outputs": [
    {
     "name": "stdout",
     "output_type": "stream",
     "text": [
      "200\n"
     ]
    }
   ],
   "source": [
    "req = requests.get('http://129.146.34.6:9200/emp_salary_hcmad4_orcl_es_alias/_search?size=1', auth=('esadmin','esadmin'), \n",
    "                    headers={'SearchUser': 'PS', 'Content-Type':'application/json'})\n",
    "print(req.status_code)"
   ]
  },
  {
   "cell_type": "markdown",
   "id": "2242f33c",
   "metadata": {},
   "source": [
    "Output the current json request"
   ]
  },
  {
   "cell_type": "code",
   "execution_count": 3,
   "id": "3b02db88",
   "metadata": {},
   "outputs": [
    {
     "data": {
      "text/plain": [
       "{'took': 10,\n",
       " 'timed_out': False,\n",
       " '_shards': {'total': 5, 'successful': 5, 'skipped': 0, 'failed': 0},\n",
       " 'hits': {'total': {'value': 3072, 'relation': 'eq'},\n",
       "  'max_score': 1.0,\n",
       "  'hits': [{'_index': 'emp_salary_hcmad4',\n",
       "    '_id': 'http://psft-hcm-ml.sub11120630060.tempvcn.oraclevcn.com:8000/psc/ps_newwin/EMPLOYEE/HRMS/c/EL_EMPLOYEE_FL.HR_EE_ADDR_FL.GBL?&EMPLID=KA0034',\n",
       "    '_score': 1.0,\n",
       "    '_source': {'ORCL_ES_LINK': 'http://psft-hcm-ml.sub11120630060.tempvcn.oraclevcn.com:8000/psc/ps_newwin/EMPLOYEE/HRMS/c/EL_EMPLOYEE_FL.HR_EE_ADDR_FL.GBL?&EMPLID=KA0034',\n",
       "     'EMPLID_ORCL_ES_ENG': 'KA0034',\n",
       "     'ORCL_ES_LANGUAGE_CD_ENG': 'ENG',\n",
       "     'PORTAL_NAME': 'PTSF_NONE',\n",
       "     'CITY_ORCL_ES_ENG': '',\n",
       "     'PTSF_NAV_MODE': ['2', '3'],\n",
       "     'DEPTNAME_ORCL_ES_ENG': 'Admininstration',\n",
       "     'SEX_ORCL_ES_ENG': 'M',\n",
       "     'ORCL_ES_LAST_MODIFIED_DATE': '2018-11-15T11:23:28.000Z',\n",
       "     'LASTUPDDTTM_ORCL_ES_ENG': '2018-11-15T11:23:28.000Z',\n",
       "     'PTSF_SBO_NAME': 'HCM_FUBAXDFIFML EMP_SALARY',\n",
       "     'JOBTITLE_ORCL_ES_ENG': 'Manager-Branch',\n",
       "     'ORCL_ES_TITLE_ENG': 'KA0034',\n",
       "     'FIRST_NAME_SRCH_ORCL_ES_ENG': 'FINONA',\n",
       "     'LAST_NAME_SRCH_ORCL_ES_ENG': 'DAVIS',\n",
       "     'ORCL_ES_DESCRIPTION_ENG': 'KA0034',\n",
       "     'ANNUAL_RT_ORCL_ES_ENG': 95000}}]}}"
      ]
     },
     "execution_count": 3,
     "metadata": {},
     "output_type": "execute_result"
    }
   ],
   "source": [
    "req.json()"
   ]
  },
  {
   "cell_type": "code",
   "execution_count": 4,
   "id": "efe9afb2",
   "metadata": {},
   "outputs": [
    {
     "name": "stdout",
     "output_type": "stream",
     "text": [
      "200\n"
     ]
    }
   ],
   "source": [
    "req = requests.get('http://129.146.34.6:9200/emp_salary_hcmad4_orcl_es_alias/_search?size=200', auth=('esadmin','esadmin'), \n",
    "                    headers={'SearchUser': 'PS', 'Content-Type':'application/json'})\n",
    "print(req.status_code)"
   ]
  },
  {
   "cell_type": "markdown",
   "id": "e129ab38",
   "metadata": {},
   "source": [
    "Converting the json data into a pandas dataframe"
   ]
  },
  {
   "cell_type": "code",
   "execution_count": 5,
   "id": "7d0e18b7",
   "metadata": {},
   "outputs": [],
   "source": [
    "raw_json = req.json()\n",
    "df = pd.DataFrame.from_dict(raw_json)"
   ]
  },
  {
   "cell_type": "markdown",
   "id": "c1798626",
   "metadata": {},
   "source": [
    "Output the dataframe df"
   ]
  },
  {
   "cell_type": "code",
   "execution_count": 6,
   "id": "9ad00369",
   "metadata": {},
   "outputs": [
    {
     "data": {
      "text/html": [
       "<div>\n",
       "<style scoped>\n",
       "    .dataframe tbody tr th:only-of-type {\n",
       "        vertical-align: middle;\n",
       "    }\n",
       "\n",
       "    .dataframe tbody tr th {\n",
       "        vertical-align: top;\n",
       "    }\n",
       "\n",
       "    .dataframe thead th {\n",
       "        text-align: right;\n",
       "    }\n",
       "</style>\n",
       "<table border=\"1\" class=\"dataframe\">\n",
       "  <thead>\n",
       "    <tr style=\"text-align: right;\">\n",
       "      <th></th>\n",
       "      <th>took</th>\n",
       "      <th>timed_out</th>\n",
       "      <th>_shards</th>\n",
       "      <th>hits</th>\n",
       "    </tr>\n",
       "  </thead>\n",
       "  <tbody>\n",
       "    <tr>\n",
       "      <th>total</th>\n",
       "      <td>4</td>\n",
       "      <td>False</td>\n",
       "      <td>5.0</td>\n",
       "      <td>{'value': 3072, 'relation': 'eq'}</td>\n",
       "    </tr>\n",
       "    <tr>\n",
       "      <th>successful</th>\n",
       "      <td>4</td>\n",
       "      <td>False</td>\n",
       "      <td>5.0</td>\n",
       "      <td>NaN</td>\n",
       "    </tr>\n",
       "    <tr>\n",
       "      <th>skipped</th>\n",
       "      <td>4</td>\n",
       "      <td>False</td>\n",
       "      <td>0.0</td>\n",
       "      <td>NaN</td>\n",
       "    </tr>\n",
       "    <tr>\n",
       "      <th>failed</th>\n",
       "      <td>4</td>\n",
       "      <td>False</td>\n",
       "      <td>0.0</td>\n",
       "      <td>NaN</td>\n",
       "    </tr>\n",
       "    <tr>\n",
       "      <th>max_score</th>\n",
       "      <td>4</td>\n",
       "      <td>False</td>\n",
       "      <td>NaN</td>\n",
       "      <td>1.0</td>\n",
       "    </tr>\n",
       "    <tr>\n",
       "      <th>hits</th>\n",
       "      <td>4</td>\n",
       "      <td>False</td>\n",
       "      <td>NaN</td>\n",
       "      <td>[{'_index': 'emp_salary_hcmad4', '_id': 'http:...</td>\n",
       "    </tr>\n",
       "  </tbody>\n",
       "</table>\n",
       "</div>"
      ],
      "text/plain": [
       "            took  timed_out  _shards  \\\n",
       "total          4      False      5.0   \n",
       "successful     4      False      5.0   \n",
       "skipped        4      False      0.0   \n",
       "failed         4      False      0.0   \n",
       "max_score      4      False      NaN   \n",
       "hits           4      False      NaN   \n",
       "\n",
       "                                                         hits  \n",
       "total                       {'value': 3072, 'relation': 'eq'}  \n",
       "successful                                                NaN  \n",
       "skipped                                                   NaN  \n",
       "failed                                                    NaN  \n",
       "max_score                                                 1.0  \n",
       "hits        [{'_index': 'emp_salary_hcmad4', '_id': 'http:...  "
      ]
     },
     "execution_count": 6,
     "metadata": {},
     "output_type": "execute_result"
    }
   ],
   "source": [
    "df"
   ]
  },
  {
   "cell_type": "markdown",
   "id": "a5e85240",
   "metadata": {},
   "source": [
    "From the above json data, hits is the column which has all the required employee data and we would need format and align the column. So we extract the hits column"
   ]
  },
  {
   "cell_type": "code",
   "execution_count": 7,
   "id": "a7cf3d04",
   "metadata": {},
   "outputs": [],
   "source": [
    "hits=df['hits']['hits']"
   ]
  },
  {
   "cell_type": "markdown",
   "id": "5cb46113",
   "metadata": {},
   "source": [
    "Output only the first row of hits to understand what all fields are required "
   ]
  },
  {
   "cell_type": "code",
   "execution_count": 8,
   "id": "686ea5bb",
   "metadata": {},
   "outputs": [
    {
     "data": {
      "text/plain": [
       "{'_index': 'emp_salary_hcmad4',\n",
       " '_id': 'http://psft-hcm-ml.sub11120630060.tempvcn.oraclevcn.com:8000/psc/ps_newwin/EMPLOYEE/HRMS/c/EL_EMPLOYEE_FL.HR_EE_ADDR_FL.GBL?&EMPLID=KA0034',\n",
       " '_score': 1.0,\n",
       " '_source': {'ORCL_ES_LINK': 'http://psft-hcm-ml.sub11120630060.tempvcn.oraclevcn.com:8000/psc/ps_newwin/EMPLOYEE/HRMS/c/EL_EMPLOYEE_FL.HR_EE_ADDR_FL.GBL?&EMPLID=KA0034',\n",
       "  'EMPLID_ORCL_ES_ENG': 'KA0034',\n",
       "  'ORCL_ES_LANGUAGE_CD_ENG': 'ENG',\n",
       "  'PORTAL_NAME': 'PTSF_NONE',\n",
       "  'CITY_ORCL_ES_ENG': '',\n",
       "  'PTSF_NAV_MODE': ['2', '3'],\n",
       "  'DEPTNAME_ORCL_ES_ENG': 'Admininstration',\n",
       "  'SEX_ORCL_ES_ENG': 'M',\n",
       "  'ORCL_ES_LAST_MODIFIED_DATE': '2018-11-15T11:23:28.000Z',\n",
       "  'LASTUPDDTTM_ORCL_ES_ENG': '2018-11-15T11:23:28.000Z',\n",
       "  'PTSF_SBO_NAME': 'HCM_FUBAXDFIFML EMP_SALARY',\n",
       "  'JOBTITLE_ORCL_ES_ENG': 'Manager-Branch',\n",
       "  'ORCL_ES_TITLE_ENG': 'KA0034',\n",
       "  'FIRST_NAME_SRCH_ORCL_ES_ENG': 'FINONA',\n",
       "  'LAST_NAME_SRCH_ORCL_ES_ENG': 'DAVIS',\n",
       "  'ORCL_ES_DESCRIPTION_ENG': 'KA0034',\n",
       "  'ANNUAL_RT_ORCL_ES_ENG': 95000}}"
      ]
     },
     "execution_count": 8,
     "metadata": {},
     "output_type": "execute_result"
    }
   ],
   "source": [
    "hits[0]"
   ]
  },
  {
   "cell_type": "markdown",
   "id": "7b902377",
   "metadata": {},
   "source": [
    "We will now normalize the json data and use hits column to extract the required information and store in a dataframe"
   ]
  },
  {
   "cell_type": "code",
   "execution_count": 9,
   "id": "3ec3c024",
   "metadata": {},
   "outputs": [],
   "source": [
    "FullData=pd.json_normalize(hits, meta='_source')"
   ]
  },
  {
   "cell_type": "markdown",
   "id": "59328449",
   "metadata": {},
   "source": [
    "Output the data from the new dataframe FullData and print the result of first 5 rows using head()"
   ]
  },
  {
   "cell_type": "code",
   "execution_count": 10,
   "id": "c8672483",
   "metadata": {},
   "outputs": [
    {
     "data": {
      "text/html": [
       "<div>\n",
       "<style scoped>\n",
       "    .dataframe tbody tr th:only-of-type {\n",
       "        vertical-align: middle;\n",
       "    }\n",
       "\n",
       "    .dataframe tbody tr th {\n",
       "        vertical-align: top;\n",
       "    }\n",
       "\n",
       "    .dataframe thead th {\n",
       "        text-align: right;\n",
       "    }\n",
       "</style>\n",
       "<table border=\"1\" class=\"dataframe\">\n",
       "  <thead>\n",
       "    <tr style=\"text-align: right;\">\n",
       "      <th></th>\n",
       "      <th>_index</th>\n",
       "      <th>_id</th>\n",
       "      <th>_score</th>\n",
       "      <th>_source.ORCL_ES_LINK</th>\n",
       "      <th>_source.EMPLID_ORCL_ES_ENG</th>\n",
       "      <th>_source.ORCL_ES_LANGUAGE_CD_ENG</th>\n",
       "      <th>_source.PORTAL_NAME</th>\n",
       "      <th>_source.CITY_ORCL_ES_ENG</th>\n",
       "      <th>_source.PTSF_NAV_MODE</th>\n",
       "      <th>_source.DEPTNAME_ORCL_ES_ENG</th>\n",
       "      <th>_source.SEX_ORCL_ES_ENG</th>\n",
       "      <th>_source.ORCL_ES_LAST_MODIFIED_DATE</th>\n",
       "      <th>_source.LASTUPDDTTM_ORCL_ES_ENG</th>\n",
       "      <th>_source.PTSF_SBO_NAME</th>\n",
       "      <th>_source.JOBTITLE_ORCL_ES_ENG</th>\n",
       "      <th>_source.ORCL_ES_TITLE_ENG</th>\n",
       "      <th>_source.FIRST_NAME_SRCH_ORCL_ES_ENG</th>\n",
       "      <th>_source.LAST_NAME_SRCH_ORCL_ES_ENG</th>\n",
       "      <th>_source.ORCL_ES_DESCRIPTION_ENG</th>\n",
       "      <th>_source.ANNUAL_RT_ORCL_ES_ENG</th>\n",
       "    </tr>\n",
       "  </thead>\n",
       "  <tbody>\n",
       "    <tr>\n",
       "      <th>0</th>\n",
       "      <td>emp_salary_hcmad4</td>\n",
       "      <td>http://psft-hcm-ml.sub11120630060.tempvcn.orac...</td>\n",
       "      <td>1.0</td>\n",
       "      <td>http://psft-hcm-ml.sub11120630060.tempvcn.orac...</td>\n",
       "      <td>KA0034</td>\n",
       "      <td>ENG</td>\n",
       "      <td>PTSF_NONE</td>\n",
       "      <td></td>\n",
       "      <td>[2, 3]</td>\n",
       "      <td>Admininstration</td>\n",
       "      <td>M</td>\n",
       "      <td>2018-11-15T11:23:28.000Z</td>\n",
       "      <td>2018-11-15T11:23:28.000Z</td>\n",
       "      <td>HCM_FUBAXDFIFML EMP_SALARY</td>\n",
       "      <td>Manager-Branch</td>\n",
       "      <td>KA0034</td>\n",
       "      <td>FINONA</td>\n",
       "      <td>DAVIS</td>\n",
       "      <td>KA0034</td>\n",
       "      <td>95000.000</td>\n",
       "    </tr>\n",
       "    <tr>\n",
       "      <th>1</th>\n",
       "      <td>emp_salary_hcmad4</td>\n",
       "      <td>http://psft-hcm-ml.sub11120630060.tempvcn.orac...</td>\n",
       "      <td>1.0</td>\n",
       "      <td>http://psft-hcm-ml.sub11120630060.tempvcn.orac...</td>\n",
       "      <td>KALD01</td>\n",
       "      <td>ENG</td>\n",
       "      <td>PTSF_NONE</td>\n",
       "      <td>Annandale</td>\n",
       "      <td>[2, 3]</td>\n",
       "      <td>Shipping</td>\n",
       "      <td>M</td>\n",
       "      <td>2004-10-12T12:24:09.000Z</td>\n",
       "      <td>2004-10-12T12:24:09.000Z</td>\n",
       "      <td>HCM_FUBAXDFIFML EMP_SALARY</td>\n",
       "      <td>Clerk-Shipping</td>\n",
       "      <td>KALD01</td>\n",
       "      <td>PETER</td>\n",
       "      <td>JONES</td>\n",
       "      <td>KALD01</td>\n",
       "      <td>15000.084</td>\n",
       "    </tr>\n",
       "    <tr>\n",
       "      <th>2</th>\n",
       "      <td>emp_salary_hcmad4</td>\n",
       "      <td>http://psft-hcm-ml.sub11120630060.tempvcn.orac...</td>\n",
       "      <td>1.0</td>\n",
       "      <td>http://psft-hcm-ml.sub11120630060.tempvcn.orac...</td>\n",
       "      <td>KALF15</td>\n",
       "      <td>ENG</td>\n",
       "      <td>PTSF_NONE</td>\n",
       "      <td>Seaforth</td>\n",
       "      <td>[2, 3]</td>\n",
       "      <td>Shipping</td>\n",
       "      <td>F</td>\n",
       "      <td>2004-10-12T14:47:04.000Z</td>\n",
       "      <td>2004-10-12T14:47:04.000Z</td>\n",
       "      <td>HCM_FUBAXDFIFML EMP_SALARY</td>\n",
       "      <td>Clerk-Shipping</td>\n",
       "      <td>KALF15</td>\n",
       "      <td>HELEN</td>\n",
       "      <td>HUTCHINSON</td>\n",
       "      <td>KALF15</td>\n",
       "      <td>21320.004</td>\n",
       "    </tr>\n",
       "    <tr>\n",
       "      <th>3</th>\n",
       "      <td>emp_salary_hcmad4</td>\n",
       "      <td>http://psft-hcm-ml.sub11120630060.tempvcn.orac...</td>\n",
       "      <td>1.0</td>\n",
       "      <td>http://psft-hcm-ml.sub11120630060.tempvcn.orac...</td>\n",
       "      <td>KALB02</td>\n",
       "      <td>ENG</td>\n",
       "      <td>PTSF_NONE</td>\n",
       "      <td>St Kilda</td>\n",
       "      <td>[2, 3]</td>\n",
       "      <td>Assembly</td>\n",
       "      <td>F</td>\n",
       "      <td>2004-10-12T10:12:08.000Z</td>\n",
       "      <td>2004-10-12T10:12:08.000Z</td>\n",
       "      <td>HCM_FUBAXDFIFML EMP_SALARY</td>\n",
       "      <td>Assembler</td>\n",
       "      <td>KALB02</td>\n",
       "      <td>MELISSA</td>\n",
       "      <td>FELDERMAN</td>\n",
       "      <td>KALB02</td>\n",
       "      <td>24996.400</td>\n",
       "    </tr>\n",
       "    <tr>\n",
       "      <th>4</th>\n",
       "      <td>emp_salary_hcmad4</td>\n",
       "      <td>http://psft-hcm-ml.sub11120630060.tempvcn.orac...</td>\n",
       "      <td>1.0</td>\n",
       "      <td>http://psft-hcm-ml.sub11120630060.tempvcn.orac...</td>\n",
       "      <td>KFLA05</td>\n",
       "      <td>ENG</td>\n",
       "      <td>PTSF_NONE</td>\n",
       "      <td>Saint-ouen</td>\n",
       "      <td>[2, 3]</td>\n",
       "      <td>France Headquarters</td>\n",
       "      <td>F</td>\n",
       "      <td>2005-02-01T08:08:08.000Z</td>\n",
       "      <td>2005-02-01T08:08:08.000Z</td>\n",
       "      <td>HCM_FUBAXDFIFML EMP_SALARY</td>\n",
       "      <td>Director-Operations</td>\n",
       "      <td>KFLA05</td>\n",
       "      <td>CATHERINE</td>\n",
       "      <td>GILLES</td>\n",
       "      <td>KFLA05</td>\n",
       "      <td>0.000</td>\n",
       "    </tr>\n",
       "  </tbody>\n",
       "</table>\n",
       "</div>"
      ],
      "text/plain": [
       "              _index                                                _id  \\\n",
       "0  emp_salary_hcmad4  http://psft-hcm-ml.sub11120630060.tempvcn.orac...   \n",
       "1  emp_salary_hcmad4  http://psft-hcm-ml.sub11120630060.tempvcn.orac...   \n",
       "2  emp_salary_hcmad4  http://psft-hcm-ml.sub11120630060.tempvcn.orac...   \n",
       "3  emp_salary_hcmad4  http://psft-hcm-ml.sub11120630060.tempvcn.orac...   \n",
       "4  emp_salary_hcmad4  http://psft-hcm-ml.sub11120630060.tempvcn.orac...   \n",
       "\n",
       "   _score                               _source.ORCL_ES_LINK  \\\n",
       "0     1.0  http://psft-hcm-ml.sub11120630060.tempvcn.orac...   \n",
       "1     1.0  http://psft-hcm-ml.sub11120630060.tempvcn.orac...   \n",
       "2     1.0  http://psft-hcm-ml.sub11120630060.tempvcn.orac...   \n",
       "3     1.0  http://psft-hcm-ml.sub11120630060.tempvcn.orac...   \n",
       "4     1.0  http://psft-hcm-ml.sub11120630060.tempvcn.orac...   \n",
       "\n",
       "  _source.EMPLID_ORCL_ES_ENG _source.ORCL_ES_LANGUAGE_CD_ENG  \\\n",
       "0                     KA0034                             ENG   \n",
       "1                     KALD01                             ENG   \n",
       "2                     KALF15                             ENG   \n",
       "3                     KALB02                             ENG   \n",
       "4                     KFLA05                             ENG   \n",
       "\n",
       "  _source.PORTAL_NAME _source.CITY_ORCL_ES_ENG _source.PTSF_NAV_MODE  \\\n",
       "0           PTSF_NONE                                         [2, 3]   \n",
       "1           PTSF_NONE                Annandale                [2, 3]   \n",
       "2           PTSF_NONE                 Seaforth                [2, 3]   \n",
       "3           PTSF_NONE                 St Kilda                [2, 3]   \n",
       "4           PTSF_NONE               Saint-ouen                [2, 3]   \n",
       "\n",
       "  _source.DEPTNAME_ORCL_ES_ENG _source.SEX_ORCL_ES_ENG  \\\n",
       "0              Admininstration                       M   \n",
       "1                     Shipping                       M   \n",
       "2                     Shipping                       F   \n",
       "3                     Assembly                       F   \n",
       "4          France Headquarters                       F   \n",
       "\n",
       "  _source.ORCL_ES_LAST_MODIFIED_DATE _source.LASTUPDDTTM_ORCL_ES_ENG  \\\n",
       "0           2018-11-15T11:23:28.000Z        2018-11-15T11:23:28.000Z   \n",
       "1           2004-10-12T12:24:09.000Z        2004-10-12T12:24:09.000Z   \n",
       "2           2004-10-12T14:47:04.000Z        2004-10-12T14:47:04.000Z   \n",
       "3           2004-10-12T10:12:08.000Z        2004-10-12T10:12:08.000Z   \n",
       "4           2005-02-01T08:08:08.000Z        2005-02-01T08:08:08.000Z   \n",
       "\n",
       "        _source.PTSF_SBO_NAME _source.JOBTITLE_ORCL_ES_ENG  \\\n",
       "0  HCM_FUBAXDFIFML EMP_SALARY               Manager-Branch   \n",
       "1  HCM_FUBAXDFIFML EMP_SALARY               Clerk-Shipping   \n",
       "2  HCM_FUBAXDFIFML EMP_SALARY               Clerk-Shipping   \n",
       "3  HCM_FUBAXDFIFML EMP_SALARY                    Assembler   \n",
       "4  HCM_FUBAXDFIFML EMP_SALARY          Director-Operations   \n",
       "\n",
       "  _source.ORCL_ES_TITLE_ENG _source.FIRST_NAME_SRCH_ORCL_ES_ENG  \\\n",
       "0                    KA0034                              FINONA   \n",
       "1                    KALD01                               PETER   \n",
       "2                    KALF15                               HELEN   \n",
       "3                    KALB02                             MELISSA   \n",
       "4                    KFLA05                           CATHERINE   \n",
       "\n",
       "  _source.LAST_NAME_SRCH_ORCL_ES_ENG _source.ORCL_ES_DESCRIPTION_ENG  \\\n",
       "0                              DAVIS                          KA0034   \n",
       "1                              JONES                          KALD01   \n",
       "2                         HUTCHINSON                          KALF15   \n",
       "3                          FELDERMAN                          KALB02   \n",
       "4                             GILLES                          KFLA05   \n",
       "\n",
       "   _source.ANNUAL_RT_ORCL_ES_ENG  \n",
       "0                      95000.000  \n",
       "1                      15000.084  \n",
       "2                      21320.004  \n",
       "3                      24996.400  \n",
       "4                          0.000  "
      ]
     },
     "execution_count": 10,
     "metadata": {},
     "output_type": "execute_result"
    }
   ],
   "source": [
    "FullData.head()"
   ]
  },
  {
   "cell_type": "markdown",
   "id": "bfda2d67",
   "metadata": {},
   "source": [
    "List down all the columns of the dataframe FullData"
   ]
  },
  {
   "cell_type": "code",
   "execution_count": 11,
   "id": "5af8e143",
   "metadata": {},
   "outputs": [
    {
     "data": {
      "text/plain": [
       "Index(['_index', '_id', '_score', '_source.ORCL_ES_LINK',\n",
       "       '_source.EMPLID_ORCL_ES_ENG', '_source.ORCL_ES_LANGUAGE_CD_ENG',\n",
       "       '_source.PORTAL_NAME', '_source.CITY_ORCL_ES_ENG',\n",
       "       '_source.PTSF_NAV_MODE', '_source.DEPTNAME_ORCL_ES_ENG',\n",
       "       '_source.SEX_ORCL_ES_ENG', '_source.ORCL_ES_LAST_MODIFIED_DATE',\n",
       "       '_source.LASTUPDDTTM_ORCL_ES_ENG', '_source.PTSF_SBO_NAME',\n",
       "       '_source.JOBTITLE_ORCL_ES_ENG', '_source.ORCL_ES_TITLE_ENG',\n",
       "       '_source.FIRST_NAME_SRCH_ORCL_ES_ENG',\n",
       "       '_source.LAST_NAME_SRCH_ORCL_ES_ENG', '_source.ORCL_ES_DESCRIPTION_ENG',\n",
       "       '_source.ANNUAL_RT_ORCL_ES_ENG'],\n",
       "      dtype='object')"
      ]
     },
     "execution_count": 11,
     "metadata": {},
     "output_type": "execute_result"
    }
   ],
   "source": [
    "FullData.columns"
   ]
  },
  {
   "cell_type": "markdown",
   "id": "f167de38",
   "metadata": {},
   "source": [
    "Now create a new dataframe from the FullData columns and only store required columns in the new dataframe"
   ]
  },
  {
   "cell_type": "code",
   "execution_count": 12,
   "id": "565ab59d",
   "metadata": {},
   "outputs": [],
   "source": [
    "NewData = FullData[['_source.DEPTNAME_ORCL_ES_ENG','_source.JOBTITLE_ORCL_ES_ENG','_source.SEX_ORCL_ES_ENG','_source.ANNUAL_RT_ORCL_ES_ENG']].copy()"
   ]
  },
  {
   "cell_type": "markdown",
   "id": "027f5284",
   "metadata": {},
   "source": [
    "Output the data from the NewData dataframe, this dataset has around 200 rows and 4 columns"
   ]
  },
  {
   "cell_type": "code",
   "execution_count": 13,
   "id": "ccf6893f",
   "metadata": {},
   "outputs": [
    {
     "data": {
      "text/html": [
       "<div>\n",
       "<style scoped>\n",
       "    .dataframe tbody tr th:only-of-type {\n",
       "        vertical-align: middle;\n",
       "    }\n",
       "\n",
       "    .dataframe tbody tr th {\n",
       "        vertical-align: top;\n",
       "    }\n",
       "\n",
       "    .dataframe thead th {\n",
       "        text-align: right;\n",
       "    }\n",
       "</style>\n",
       "<table border=\"1\" class=\"dataframe\">\n",
       "  <thead>\n",
       "    <tr style=\"text-align: right;\">\n",
       "      <th></th>\n",
       "      <th>_source.DEPTNAME_ORCL_ES_ENG</th>\n",
       "      <th>_source.JOBTITLE_ORCL_ES_ENG</th>\n",
       "      <th>_source.SEX_ORCL_ES_ENG</th>\n",
       "      <th>_source.ANNUAL_RT_ORCL_ES_ENG</th>\n",
       "    </tr>\n",
       "  </thead>\n",
       "  <tbody>\n",
       "    <tr>\n",
       "      <th>0</th>\n",
       "      <td>Admininstration</td>\n",
       "      <td>Manager-Branch</td>\n",
       "      <td>M</td>\n",
       "      <td>95000.000</td>\n",
       "    </tr>\n",
       "    <tr>\n",
       "      <th>1</th>\n",
       "      <td>Shipping</td>\n",
       "      <td>Clerk-Shipping</td>\n",
       "      <td>M</td>\n",
       "      <td>15000.084</td>\n",
       "    </tr>\n",
       "    <tr>\n",
       "      <th>2</th>\n",
       "      <td>Shipping</td>\n",
       "      <td>Clerk-Shipping</td>\n",
       "      <td>F</td>\n",
       "      <td>21320.004</td>\n",
       "    </tr>\n",
       "    <tr>\n",
       "      <th>3</th>\n",
       "      <td>Assembly</td>\n",
       "      <td>Assembler</td>\n",
       "      <td>F</td>\n",
       "      <td>24996.400</td>\n",
       "    </tr>\n",
       "    <tr>\n",
       "      <th>4</th>\n",
       "      <td>France Headquarters</td>\n",
       "      <td>Director-Operations</td>\n",
       "      <td>F</td>\n",
       "      <td>0.000</td>\n",
       "    </tr>\n",
       "    <tr>\n",
       "      <th>...</th>\n",
       "      <td>...</td>\n",
       "      <td>...</td>\n",
       "      <td>...</td>\n",
       "      <td>...</td>\n",
       "    </tr>\n",
       "    <tr>\n",
       "      <th>195</th>\n",
       "      <td>Eastern Sales Region</td>\n",
       "      <td>Officer-Account Sr</td>\n",
       "      <td>F</td>\n",
       "      <td>64800.000</td>\n",
       "    </tr>\n",
       "    <tr>\n",
       "      <th>196</th>\n",
       "      <td>Western Sales Region</td>\n",
       "      <td>Accounting Clerk</td>\n",
       "      <td>M</td>\n",
       "      <td>153400.000</td>\n",
       "    </tr>\n",
       "    <tr>\n",
       "      <th>197</th>\n",
       "      <td>Western Sales Region</td>\n",
       "      <td>Accounting Clerk</td>\n",
       "      <td>M</td>\n",
       "      <td>176800.000</td>\n",
       "    </tr>\n",
       "    <tr>\n",
       "      <th>198</th>\n",
       "      <td>Sales and Services</td>\n",
       "      <td>Representative-Sales</td>\n",
       "      <td>F</td>\n",
       "      <td>100000.000</td>\n",
       "    </tr>\n",
       "    <tr>\n",
       "      <th>199</th>\n",
       "      <td>Marketing</td>\n",
       "      <td>Representative-Customer</td>\n",
       "      <td>F</td>\n",
       "      <td>78500.000</td>\n",
       "    </tr>\n",
       "  </tbody>\n",
       "</table>\n",
       "<p>200 rows × 4 columns</p>\n",
       "</div>"
      ],
      "text/plain": [
       "    _source.DEPTNAME_ORCL_ES_ENG _source.JOBTITLE_ORCL_ES_ENG  \\\n",
       "0                Admininstration               Manager-Branch   \n",
       "1                       Shipping               Clerk-Shipping   \n",
       "2                       Shipping               Clerk-Shipping   \n",
       "3                       Assembly                    Assembler   \n",
       "4            France Headquarters          Director-Operations   \n",
       "..                           ...                          ...   \n",
       "195         Eastern Sales Region           Officer-Account Sr   \n",
       "196         Western Sales Region             Accounting Clerk   \n",
       "197         Western Sales Region             Accounting Clerk   \n",
       "198           Sales and Services         Representative-Sales   \n",
       "199                    Marketing      Representative-Customer   \n",
       "\n",
       "    _source.SEX_ORCL_ES_ENG  _source.ANNUAL_RT_ORCL_ES_ENG  \n",
       "0                         M                      95000.000  \n",
       "1                         M                      15000.084  \n",
       "2                         F                      21320.004  \n",
       "3                         F                      24996.400  \n",
       "4                         F                          0.000  \n",
       "..                      ...                            ...  \n",
       "195                       F                      64800.000  \n",
       "196                       M                     153400.000  \n",
       "197                       M                     176800.000  \n",
       "198                       F                     100000.000  \n",
       "199                       F                      78500.000  \n",
       "\n",
       "[200 rows x 4 columns]"
      ]
     },
     "execution_count": 13,
     "metadata": {},
     "output_type": "execute_result"
    }
   ],
   "source": [
    "NewData"
   ]
  },
  {
   "cell_type": "markdown",
   "id": "414f557a",
   "metadata": {},
   "source": [
    "We will now modify the column names from NewData to have meaningful column names for a better understanding"
   ]
  },
  {
   "cell_type": "code",
   "execution_count": 14,
   "id": "b2d0fa85",
   "metadata": {},
   "outputs": [],
   "source": [
    "NewData.columns=[\"DeptName\",\"JobTitle\",\"Sex\",\"Salary\"]"
   ]
  },
  {
   "cell_type": "markdown",
   "id": "46dde895",
   "metadata": {},
   "source": [
    "We will add an index (id) into the NewData dataframe"
   ]
  },
  {
   "cell_type": "code",
   "execution_count": 15,
   "id": "dcc3c2b5",
   "metadata": {},
   "outputs": [],
   "source": [
    "NewData.insert(0,'id',NewData.index+1)"
   ]
  },
  {
   "cell_type": "markdown",
   "id": "3b9c0502",
   "metadata": {},
   "source": [
    "NewData with the added (id) index, now there are 5 columns"
   ]
  },
  {
   "cell_type": "code",
   "execution_count": 16,
   "id": "e25a997f",
   "metadata": {},
   "outputs": [
    {
     "data": {
      "text/html": [
       "<div>\n",
       "<style scoped>\n",
       "    .dataframe tbody tr th:only-of-type {\n",
       "        vertical-align: middle;\n",
       "    }\n",
       "\n",
       "    .dataframe tbody tr th {\n",
       "        vertical-align: top;\n",
       "    }\n",
       "\n",
       "    .dataframe thead th {\n",
       "        text-align: right;\n",
       "    }\n",
       "</style>\n",
       "<table border=\"1\" class=\"dataframe\">\n",
       "  <thead>\n",
       "    <tr style=\"text-align: right;\">\n",
       "      <th></th>\n",
       "      <th>id</th>\n",
       "      <th>DeptName</th>\n",
       "      <th>JobTitle</th>\n",
       "      <th>Sex</th>\n",
       "      <th>Salary</th>\n",
       "    </tr>\n",
       "  </thead>\n",
       "  <tbody>\n",
       "    <tr>\n",
       "      <th>0</th>\n",
       "      <td>1</td>\n",
       "      <td>Admininstration</td>\n",
       "      <td>Manager-Branch</td>\n",
       "      <td>M</td>\n",
       "      <td>95000.000</td>\n",
       "    </tr>\n",
       "    <tr>\n",
       "      <th>1</th>\n",
       "      <td>2</td>\n",
       "      <td>Shipping</td>\n",
       "      <td>Clerk-Shipping</td>\n",
       "      <td>M</td>\n",
       "      <td>15000.084</td>\n",
       "    </tr>\n",
       "    <tr>\n",
       "      <th>2</th>\n",
       "      <td>3</td>\n",
       "      <td>Shipping</td>\n",
       "      <td>Clerk-Shipping</td>\n",
       "      <td>F</td>\n",
       "      <td>21320.004</td>\n",
       "    </tr>\n",
       "    <tr>\n",
       "      <th>3</th>\n",
       "      <td>4</td>\n",
       "      <td>Assembly</td>\n",
       "      <td>Assembler</td>\n",
       "      <td>F</td>\n",
       "      <td>24996.400</td>\n",
       "    </tr>\n",
       "    <tr>\n",
       "      <th>4</th>\n",
       "      <td>5</td>\n",
       "      <td>France Headquarters</td>\n",
       "      <td>Director-Operations</td>\n",
       "      <td>F</td>\n",
       "      <td>0.000</td>\n",
       "    </tr>\n",
       "    <tr>\n",
       "      <th>...</th>\n",
       "      <td>...</td>\n",
       "      <td>...</td>\n",
       "      <td>...</td>\n",
       "      <td>...</td>\n",
       "      <td>...</td>\n",
       "    </tr>\n",
       "    <tr>\n",
       "      <th>195</th>\n",
       "      <td>196</td>\n",
       "      <td>Eastern Sales Region</td>\n",
       "      <td>Officer-Account Sr</td>\n",
       "      <td>F</td>\n",
       "      <td>64800.000</td>\n",
       "    </tr>\n",
       "    <tr>\n",
       "      <th>196</th>\n",
       "      <td>197</td>\n",
       "      <td>Western Sales Region</td>\n",
       "      <td>Accounting Clerk</td>\n",
       "      <td>M</td>\n",
       "      <td>153400.000</td>\n",
       "    </tr>\n",
       "    <tr>\n",
       "      <th>197</th>\n",
       "      <td>198</td>\n",
       "      <td>Western Sales Region</td>\n",
       "      <td>Accounting Clerk</td>\n",
       "      <td>M</td>\n",
       "      <td>176800.000</td>\n",
       "    </tr>\n",
       "    <tr>\n",
       "      <th>198</th>\n",
       "      <td>199</td>\n",
       "      <td>Sales and Services</td>\n",
       "      <td>Representative-Sales</td>\n",
       "      <td>F</td>\n",
       "      <td>100000.000</td>\n",
       "    </tr>\n",
       "    <tr>\n",
       "      <th>199</th>\n",
       "      <td>200</td>\n",
       "      <td>Marketing</td>\n",
       "      <td>Representative-Customer</td>\n",
       "      <td>F</td>\n",
       "      <td>78500.000</td>\n",
       "    </tr>\n",
       "  </tbody>\n",
       "</table>\n",
       "<p>200 rows × 5 columns</p>\n",
       "</div>"
      ],
      "text/plain": [
       "      id              DeptName                 JobTitle Sex      Salary\n",
       "0      1       Admininstration           Manager-Branch   M   95000.000\n",
       "1      2              Shipping           Clerk-Shipping   M   15000.084\n",
       "2      3              Shipping           Clerk-Shipping   F   21320.004\n",
       "3      4              Assembly                Assembler   F   24996.400\n",
       "4      5   France Headquarters      Director-Operations   F       0.000\n",
       "..   ...                   ...                      ...  ..         ...\n",
       "195  196  Eastern Sales Region       Officer-Account Sr   F   64800.000\n",
       "196  197  Western Sales Region         Accounting Clerk   M  153400.000\n",
       "197  198  Western Sales Region         Accounting Clerk   M  176800.000\n",
       "198  199    Sales and Services     Representative-Sales   F  100000.000\n",
       "199  200             Marketing  Representative-Customer   F   78500.000\n",
       "\n",
       "[200 rows x 5 columns]"
      ]
     },
     "execution_count": 16,
     "metadata": {},
     "output_type": "execute_result"
    }
   ],
   "source": [
    "NewData"
   ]
  },
  {
   "cell_type": "markdown",
   "id": "b0f8131e",
   "metadata": {},
   "source": [
    "We will now export this new data into a csv file for reference"
   ]
  },
  {
   "cell_type": "code",
   "execution_count": 17,
   "id": "0193eb26",
   "metadata": {},
   "outputs": [],
   "source": [
    "NewData.to_csv('Employee_data.csv', index=False)"
   ]
  },
  {
   "cell_type": "markdown",
   "id": "026416f6",
   "metadata": {},
   "source": [
    "We will now read the data from level-experience csv file and print the output. This dataset has 200 rows and 3 columns"
   ]
  },
  {
   "cell_type": "code",
   "execution_count": 18,
   "id": "c75fb71d",
   "metadata": {},
   "outputs": [
    {
     "data": {
      "text/html": [
       "<div>\n",
       "<style scoped>\n",
       "    .dataframe tbody tr th:only-of-type {\n",
       "        vertical-align: middle;\n",
       "    }\n",
       "\n",
       "    .dataframe tbody tr th {\n",
       "        vertical-align: top;\n",
       "    }\n",
       "\n",
       "    .dataframe thead th {\n",
       "        text-align: right;\n",
       "    }\n",
       "</style>\n",
       "<table border=\"1\" class=\"dataframe\">\n",
       "  <thead>\n",
       "    <tr style=\"text-align: right;\">\n",
       "      <th></th>\n",
       "      <th>id</th>\n",
       "      <th>Level</th>\n",
       "      <th>Experience</th>\n",
       "    </tr>\n",
       "  </thead>\n",
       "  <tbody>\n",
       "    <tr>\n",
       "      <th>0</th>\n",
       "      <td>1</td>\n",
       "      <td>5</td>\n",
       "      <td>5.80</td>\n",
       "    </tr>\n",
       "    <tr>\n",
       "      <th>1</th>\n",
       "      <td>2</td>\n",
       "      <td>1</td>\n",
       "      <td>1.20</td>\n",
       "    </tr>\n",
       "    <tr>\n",
       "      <th>2</th>\n",
       "      <td>3</td>\n",
       "      <td>2</td>\n",
       "      <td>2.30</td>\n",
       "    </tr>\n",
       "    <tr>\n",
       "      <th>3</th>\n",
       "      <td>4</td>\n",
       "      <td>2</td>\n",
       "      <td>2.50</td>\n",
       "    </tr>\n",
       "    <tr>\n",
       "      <th>4</th>\n",
       "      <td>5</td>\n",
       "      <td>0</td>\n",
       "      <td>0.00</td>\n",
       "    </tr>\n",
       "    <tr>\n",
       "      <th>...</th>\n",
       "      <td>...</td>\n",
       "      <td>...</td>\n",
       "      <td>...</td>\n",
       "    </tr>\n",
       "    <tr>\n",
       "      <th>195</th>\n",
       "      <td>196</td>\n",
       "      <td>4</td>\n",
       "      <td>4.90</td>\n",
       "    </tr>\n",
       "    <tr>\n",
       "      <th>196</th>\n",
       "      <td>197</td>\n",
       "      <td>7</td>\n",
       "      <td>7.70</td>\n",
       "    </tr>\n",
       "    <tr>\n",
       "      <th>197</th>\n",
       "      <td>198</td>\n",
       "      <td>7</td>\n",
       "      <td>7.11</td>\n",
       "    </tr>\n",
       "    <tr>\n",
       "      <th>198</th>\n",
       "      <td>199</td>\n",
       "      <td>6</td>\n",
       "      <td>6.30</td>\n",
       "    </tr>\n",
       "    <tr>\n",
       "      <th>199</th>\n",
       "      <td>200</td>\n",
       "      <td>4</td>\n",
       "      <td>4.11</td>\n",
       "    </tr>\n",
       "  </tbody>\n",
       "</table>\n",
       "<p>200 rows × 3 columns</p>\n",
       "</div>"
      ],
      "text/plain": [
       "      id  Level  Experience\n",
       "0      1      5        5.80\n",
       "1      2      1        1.20\n",
       "2      3      2        2.30\n",
       "3      4      2        2.50\n",
       "4      5      0        0.00\n",
       "..   ...    ...         ...\n",
       "195  196      4        4.90\n",
       "196  197      7        7.70\n",
       "197  198      7        7.11\n",
       "198  199      6        6.30\n",
       "199  200      4        4.11\n",
       "\n",
       "[200 rows x 3 columns]"
      ]
     },
     "execution_count": 18,
     "metadata": {},
     "output_type": "execute_result"
    }
   ],
   "source": [
    "Level_experience = pd.read_csv('level-experience.csv')\n",
    "Level_experience"
   ]
  },
  {
   "cell_type": "markdown",
   "id": "2fc046eb",
   "metadata": {},
   "source": [
    "Merging the 2 datasets NewData and Level_experience on its id, to create a new dataset which has all the new features"
   ]
  },
  {
   "cell_type": "code",
   "execution_count": 19,
   "id": "5031c5bf",
   "metadata": {},
   "outputs": [],
   "source": [
    "dataset = pd.merge(NewData,Level_experience, on = 'id')"
   ]
  },
  {
   "cell_type": "markdown",
   "id": "e3b4edf3",
   "metadata": {},
   "source": [
    "Output the new dataset, it has 200 rows and 7 columns"
   ]
  },
  {
   "cell_type": "code",
   "execution_count": 20,
   "id": "151eaf3e",
   "metadata": {},
   "outputs": [
    {
     "data": {
      "text/html": [
       "<div>\n",
       "<style scoped>\n",
       "    .dataframe tbody tr th:only-of-type {\n",
       "        vertical-align: middle;\n",
       "    }\n",
       "\n",
       "    .dataframe tbody tr th {\n",
       "        vertical-align: top;\n",
       "    }\n",
       "\n",
       "    .dataframe thead th {\n",
       "        text-align: right;\n",
       "    }\n",
       "</style>\n",
       "<table border=\"1\" class=\"dataframe\">\n",
       "  <thead>\n",
       "    <tr style=\"text-align: right;\">\n",
       "      <th></th>\n",
       "      <th>id</th>\n",
       "      <th>DeptName</th>\n",
       "      <th>JobTitle</th>\n",
       "      <th>Sex</th>\n",
       "      <th>Salary</th>\n",
       "      <th>Level</th>\n",
       "      <th>Experience</th>\n",
       "    </tr>\n",
       "  </thead>\n",
       "  <tbody>\n",
       "    <tr>\n",
       "      <th>0</th>\n",
       "      <td>1</td>\n",
       "      <td>Admininstration</td>\n",
       "      <td>Manager-Branch</td>\n",
       "      <td>M</td>\n",
       "      <td>95000.000</td>\n",
       "      <td>5</td>\n",
       "      <td>5.80</td>\n",
       "    </tr>\n",
       "    <tr>\n",
       "      <th>1</th>\n",
       "      <td>2</td>\n",
       "      <td>Shipping</td>\n",
       "      <td>Clerk-Shipping</td>\n",
       "      <td>M</td>\n",
       "      <td>15000.084</td>\n",
       "      <td>1</td>\n",
       "      <td>1.20</td>\n",
       "    </tr>\n",
       "    <tr>\n",
       "      <th>2</th>\n",
       "      <td>3</td>\n",
       "      <td>Shipping</td>\n",
       "      <td>Clerk-Shipping</td>\n",
       "      <td>F</td>\n",
       "      <td>21320.004</td>\n",
       "      <td>2</td>\n",
       "      <td>2.30</td>\n",
       "    </tr>\n",
       "    <tr>\n",
       "      <th>3</th>\n",
       "      <td>4</td>\n",
       "      <td>Assembly</td>\n",
       "      <td>Assembler</td>\n",
       "      <td>F</td>\n",
       "      <td>24996.400</td>\n",
       "      <td>2</td>\n",
       "      <td>2.50</td>\n",
       "    </tr>\n",
       "    <tr>\n",
       "      <th>4</th>\n",
       "      <td>5</td>\n",
       "      <td>France Headquarters</td>\n",
       "      <td>Director-Operations</td>\n",
       "      <td>F</td>\n",
       "      <td>0.000</td>\n",
       "      <td>0</td>\n",
       "      <td>0.00</td>\n",
       "    </tr>\n",
       "    <tr>\n",
       "      <th>...</th>\n",
       "      <td>...</td>\n",
       "      <td>...</td>\n",
       "      <td>...</td>\n",
       "      <td>...</td>\n",
       "      <td>...</td>\n",
       "      <td>...</td>\n",
       "      <td>...</td>\n",
       "    </tr>\n",
       "    <tr>\n",
       "      <th>195</th>\n",
       "      <td>196</td>\n",
       "      <td>Eastern Sales Region</td>\n",
       "      <td>Officer-Account Sr</td>\n",
       "      <td>F</td>\n",
       "      <td>64800.000</td>\n",
       "      <td>4</td>\n",
       "      <td>4.90</td>\n",
       "    </tr>\n",
       "    <tr>\n",
       "      <th>196</th>\n",
       "      <td>197</td>\n",
       "      <td>Western Sales Region</td>\n",
       "      <td>Accounting Clerk</td>\n",
       "      <td>M</td>\n",
       "      <td>153400.000</td>\n",
       "      <td>7</td>\n",
       "      <td>7.70</td>\n",
       "    </tr>\n",
       "    <tr>\n",
       "      <th>197</th>\n",
       "      <td>198</td>\n",
       "      <td>Western Sales Region</td>\n",
       "      <td>Accounting Clerk</td>\n",
       "      <td>M</td>\n",
       "      <td>176800.000</td>\n",
       "      <td>7</td>\n",
       "      <td>7.11</td>\n",
       "    </tr>\n",
       "    <tr>\n",
       "      <th>198</th>\n",
       "      <td>199</td>\n",
       "      <td>Sales and Services</td>\n",
       "      <td>Representative-Sales</td>\n",
       "      <td>F</td>\n",
       "      <td>100000.000</td>\n",
       "      <td>6</td>\n",
       "      <td>6.30</td>\n",
       "    </tr>\n",
       "    <tr>\n",
       "      <th>199</th>\n",
       "      <td>200</td>\n",
       "      <td>Marketing</td>\n",
       "      <td>Representative-Customer</td>\n",
       "      <td>F</td>\n",
       "      <td>78500.000</td>\n",
       "      <td>4</td>\n",
       "      <td>4.11</td>\n",
       "    </tr>\n",
       "  </tbody>\n",
       "</table>\n",
       "<p>200 rows × 7 columns</p>\n",
       "</div>"
      ],
      "text/plain": [
       "      id              DeptName                 JobTitle Sex      Salary  \\\n",
       "0      1       Admininstration           Manager-Branch   M   95000.000   \n",
       "1      2              Shipping           Clerk-Shipping   M   15000.084   \n",
       "2      3              Shipping           Clerk-Shipping   F   21320.004   \n",
       "3      4              Assembly                Assembler   F   24996.400   \n",
       "4      5   France Headquarters      Director-Operations   F       0.000   \n",
       "..   ...                   ...                      ...  ..         ...   \n",
       "195  196  Eastern Sales Region       Officer-Account Sr   F   64800.000   \n",
       "196  197  Western Sales Region         Accounting Clerk   M  153400.000   \n",
       "197  198  Western Sales Region         Accounting Clerk   M  176800.000   \n",
       "198  199    Sales and Services     Representative-Sales   F  100000.000   \n",
       "199  200             Marketing  Representative-Customer   F   78500.000   \n",
       "\n",
       "     Level  Experience  \n",
       "0        5        5.80  \n",
       "1        1        1.20  \n",
       "2        2        2.30  \n",
       "3        2        2.50  \n",
       "4        0        0.00  \n",
       "..     ...         ...  \n",
       "195      4        4.90  \n",
       "196      7        7.70  \n",
       "197      7        7.11  \n",
       "198      6        6.30  \n",
       "199      4        4.11  \n",
       "\n",
       "[200 rows x 7 columns]"
      ]
     },
     "execution_count": 20,
     "metadata": {},
     "output_type": "execute_result"
    }
   ],
   "source": [
    "dataset"
   ]
  },
  {
   "cell_type": "markdown",
   "id": "df83c9c3",
   "metadata": {},
   "source": [
    "<b>Exploratory Data Analysis<b>"
   ]
  },
  {
   "cell_type": "markdown",
   "id": "ad42d7e0",
   "metadata": {},
   "source": [
    "In statistics, exploratory data analysis (EDA) is an approach to analyzing data sets to summarize their main characteristics, often with visual methods. A statistical model can be used or not, but primarily EDA is for seeing what the data can tell us beyond the formal modeling or hypothesis testing task."
   ]
  },
  {
   "cell_type": "markdown",
   "id": "7c5949ea",
   "metadata": {},
   "source": [
    "Dataset info gives information on the datatype, null values, total entries in the dataset."
   ]
  },
  {
   "cell_type": "code",
   "execution_count": 21,
   "id": "3a4f21c6",
   "metadata": {},
   "outputs": [
    {
     "name": "stdout",
     "output_type": "stream",
     "text": [
      "<class 'pandas.core.frame.DataFrame'>\n",
      "Int64Index: 200 entries, 0 to 199\n",
      "Data columns (total 7 columns):\n",
      " #   Column      Non-Null Count  Dtype  \n",
      "---  ------      --------------  -----  \n",
      " 0   id          200 non-null    int64  \n",
      " 1   DeptName    200 non-null    object \n",
      " 2   JobTitle    200 non-null    object \n",
      " 3   Sex         200 non-null    object \n",
      " 4   Salary      200 non-null    float64\n",
      " 5   Level       200 non-null    int64  \n",
      " 6   Experience  200 non-null    float64\n",
      "dtypes: float64(2), int64(2), object(3)\n",
      "memory usage: 12.5+ KB\n"
     ]
    }
   ],
   "source": [
    "dataset.info()"
   ]
  },
  {
   "cell_type": "markdown",
   "id": "f9973261",
   "metadata": {},
   "source": [
    "With dataset describe, we get to have an understanding of count,variance, standard deviation and how the data is spread across each column.This will only retrive information from the numerical data"
   ]
  },
  {
   "cell_type": "code",
   "execution_count": 22,
   "id": "c7bc2122",
   "metadata": {},
   "outputs": [
    {
     "data": {
      "text/html": [
       "<div>\n",
       "<style scoped>\n",
       "    .dataframe tbody tr th:only-of-type {\n",
       "        vertical-align: middle;\n",
       "    }\n",
       "\n",
       "    .dataframe tbody tr th {\n",
       "        vertical-align: top;\n",
       "    }\n",
       "\n",
       "    .dataframe thead th {\n",
       "        text-align: right;\n",
       "    }\n",
       "</style>\n",
       "<table border=\"1\" class=\"dataframe\">\n",
       "  <thead>\n",
       "    <tr style=\"text-align: right;\">\n",
       "      <th></th>\n",
       "      <th>id</th>\n",
       "      <th>Salary</th>\n",
       "      <th>Level</th>\n",
       "      <th>Experience</th>\n",
       "    </tr>\n",
       "  </thead>\n",
       "  <tbody>\n",
       "    <tr>\n",
       "      <th>count</th>\n",
       "      <td>200.000000</td>\n",
       "      <td>2.000000e+02</td>\n",
       "      <td>200.000000</td>\n",
       "      <td>200.000000</td>\n",
       "    </tr>\n",
       "    <tr>\n",
       "      <th>mean</th>\n",
       "      <td>100.500000</td>\n",
       "      <td>1.333211e+05</td>\n",
       "      <td>3.720000</td>\n",
       "      <td>4.191600</td>\n",
       "    </tr>\n",
       "    <tr>\n",
       "      <th>std</th>\n",
       "      <td>57.879185</td>\n",
       "      <td>3.773974e+05</td>\n",
       "      <td>2.684704</td>\n",
       "      <td>2.753483</td>\n",
       "    </tr>\n",
       "    <tr>\n",
       "      <th>min</th>\n",
       "      <td>1.000000</td>\n",
       "      <td>0.000000e+00</td>\n",
       "      <td>0.000000</td>\n",
       "      <td>0.000000</td>\n",
       "    </tr>\n",
       "    <tr>\n",
       "      <th>25%</th>\n",
       "      <td>50.750000</td>\n",
       "      <td>2.600000e+04</td>\n",
       "      <td>2.000000</td>\n",
       "      <td>2.500000</td>\n",
       "    </tr>\n",
       "    <tr>\n",
       "      <th>50%</th>\n",
       "      <td>100.500000</td>\n",
       "      <td>4.631500e+04</td>\n",
       "      <td>3.000000</td>\n",
       "      <td>3.650000</td>\n",
       "    </tr>\n",
       "    <tr>\n",
       "      <th>75%</th>\n",
       "      <td>150.250000</td>\n",
       "      <td>8.561000e+04</td>\n",
       "      <td>5.000000</td>\n",
       "      <td>5.125000</td>\n",
       "    </tr>\n",
       "    <tr>\n",
       "      <th>max</th>\n",
       "      <td>200.000000</td>\n",
       "      <td>2.400000e+06</td>\n",
       "      <td>13.000000</td>\n",
       "      <td>13.900000</td>\n",
       "    </tr>\n",
       "  </tbody>\n",
       "</table>\n",
       "</div>"
      ],
      "text/plain": [
       "               id        Salary       Level  Experience\n",
       "count  200.000000  2.000000e+02  200.000000  200.000000\n",
       "mean   100.500000  1.333211e+05    3.720000    4.191600\n",
       "std     57.879185  3.773974e+05    2.684704    2.753483\n",
       "min      1.000000  0.000000e+00    0.000000    0.000000\n",
       "25%     50.750000  2.600000e+04    2.000000    2.500000\n",
       "50%    100.500000  4.631500e+04    3.000000    3.650000\n",
       "75%    150.250000  8.561000e+04    5.000000    5.125000\n",
       "max    200.000000  2.400000e+06   13.000000   13.900000"
      ]
     },
     "execution_count": 22,
     "metadata": {},
     "output_type": "execute_result"
    }
   ],
   "source": [
    "dataset.describe()"
   ]
  },
  {
   "cell_type": "markdown",
   "id": "69f8db8e",
   "metadata": {},
   "source": [
    "Corr will provide information on how the data is correlated with each other. From the below information, we can see that Salary is highly correlated with Level and Experience"
   ]
  },
  {
   "cell_type": "code",
   "execution_count": 23,
   "id": "cb3f95ed",
   "metadata": {
    "scrolled": false
   },
   "outputs": [
    {
     "data": {
      "text/html": [
       "<div>\n",
       "<style scoped>\n",
       "    .dataframe tbody tr th:only-of-type {\n",
       "        vertical-align: middle;\n",
       "    }\n",
       "\n",
       "    .dataframe tbody tr th {\n",
       "        vertical-align: top;\n",
       "    }\n",
       "\n",
       "    .dataframe thead th {\n",
       "        text-align: right;\n",
       "    }\n",
       "</style>\n",
       "<table border=\"1\" class=\"dataframe\">\n",
       "  <thead>\n",
       "    <tr style=\"text-align: right;\">\n",
       "      <th></th>\n",
       "      <th>id</th>\n",
       "      <th>Salary</th>\n",
       "      <th>Level</th>\n",
       "      <th>Experience</th>\n",
       "    </tr>\n",
       "  </thead>\n",
       "  <tbody>\n",
       "    <tr>\n",
       "      <th>id</th>\n",
       "      <td>1.000000</td>\n",
       "      <td>0.042117</td>\n",
       "      <td>0.065681</td>\n",
       "      <td>0.079169</td>\n",
       "    </tr>\n",
       "    <tr>\n",
       "      <th>Salary</th>\n",
       "      <td>0.042117</td>\n",
       "      <td>1.000000</td>\n",
       "      <td>0.738541</td>\n",
       "      <td>0.728834</td>\n",
       "    </tr>\n",
       "    <tr>\n",
       "      <th>Level</th>\n",
       "      <td>0.065681</td>\n",
       "      <td>0.738541</td>\n",
       "      <td>1.000000</td>\n",
       "      <td>0.993334</td>\n",
       "    </tr>\n",
       "    <tr>\n",
       "      <th>Experience</th>\n",
       "      <td>0.079169</td>\n",
       "      <td>0.728834</td>\n",
       "      <td>0.993334</td>\n",
       "      <td>1.000000</td>\n",
       "    </tr>\n",
       "  </tbody>\n",
       "</table>\n",
       "</div>"
      ],
      "text/plain": [
       "                  id    Salary     Level  Experience\n",
       "id          1.000000  0.042117  0.065681    0.079169\n",
       "Salary      0.042117  1.000000  0.738541    0.728834\n",
       "Level       0.065681  0.738541  1.000000    0.993334\n",
       "Experience  0.079169  0.728834  0.993334    1.000000"
      ]
     },
     "execution_count": 23,
     "metadata": {},
     "output_type": "execute_result"
    }
   ],
   "source": [
    "dataset.corr()"
   ]
  },
  {
   "cell_type": "markdown",
   "id": "c1aac9ad",
   "metadata": {},
   "source": [
    "The correlation data is also represented in the form of heatmap using seaborn library"
   ]
  },
  {
   "cell_type": "code",
   "execution_count": 24,
   "id": "6afb902a",
   "metadata": {},
   "outputs": [
    {
     "data": {
      "image/png": "[encoded data removed]",
      "text/plain": [
       "<Figure size 640x480 with 2 Axes>"
      ]
     },
     "metadata": {},
     "output_type": "display_data"
    }
   ],
   "source": [
    "sns.heatmap(data=dataset.corr(), cmap='Blues', annot=True)\n",
    "plt.show()"
   ]
  },
  {
   "cell_type": "markdown",
   "id": "396f7e43",
   "metadata": {},
   "source": [
    "From the dataset, we will now analyse Level column to find the unique values present in it. It has level starting from 1 to 13"
   ]
  },
  {
   "cell_type": "code",
   "execution_count": 25,
   "id": "ab7172ce",
   "metadata": {},
   "outputs": [
    {
     "data": {
      "text/plain": [
       "array([ 5,  1,  2,  0,  4,  7,  3,  9, 13,  6, 12, 11, 10], dtype=int64)"
      ]
     },
     "execution_count": 25,
     "metadata": {},
     "output_type": "execute_result"
    }
   ],
   "source": [
    "dataset.Level.unique()"
   ]
  },
  {
   "cell_type": "markdown",
   "id": "d46f09eb",
   "metadata": {},
   "source": [
    "From the countplot graph, we see that the major level of employees is around level 2,3,4"
   ]
  },
  {
   "cell_type": "code",
   "execution_count": 26,
   "id": "04f7fdaa",
   "metadata": {},
   "outputs": [
    {
     "data": {
      "image/png": "[encoded data removed]",
      "text/plain": [
       "<Figure size 640x480 with 1 Axes>"
      ]
     },
     "metadata": {},
     "output_type": "display_data"
    }
   ],
   "source": [
    "sns.countplot(data=dataset, x=dataset.Level);"
   ]
  },
  {
   "cell_type": "markdown",
   "id": "67a927a1",
   "metadata": {},
   "source": [
    "From the dataset, we will now analyse Experience column to find the unique values present in it. The experience column shows data with exp starting from 1 to 13.9 (max)"
   ]
  },
  {
   "cell_type": "code",
   "execution_count": 27,
   "id": "0574be8d",
   "metadata": {},
   "outputs": [
    {
     "data": {
      "text/plain": [
       "array([ 5.8 ,  1.2 ,  2.3 ,  2.5 ,  0.  ,  2.7 ,  4.4 ,  2.1 ,  1.3 ,\n",
       "        1.5 ,  2.8 ,  7.5 ,  3.3 ,  9.4 ,  7.7 , 13.8 ,  9.5 ,  7.6 ,\n",
       "        1.  ,  7.2 ,  2.6 ,  3.7 ,  6.1 ,  5.5 ,  0.8 ,  7.3 ,  3.9 ,\n",
       "        2.4 ,  4.7 ,  4.2 ,  3.8 ,  5.4 ,  5.1 ,  4.8 ,  4.3 ,  3.4 ,\n",
       "        4.6 ,  5.7 ,  5.3 ,  2.9 ,  4.5 ,  4.9 , 12.5 ,  0.5 ,  3.  ,\n",
       "        0.2 ,  1.1 ,  6.6 ,  6.3 ,  1.7 ,  9.6 ,  9.9 ,  3.6 ,  0.7 ,\n",
       "        6.4 ,  2.2 , 11.7 ,  3.5 ,  5.2 ,  3.2 ,  1.4 ,  5.  , 11.9 ,\n",
       "       13.1 , 13.9 ,  6.2 ,  6.5 ,  6.9 , 10.5 , 13.2 ,  7.4 , 11.3 ,\n",
       "        3.1 ,  7.11,  4.11])"
      ]
     },
     "execution_count": 27,
     "metadata": {},
     "output_type": "execute_result"
    }
   ],
   "source": [
    "dataset.Experience.unique()"
   ]
  },
  {
   "cell_type": "markdown",
   "id": "f0ed7ab9",
   "metadata": {},
   "source": [
    "Analysing all the three columns together Salary,Level and Work Experience"
   ]
  },
  {
   "cell_type": "code",
   "execution_count": 28,
   "id": "8336f6f1",
   "metadata": {},
   "outputs": [
    {
     "data": {
      "image/png": "[encoded data removed]",
      "text/plain": [
       "<Figure size 640x480 with 1 Axes>"
      ]
     },
     "metadata": {},
     "output_type": "display_data"
    }
   ],
   "source": [
    "scatter_chart = sns.scatterplot(data=dataset,x='Experience',y='Salary',hue = 'Level', palette='deep')\n"
   ]
  },
  {
   "cell_type": "markdown",
   "id": "ca687f78",
   "metadata": {},
   "source": [
    "From the above plot, beyond experience 12 years and level 12, the salary is on the higher side and this is considered to be an outlier and we need to minimize the impact of this data on the overall dataset"
   ]
  },
  {
   "cell_type": "markdown",
   "id": "4a9d867d",
   "metadata": {},
   "source": [
    "Also,using pairplot to plot and analyse the complete dataset"
   ]
  },
  {
   "cell_type": "code",
   "execution_count": 29,
   "id": "883f402c",
   "metadata": {},
   "outputs": [
    {
     "data": {
      "image/png": "[encoded data removed]",
      "text/plain": [
       "<Figure size 1000x1000 with 20 Axes>"
      ]
     },
     "metadata": {},
     "output_type": "display_data"
    }
   ],
   "source": [
    "sns.pairplot(data=dataset, diag_kind='kde');"
   ]
  },
  {
   "cell_type": "markdown",
   "id": "39adf4ed",
   "metadata": {},
   "source": [
    "We will now analyse the Salary column and check for invalid entries and remove  the Outliers"
   ]
  },
  {
   "cell_type": "markdown",
   "id": "674d329e",
   "metadata": {},
   "source": [
    "Let's check the employee salary count greater than 0, there are 9 employees for whom salary is 0"
   ]
  },
  {
   "cell_type": "code",
   "execution_count": 30,
   "id": "c4ed67bf",
   "metadata": {},
   "outputs": [
    {
     "data": {
      "text/html": [
       "<div>\n",
       "<style scoped>\n",
       "    .dataframe tbody tr th:only-of-type {\n",
       "        vertical-align: middle;\n",
       "    }\n",
       "\n",
       "    .dataframe tbody tr th {\n",
       "        vertical-align: top;\n",
       "    }\n",
       "\n",
       "    .dataframe thead th {\n",
       "        text-align: right;\n",
       "    }\n",
       "</style>\n",
       "<table border=\"1\" class=\"dataframe\">\n",
       "  <thead>\n",
       "    <tr style=\"text-align: right;\">\n",
       "      <th></th>\n",
       "      <th>id</th>\n",
       "      <th>DeptName</th>\n",
       "      <th>JobTitle</th>\n",
       "      <th>Sex</th>\n",
       "      <th>Salary</th>\n",
       "      <th>Level</th>\n",
       "      <th>Experience</th>\n",
       "    </tr>\n",
       "  </thead>\n",
       "  <tbody>\n",
       "    <tr>\n",
       "      <th>0</th>\n",
       "      <td>1</td>\n",
       "      <td>Admininstration</td>\n",
       "      <td>Manager-Branch</td>\n",
       "      <td>M</td>\n",
       "      <td>95000.000</td>\n",
       "      <td>5</td>\n",
       "      <td>5.80</td>\n",
       "    </tr>\n",
       "    <tr>\n",
       "      <th>1</th>\n",
       "      <td>2</td>\n",
       "      <td>Shipping</td>\n",
       "      <td>Clerk-Shipping</td>\n",
       "      <td>M</td>\n",
       "      <td>15000.084</td>\n",
       "      <td>1</td>\n",
       "      <td>1.20</td>\n",
       "    </tr>\n",
       "    <tr>\n",
       "      <th>2</th>\n",
       "      <td>3</td>\n",
       "      <td>Shipping</td>\n",
       "      <td>Clerk-Shipping</td>\n",
       "      <td>F</td>\n",
       "      <td>21320.004</td>\n",
       "      <td>2</td>\n",
       "      <td>2.30</td>\n",
       "    </tr>\n",
       "    <tr>\n",
       "      <th>3</th>\n",
       "      <td>4</td>\n",
       "      <td>Assembly</td>\n",
       "      <td>Assembler</td>\n",
       "      <td>F</td>\n",
       "      <td>24996.400</td>\n",
       "      <td>2</td>\n",
       "      <td>2.50</td>\n",
       "    </tr>\n",
       "    <tr>\n",
       "      <th>6</th>\n",
       "      <td>7</td>\n",
       "      <td>Operations- Paris</td>\n",
       "      <td>Clerk</td>\n",
       "      <td>F</td>\n",
       "      <td>21087.358</td>\n",
       "      <td>2</td>\n",
       "      <td>2.30</td>\n",
       "    </tr>\n",
       "    <tr>\n",
       "      <th>...</th>\n",
       "      <td>...</td>\n",
       "      <td>...</td>\n",
       "      <td>...</td>\n",
       "      <td>...</td>\n",
       "      <td>...</td>\n",
       "      <td>...</td>\n",
       "      <td>...</td>\n",
       "    </tr>\n",
       "    <tr>\n",
       "      <th>195</th>\n",
       "      <td>196</td>\n",
       "      <td>Eastern Sales Region</td>\n",
       "      <td>Officer-Account Sr</td>\n",
       "      <td>F</td>\n",
       "      <td>64800.000</td>\n",
       "      <td>4</td>\n",
       "      <td>4.90</td>\n",
       "    </tr>\n",
       "    <tr>\n",
       "      <th>196</th>\n",
       "      <td>197</td>\n",
       "      <td>Western Sales Region</td>\n",
       "      <td>Accounting Clerk</td>\n",
       "      <td>M</td>\n",
       "      <td>153400.000</td>\n",
       "      <td>7</td>\n",
       "      <td>7.70</td>\n",
       "    </tr>\n",
       "    <tr>\n",
       "      <th>197</th>\n",
       "      <td>198</td>\n",
       "      <td>Western Sales Region</td>\n",
       "      <td>Accounting Clerk</td>\n",
       "      <td>M</td>\n",
       "      <td>176800.000</td>\n",
       "      <td>7</td>\n",
       "      <td>7.11</td>\n",
       "    </tr>\n",
       "    <tr>\n",
       "      <th>198</th>\n",
       "      <td>199</td>\n",
       "      <td>Sales and Services</td>\n",
       "      <td>Representative-Sales</td>\n",
       "      <td>F</td>\n",
       "      <td>100000.000</td>\n",
       "      <td>6</td>\n",
       "      <td>6.30</td>\n",
       "    </tr>\n",
       "    <tr>\n",
       "      <th>199</th>\n",
       "      <td>200</td>\n",
       "      <td>Marketing</td>\n",
       "      <td>Representative-Customer</td>\n",
       "      <td>F</td>\n",
       "      <td>78500.000</td>\n",
       "      <td>4</td>\n",
       "      <td>4.11</td>\n",
       "    </tr>\n",
       "  </tbody>\n",
       "</table>\n",
       "<p>191 rows × 7 columns</p>\n",
       "</div>"
      ],
      "text/plain": [
       "      id              DeptName                 JobTitle Sex      Salary  \\\n",
       "0      1       Admininstration           Manager-Branch   M   95000.000   \n",
       "1      2              Shipping           Clerk-Shipping   M   15000.084   \n",
       "2      3              Shipping           Clerk-Shipping   F   21320.004   \n",
       "3      4              Assembly                Assembler   F   24996.400   \n",
       "6      7     Operations- Paris                    Clerk   F   21087.358   \n",
       "..   ...                   ...                      ...  ..         ...   \n",
       "195  196  Eastern Sales Region       Officer-Account Sr   F   64800.000   \n",
       "196  197  Western Sales Region         Accounting Clerk   M  153400.000   \n",
       "197  198  Western Sales Region         Accounting Clerk   M  176800.000   \n",
       "198  199    Sales and Services     Representative-Sales   F  100000.000   \n",
       "199  200             Marketing  Representative-Customer   F   78500.000   \n",
       "\n",
       "     Level  Experience  \n",
       "0        5        5.80  \n",
       "1        1        1.20  \n",
       "2        2        2.30  \n",
       "3        2        2.50  \n",
       "6        2        2.30  \n",
       "..     ...         ...  \n",
       "195      4        4.90  \n",
       "196      7        7.70  \n",
       "197      7        7.11  \n",
       "198      6        6.30  \n",
       "199      4        4.11  \n",
       "\n",
       "[191 rows x 7 columns]"
      ]
     },
     "execution_count": 30,
     "metadata": {},
     "output_type": "execute_result"
    }
   ],
   "source": [
    "dataset[dataset.Salary>0]"
   ]
  },
  {
   "cell_type": "markdown",
   "id": "3e5005ca",
   "metadata": {},
   "source": [
    "We will store the extracted dataset for salary > 0 and remove the empty entries"
   ]
  },
  {
   "cell_type": "code",
   "execution_count": 31,
   "id": "b9fd40f4",
   "metadata": {},
   "outputs": [],
   "source": [
    "dataset = dataset[dataset.Salary>0]"
   ]
  },
  {
   "cell_type": "markdown",
   "id": "6abaadfb",
   "metadata": {},
   "source": [
    "Removing the Outliers which have extreme salary values using Inter Quartile Range (IQR). We will perform a set of steps to remove the lower and upper limit outliers"
   ]
  },
  {
   "cell_type": "code",
   "execution_count": 32,
   "id": "7ef4e742",
   "metadata": {},
   "outputs": [
    {
     "name": "stdout",
     "output_type": "stream",
     "text": [
      "28560.0\n",
      "90000.0\n"
     ]
    }
   ],
   "source": [
    "percentile25 = dataset['Salary'].quantile(0.25)\n",
    "percentile75 = dataset['Salary'].quantile(0.75)\n",
    "print (percentile25)\n",
    "print (percentile75)"
   ]
  },
  {
   "cell_type": "code",
   "execution_count": 33,
   "id": "a679d777",
   "metadata": {},
   "outputs": [
    {
     "data": {
      "text/plain": [
       "61440.0"
      ]
     },
     "execution_count": 33,
     "metadata": {},
     "output_type": "execute_result"
    }
   ],
   "source": [
    "iqr=percentile75-percentile25\n",
    "iqr"
   ]
  },
  {
   "cell_type": "code",
   "execution_count": 34,
   "id": "46b31f8c",
   "metadata": {},
   "outputs": [
    {
     "name": "stdout",
     "output_type": "stream",
     "text": [
      "-63600.0\n",
      "182160.0\n"
     ]
    }
   ],
   "source": [
    "lower_limit = percentile25 - 1.5 * iqr\n",
    "upper_limit = percentile75 + 1.5 * iqr\n",
    "\n",
    "print (lower_limit)\n",
    "print (upper_limit)"
   ]
  },
  {
   "cell_type": "markdown",
   "id": "64dc823f",
   "metadata": {},
   "source": [
    "These are the list of outliers which have extreme values and does not provide meaningful results"
   ]
  },
  {
   "cell_type": "code",
   "execution_count": 35,
   "id": "d929dad6",
   "metadata": {},
   "outputs": [
    {
     "data": {
      "text/html": [
       "<div>\n",
       "<style scoped>\n",
       "    .dataframe tbody tr th:only-of-type {\n",
       "        vertical-align: middle;\n",
       "    }\n",
       "\n",
       "    .dataframe tbody tr th {\n",
       "        vertical-align: top;\n",
       "    }\n",
       "\n",
       "    .dataframe thead th {\n",
       "        text-align: right;\n",
       "    }\n",
       "</style>\n",
       "<table border=\"1\" class=\"dataframe\">\n",
       "  <thead>\n",
       "    <tr style=\"text-align: right;\">\n",
       "      <th></th>\n",
       "      <th>id</th>\n",
       "      <th>DeptName</th>\n",
       "      <th>JobTitle</th>\n",
       "      <th>Sex</th>\n",
       "      <th>Salary</th>\n",
       "      <th>Level</th>\n",
       "      <th>Experience</th>\n",
       "    </tr>\n",
       "  </thead>\n",
       "  <tbody>\n",
       "    <tr>\n",
       "      <th>18</th>\n",
       "      <td>19</td>\n",
       "      <td>GP US Dept D</td>\n",
       "      <td>Chief Executive Officer</td>\n",
       "      <td>M</td>\n",
       "      <td>336000.0</td>\n",
       "      <td>9</td>\n",
       "      <td>9.4</td>\n",
       "    </tr>\n",
       "    <tr>\n",
       "      <th>19</th>\n",
       "      <td>20</td>\n",
       "      <td>Vice Presidency</td>\n",
       "      <td>Director</td>\n",
       "      <td>M</td>\n",
       "      <td>223200.0</td>\n",
       "      <td>7</td>\n",
       "      <td>7.7</td>\n",
       "    </tr>\n",
       "    <tr>\n",
       "      <th>20</th>\n",
       "      <td>21</td>\n",
       "      <td>Recruitment</td>\n",
       "      <td>Assistant</td>\n",
       "      <td>F</td>\n",
       "      <td>2397600.0</td>\n",
       "      <td>13</td>\n",
       "      <td>13.8</td>\n",
       "    </tr>\n",
       "    <tr>\n",
       "      <th>22</th>\n",
       "      <td>23</td>\n",
       "      <td>Shipping</td>\n",
       "      <td>Director-Administration</td>\n",
       "      <td>M</td>\n",
       "      <td>300000.0</td>\n",
       "      <td>9</td>\n",
       "      <td>9.5</td>\n",
       "    </tr>\n",
       "    <tr>\n",
       "      <th>25</th>\n",
       "      <td>26</td>\n",
       "      <td>Human Resources</td>\n",
       "      <td>Accountant</td>\n",
       "      <td>F</td>\n",
       "      <td>240000.0</td>\n",
       "      <td>7</td>\n",
       "      <td>7.2</td>\n",
       "    </tr>\n",
       "    <tr>\n",
       "      <th>64</th>\n",
       "      <td>65</td>\n",
       "      <td>Human Resources</td>\n",
       "      <td>Administrator-Human Resources</td>\n",
       "      <td>F</td>\n",
       "      <td>960000.0</td>\n",
       "      <td>12</td>\n",
       "      <td>12.5</td>\n",
       "    </tr>\n",
       "    <tr>\n",
       "      <th>85</th>\n",
       "      <td>86</td>\n",
       "      <td>Human Resources</td>\n",
       "      <td>Manager-Human Resources</td>\n",
       "      <td>M</td>\n",
       "      <td>2400000.0</td>\n",
       "      <td>13</td>\n",
       "      <td>13.8</td>\n",
       "    </tr>\n",
       "    <tr>\n",
       "      <th>92</th>\n",
       "      <td>93</td>\n",
       "      <td>Vice Presidency</td>\n",
       "      <td>Director</td>\n",
       "      <td>F</td>\n",
       "      <td>297600.0</td>\n",
       "      <td>9</td>\n",
       "      <td>9.6</td>\n",
       "    </tr>\n",
       "    <tr>\n",
       "      <th>95</th>\n",
       "      <td>96</td>\n",
       "      <td>Sales and Services</td>\n",
       "      <td>Administrator</td>\n",
       "      <td>F</td>\n",
       "      <td>250800.0</td>\n",
       "      <td>9</td>\n",
       "      <td>9.9</td>\n",
       "    </tr>\n",
       "    <tr>\n",
       "      <th>104</th>\n",
       "      <td>105</td>\n",
       "      <td>Human Resources</td>\n",
       "      <td>Specialist-Employment</td>\n",
       "      <td>M</td>\n",
       "      <td>720000.0</td>\n",
       "      <td>11</td>\n",
       "      <td>11.7</td>\n",
       "    </tr>\n",
       "    <tr>\n",
       "      <th>128</th>\n",
       "      <td>129</td>\n",
       "      <td>Customer Service</td>\n",
       "      <td>Representative-Customer</td>\n",
       "      <td>M</td>\n",
       "      <td>618000.0</td>\n",
       "      <td>11</td>\n",
       "      <td>11.9</td>\n",
       "    </tr>\n",
       "    <tr>\n",
       "      <th>134</th>\n",
       "      <td>135</td>\n",
       "      <td>Human Resources</td>\n",
       "      <td>Human Resource Director</td>\n",
       "      <td>M</td>\n",
       "      <td>187000.0</td>\n",
       "      <td>7</td>\n",
       "      <td>7.7</td>\n",
       "    </tr>\n",
       "    <tr>\n",
       "      <th>153</th>\n",
       "      <td>154</td>\n",
       "      <td>Human Resources</td>\n",
       "      <td>Manager-Human Resources</td>\n",
       "      <td>M</td>\n",
       "      <td>2400000.0</td>\n",
       "      <td>13</td>\n",
       "      <td>13.1</td>\n",
       "    </tr>\n",
       "    <tr>\n",
       "      <th>154</th>\n",
       "      <td>155</td>\n",
       "      <td>Corporate HQ</td>\n",
       "      <td>Consultant - Senior</td>\n",
       "      <td>M</td>\n",
       "      <td>2400000.0</td>\n",
       "      <td>13</td>\n",
       "      <td>13.9</td>\n",
       "    </tr>\n",
       "    <tr>\n",
       "      <th>161</th>\n",
       "      <td>162</td>\n",
       "      <td>Vice Presidency</td>\n",
       "      <td>Director</td>\n",
       "      <td>F</td>\n",
       "      <td>360000.0</td>\n",
       "      <td>10</td>\n",
       "      <td>10.5</td>\n",
       "    </tr>\n",
       "    <tr>\n",
       "      <th>162</th>\n",
       "      <td>163</td>\n",
       "      <td>Vice Presidency</td>\n",
       "      <td>Director</td>\n",
       "      <td>M</td>\n",
       "      <td>2280000.0</td>\n",
       "      <td>13</td>\n",
       "      <td>13.2</td>\n",
       "    </tr>\n",
       "    <tr>\n",
       "      <th>167</th>\n",
       "      <td>168</td>\n",
       "      <td>Research and Development</td>\n",
       "      <td>Consultant</td>\n",
       "      <td>F</td>\n",
       "      <td>666000.0</td>\n",
       "      <td>11</td>\n",
       "      <td>11.3</td>\n",
       "    </tr>\n",
       "  </tbody>\n",
       "</table>\n",
       "</div>"
      ],
      "text/plain": [
       "      id                  DeptName                       JobTitle Sex  \\\n",
       "18    19              GP US Dept D        Chief Executive Officer   M   \n",
       "19    20           Vice Presidency                       Director   M   \n",
       "20    21               Recruitment                      Assistant   F   \n",
       "22    23                  Shipping        Director-Administration   M   \n",
       "25    26           Human Resources                     Accountant   F   \n",
       "64    65           Human Resources  Administrator-Human Resources   F   \n",
       "85    86           Human Resources        Manager-Human Resources   M   \n",
       "92    93           Vice Presidency                       Director   F   \n",
       "95    96        Sales and Services                  Administrator   F   \n",
       "104  105           Human Resources          Specialist-Employment   M   \n",
       "128  129          Customer Service        Representative-Customer   M   \n",
       "134  135           Human Resources        Human Resource Director   M   \n",
       "153  154           Human Resources        Manager-Human Resources   M   \n",
       "154  155              Corporate HQ            Consultant - Senior   M   \n",
       "161  162           Vice Presidency                       Director   F   \n",
       "162  163           Vice Presidency                       Director   M   \n",
       "167  168  Research and Development                     Consultant   F   \n",
       "\n",
       "        Salary  Level  Experience  \n",
       "18    336000.0      9         9.4  \n",
       "19    223200.0      7         7.7  \n",
       "20   2397600.0     13        13.8  \n",
       "22    300000.0      9         9.5  \n",
       "25    240000.0      7         7.2  \n",
       "64    960000.0     12        12.5  \n",
       "85   2400000.0     13        13.8  \n",
       "92    297600.0      9         9.6  \n",
       "95    250800.0      9         9.9  \n",
       "104   720000.0     11        11.7  \n",
       "128   618000.0     11        11.9  \n",
       "134   187000.0      7         7.7  \n",
       "153  2400000.0     13        13.1  \n",
       "154  2400000.0     13        13.9  \n",
       "161   360000.0     10        10.5  \n",
       "162  2280000.0     13        13.2  \n",
       "167   666000.0     11        11.3  "
      ]
     },
     "execution_count": 35,
     "metadata": {},
     "output_type": "execute_result"
    }
   ],
   "source": [
    "dataset[(dataset.Salary < lower_limit) | (dataset.Salary > upper_limit)]"
   ]
  },
  {
   "cell_type": "markdown",
   "id": "6a00f7ce",
   "metadata": {},
   "source": [
    "In this step, we will use a condition to not include the above outliers in our new dataset"
   ]
  },
  {
   "cell_type": "code",
   "execution_count": 36,
   "id": "2f68ee13",
   "metadata": {},
   "outputs": [],
   "source": [
    "new_dataset=dataset[(dataset.Salary < lower_limit) | (dataset.Salary < upper_limit)]"
   ]
  },
  {
   "cell_type": "markdown",
   "id": "5f68c132",
   "metadata": {},
   "source": [
    "The new dataset has 174 rows and 7 columns after removing the extreme outliers from the dataset"
   ]
  },
  {
   "cell_type": "code",
   "execution_count": 37,
   "id": "60ae3876",
   "metadata": {},
   "outputs": [
    {
     "data": {
      "text/html": [
       "<div>\n",
       "<style scoped>\n",
       "    .dataframe tbody tr th:only-of-type {\n",
       "        vertical-align: middle;\n",
       "    }\n",
       "\n",
       "    .dataframe tbody tr th {\n",
       "        vertical-align: top;\n",
       "    }\n",
       "\n",
       "    .dataframe thead th {\n",
       "        text-align: right;\n",
       "    }\n",
       "</style>\n",
       "<table border=\"1\" class=\"dataframe\">\n",
       "  <thead>\n",
       "    <tr style=\"text-align: right;\">\n",
       "      <th></th>\n",
       "      <th>id</th>\n",
       "      <th>DeptName</th>\n",
       "      <th>JobTitle</th>\n",
       "      <th>Sex</th>\n",
       "      <th>Salary</th>\n",
       "      <th>Level</th>\n",
       "      <th>Experience</th>\n",
       "    </tr>\n",
       "  </thead>\n",
       "  <tbody>\n",
       "    <tr>\n",
       "      <th>0</th>\n",
       "      <td>1</td>\n",
       "      <td>Admininstration</td>\n",
       "      <td>Manager-Branch</td>\n",
       "      <td>M</td>\n",
       "      <td>95000.000</td>\n",
       "      <td>5</td>\n",
       "      <td>5.80</td>\n",
       "    </tr>\n",
       "    <tr>\n",
       "      <th>1</th>\n",
       "      <td>2</td>\n",
       "      <td>Shipping</td>\n",
       "      <td>Clerk-Shipping</td>\n",
       "      <td>M</td>\n",
       "      <td>15000.084</td>\n",
       "      <td>1</td>\n",
       "      <td>1.20</td>\n",
       "    </tr>\n",
       "    <tr>\n",
       "      <th>2</th>\n",
       "      <td>3</td>\n",
       "      <td>Shipping</td>\n",
       "      <td>Clerk-Shipping</td>\n",
       "      <td>F</td>\n",
       "      <td>21320.004</td>\n",
       "      <td>2</td>\n",
       "      <td>2.30</td>\n",
       "    </tr>\n",
       "    <tr>\n",
       "      <th>3</th>\n",
       "      <td>4</td>\n",
       "      <td>Assembly</td>\n",
       "      <td>Assembler</td>\n",
       "      <td>F</td>\n",
       "      <td>24996.400</td>\n",
       "      <td>2</td>\n",
       "      <td>2.50</td>\n",
       "    </tr>\n",
       "    <tr>\n",
       "      <th>6</th>\n",
       "      <td>7</td>\n",
       "      <td>Operations- Paris</td>\n",
       "      <td>Clerk</td>\n",
       "      <td>F</td>\n",
       "      <td>21087.358</td>\n",
       "      <td>2</td>\n",
       "      <td>2.30</td>\n",
       "    </tr>\n",
       "    <tr>\n",
       "      <th>...</th>\n",
       "      <td>...</td>\n",
       "      <td>...</td>\n",
       "      <td>...</td>\n",
       "      <td>...</td>\n",
       "      <td>...</td>\n",
       "      <td>...</td>\n",
       "      <td>...</td>\n",
       "    </tr>\n",
       "    <tr>\n",
       "      <th>195</th>\n",
       "      <td>196</td>\n",
       "      <td>Eastern Sales Region</td>\n",
       "      <td>Officer-Account Sr</td>\n",
       "      <td>F</td>\n",
       "      <td>64800.000</td>\n",
       "      <td>4</td>\n",
       "      <td>4.90</td>\n",
       "    </tr>\n",
       "    <tr>\n",
       "      <th>196</th>\n",
       "      <td>197</td>\n",
       "      <td>Western Sales Region</td>\n",
       "      <td>Accounting Clerk</td>\n",
       "      <td>M</td>\n",
       "      <td>153400.000</td>\n",
       "      <td>7</td>\n",
       "      <td>7.70</td>\n",
       "    </tr>\n",
       "    <tr>\n",
       "      <th>197</th>\n",
       "      <td>198</td>\n",
       "      <td>Western Sales Region</td>\n",
       "      <td>Accounting Clerk</td>\n",
       "      <td>M</td>\n",
       "      <td>176800.000</td>\n",
       "      <td>7</td>\n",
       "      <td>7.11</td>\n",
       "    </tr>\n",
       "    <tr>\n",
       "      <th>198</th>\n",
       "      <td>199</td>\n",
       "      <td>Sales and Services</td>\n",
       "      <td>Representative-Sales</td>\n",
       "      <td>F</td>\n",
       "      <td>100000.000</td>\n",
       "      <td>6</td>\n",
       "      <td>6.30</td>\n",
       "    </tr>\n",
       "    <tr>\n",
       "      <th>199</th>\n",
       "      <td>200</td>\n",
       "      <td>Marketing</td>\n",
       "      <td>Representative-Customer</td>\n",
       "      <td>F</td>\n",
       "      <td>78500.000</td>\n",
       "      <td>4</td>\n",
       "      <td>4.11</td>\n",
       "    </tr>\n",
       "  </tbody>\n",
       "</table>\n",
       "<p>174 rows × 7 columns</p>\n",
       "</div>"
      ],
      "text/plain": [
       "      id              DeptName                 JobTitle Sex      Salary  \\\n",
       "0      1       Admininstration           Manager-Branch   M   95000.000   \n",
       "1      2              Shipping           Clerk-Shipping   M   15000.084   \n",
       "2      3              Shipping           Clerk-Shipping   F   21320.004   \n",
       "3      4              Assembly                Assembler   F   24996.400   \n",
       "6      7     Operations- Paris                    Clerk   F   21087.358   \n",
       "..   ...                   ...                      ...  ..         ...   \n",
       "195  196  Eastern Sales Region       Officer-Account Sr   F   64800.000   \n",
       "196  197  Western Sales Region         Accounting Clerk   M  153400.000   \n",
       "197  198  Western Sales Region         Accounting Clerk   M  176800.000   \n",
       "198  199    Sales and Services     Representative-Sales   F  100000.000   \n",
       "199  200             Marketing  Representative-Customer   F   78500.000   \n",
       "\n",
       "     Level  Experience  \n",
       "0        5        5.80  \n",
       "1        1        1.20  \n",
       "2        2        2.30  \n",
       "3        2        2.50  \n",
       "6        2        2.30  \n",
       "..     ...         ...  \n",
       "195      4        4.90  \n",
       "196      7        7.70  \n",
       "197      7        7.11  \n",
       "198      6        6.30  \n",
       "199      4        4.11  \n",
       "\n",
       "[174 rows x 7 columns]"
      ]
     },
     "execution_count": 37,
     "metadata": {},
     "output_type": "execute_result"
    }
   ],
   "source": [
    "new_dataset"
   ]
  },
  {
   "cell_type": "markdown",
   "id": "b8d48cb9",
   "metadata": {},
   "source": [
    "We will output this new dataset for our reference"
   ]
  },
  {
   "cell_type": "code",
   "execution_count": 38,
   "id": "70038d10",
   "metadata": {},
   "outputs": [],
   "source": [
    "new_dataset.to_csv('Outlier_removed_emp_data.csv', index=False)"
   ]
  },
  {
   "cell_type": "markdown",
   "id": "c2a42048",
   "metadata": {},
   "source": [
    "Checking for NA values in the dataset"
   ]
  },
  {
   "cell_type": "code",
   "execution_count": 39,
   "id": "4d635151",
   "metadata": {},
   "outputs": [
    {
     "data": {
      "text/plain": [
       "id            0\n",
       "DeptName      0\n",
       "JobTitle      0\n",
       "Sex           0\n",
       "Salary        0\n",
       "Level         0\n",
       "Experience    0\n",
       "dtype: int64"
      ]
     },
     "execution_count": 39,
     "metadata": {},
     "output_type": "execute_result"
    }
   ],
   "source": [
    "new_dataset.isna().sum()"
   ]
  },
  {
   "cell_type": "markdown",
   "id": "dedf1fe2",
   "metadata": {},
   "source": [
    "Checking for null values in the dataset"
   ]
  },
  {
   "cell_type": "code",
   "execution_count": 40,
   "id": "90960298",
   "metadata": {},
   "outputs": [
    {
     "data": {
      "text/plain": [
       "id            0\n",
       "DeptName      0\n",
       "JobTitle      0\n",
       "Sex           0\n",
       "Salary        0\n",
       "Level         0\n",
       "Experience    0\n",
       "dtype: int64"
      ]
     },
     "execution_count": 40,
     "metadata": {},
     "output_type": "execute_result"
    }
   ],
   "source": [
    "new_dataset.isnull().sum()"
   ]
  },
  {
   "cell_type": "markdown",
   "id": "90c0ed87",
   "metadata": {},
   "source": [
    "Running the scatter chart with the new dataset, cleaned and removed all the outliers."
   ]
  },
  {
   "cell_type": "code",
   "execution_count": 41,
   "id": "6d336ec6",
   "metadata": {},
   "outputs": [
    {
     "data": {
      "image/png": "[encoded data removed]",
      "text/plain": [
       "<Figure size 640x480 with 1 Axes>"
      ]
     },
     "metadata": {},
     "output_type": "display_data"
    }
   ],
   "source": [
    "scatter_chart = sns.scatterplot(data=new_dataset,x='Experience',y='Salary',hue = 'Level', palette='deep')"
   ]
  },
  {
   "cell_type": "markdown",
   "id": "47316946",
   "metadata": {},
   "source": [
    "<b>Model Building<b>"
   ]
  },
  {
   "cell_type": "markdown",
   "id": "559b525f",
   "metadata": {},
   "source": [
    "We also need to separate the independent and target variables separately as the scikit implemenations require us to provide data in specific format only."
   ]
  },
  {
   "cell_type": "code",
   "execution_count": 42,
   "id": "ec632583",
   "metadata": {},
   "outputs": [],
   "source": [
    "X=new_dataset[['Level','Experience']]\n",
    "y=new_dataset[['Salary']]"
   ]
  },
  {
   "cell_type": "markdown",
   "id": "bfdd1fd2",
   "metadata": {},
   "source": [
    "Split dataset into two as training set and test set, here we are using 20% of the dataset as test set"
   ]
  },
  {
   "cell_type": "code",
   "execution_count": 43,
   "id": "3762b1f8",
   "metadata": {},
   "outputs": [],
   "source": [
    "from sklearn.model_selection import train_test_split \n",
    "\n",
    "X_train, X_test, y_train, y_test = train_test_split(X, y, test_size=0.2, random_state=0)"
   ]
  },
  {
   "cell_type": "markdown",
   "id": "6d9167b6",
   "metadata": {},
   "source": [
    "Scaling to transform the values of features or variables in a dataset to a similar scale"
   ]
  },
  {
   "cell_type": "code",
   "execution_count": 44,
   "id": "be9d9bd6",
   "metadata": {},
   "outputs": [],
   "source": [
    "#Scaling numeric features using sklearn StandardScalar\n",
    "\n",
    "from sklearn.preprocessing import StandardScaler\n",
    "numeric=['Level', 'Experience']\n",
    "sc=StandardScaler()\n",
    "X_train[numeric]=sc.fit_transform(X_train[numeric])\n",
    "X_test[numeric]=sc.transform(X_test[numeric])"
   ]
  },
  {
   "cell_type": "markdown",
   "id": "c47a6a48",
   "metadata": {},
   "source": [
    "Train the model using Linear Regression"
   ]
  },
  {
   "cell_type": "code",
   "execution_count": 45,
   "id": "e80c4069",
   "metadata": {},
   "outputs": [
    {
     "name": "stdout",
     "output_type": "stream",
     "text": [
      "R²: 0.9515079928190382\n",
      "MAE: 5491.127657762672\n",
      "RMSE: 7349.517010512288\n"
     ]
    }
   ],
   "source": [
    "from sklearn.linear_model import LinearRegression\n",
    "from sklearn.metrics import r2_score, mean_absolute_error, mean_squared_error\n",
    "\n",
    "lr = LinearRegression()\n",
    "\n",
    "#Fit X and y \n",
    "\n",
    "lr.fit(X_train, y_train)\n",
    "ypred = lr.predict(X_test)\n",
    "\n",
    "#Metrics to evaluate your model \n",
    "\n",
    "#r2_score(y_test, ypred), mean_absolute_error(y_test, ypred), np.sqrt(mean_squared_error(y_test, ypred))\n",
    "\n",
    "print (\"R²:\",r2_score(y_test, ypred))\n",
    "print (\"MAE:\",mean_absolute_error(y_test, ypred))\n",
    "print (\"RMSE:\", (np.sqrt(mean_squared_error(y_test, ypred))))\n"
   ]
  },
  {
   "cell_type": "markdown",
   "id": "9978ffbe",
   "metadata": {},
   "source": [
    "Train the model using Polynomial Linear Regression"
   ]
  },
  {
   "cell_type": "code",
   "execution_count": 46,
   "id": "2cd64902",
   "metadata": {},
   "outputs": [
    {
     "name": "stdout",
     "output_type": "stream",
     "text": [
      "R²: 0.9673743224130704\n",
      "MAE: 4990.3874841789275\n",
      "RMSE: 6802.14698811514\n"
     ]
    }
   ],
   "source": [
    "from sklearn.preprocessing import PolynomialFeatures\n",
    "\n",
    "pr = PolynomialFeatures(degree = 4)\n",
    "X_poly = pr.fit_transform(X)\n",
    "lr_2 = LinearRegression()\n",
    "\n",
    "#Fit X and y\n",
    "\n",
    "lr_2.fit(X_poly, y)\n",
    "y_pred_poly = lr_2.predict(X_poly)\n",
    "\n",
    "#Metrics to evaluate your model \n",
    "\n",
    "#r2_score(y, y_pred_poly), mean_absolute_error(y, y_pred_poly), np.sqrt(mean_squared_error(y, y_pred_poly))\n",
    "\n",
    "print (\"R²:\",r2_score(y, y_pred_poly))\n",
    "print (\"MAE:\",mean_absolute_error(y, y_pred_poly))\n",
    "print (\"RMSE:\", (np.sqrt(mean_squared_error(y, y_pred_poly))))"
   ]
  },
  {
   "cell_type": "code",
   "execution_count": 47,
   "id": "d039c073",
   "metadata": {},
   "outputs": [
    {
     "name": "stdout",
     "output_type": "stream",
     "text": [
      "Linear Regression result 1:[[93653.08025499]]\n",
      "Linear Regression result 2:[[131390.47794859]]\n",
      "Linear Regression result 3:[[280514.9480333]]\n"
     ]
    }
   ],
   "source": [
    "# Predict the results with linear regression\n",
    "print(f'Linear Regression result 1:{lr.predict([[1,1.1]])}')\n",
    "print(f'Linear Regression result 2:{lr.predict([[2,2.5]])}')\n",
    "print(f'Linear Regression result 3:{lr.predict([[6,6.9]])}')\n",
    "\n"
   ]
  },
  {
   "cell_type": "code",
   "execution_count": 48,
   "id": "b881a1c2",
   "metadata": {},
   "outputs": [
    {
     "name": "stdout",
     "output_type": "stream",
     "text": [
      "Polynomial Regression result 1:[[10898.73866663]]\n",
      "Polynomial Regression result 2:[[28294.40035238]]\n",
      "Polynomial Regression result 3:[[112036.93810706]]\n"
     ]
    }
   ],
   "source": [
    "# Predict a new result with polynomial regression\n",
    "print(f'Polynomial Regression result 1:{lr_2.predict(pr.fit_transform([[1,1.1]]))}')\n",
    "print(f'Polynomial Regression result 2:{lr_2.predict(pr.fit_transform([[2,2.5]]))}')\n",
    "print(f'Polynomial Regression result 3:{lr_2.predict(pr.fit_transform([[6,6.9]]))}')"
   ]
  }
 ],
 "metadata": {
  "kernelspec": {
   "display_name": "Python 3 (ipykernel)",
   "language": "python",
   "name": "python3"
  },
  "language_info": {
   "codemirror_mode": {
    "name": "ipython",
    "version": 3
   },
   "file_extension": ".py",
   "mimetype": "text/x-python",
   "name": "python",
   "nbconvert_exporter": "python",
   "pygments_lexer": "ipython3",
   "version": "3.11.5"
  }
 },
 "nbformat": 4,
 "nbformat_minor": 5
}
