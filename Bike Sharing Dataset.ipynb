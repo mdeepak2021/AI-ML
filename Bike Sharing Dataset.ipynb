{
 "cells": [
  {
   "cell_type": "markdown",
   "id": "ddce4984",
   "metadata": {},
   "source": [
    "<font color='green'> <h1> <center> Data Exploration </center> </h1> </font>"
   ]
  },
  {
   "cell_type": "markdown",
   "id": "9e96ef2a",
   "metadata": {},
   "source": [
    "### Bike Sharing Dataset"
   ]
  },
  {
   "cell_type": "markdown",
   "id": "60fc306d",
   "metadata": {},
   "source": [
    "Dataset and more information can be found at following URL -\n",
    "https://archive.ics.uci.edu/ml/datasets/Bike+Sharing+Dataset \n",
    "\n",
    "Please take some moments to go through the description of the dataset and its features which will be helpful for doing further data analysis."
   ]
  },
  {
   "cell_type": "markdown",
   "id": "2bb497be",
   "metadata": {},
   "source": [
    "The Basic Requirements are\n",
    "- Reading Data From CSV\n",
    "- Formatting, cleaning and filtering Data Frames\n",
    "- Group-by and Concat / Merge\n",
    "- Writing Data to CSV"
   ]
  },
  {
   "cell_type": "code",
   "execution_count": 6,
   "id": "4c257a99",
   "metadata": {},
   "outputs": [],
   "source": [
    "# Importing the Python libraries\n",
    "\n",
    "import pandas as pd\n",
    "import numpy as np"
   ]
  },
  {
   "cell_type": "markdown",
   "id": "df0bf22b",
   "metadata": {},
   "source": [
    "#### Step1 - Reading Data From CSV"
   ]
  },
  {
   "cell_type": "markdown",
   "id": "76fe4912",
   "metadata": {},
   "source": [
    "As the data is stored in csv format, use read_csv function of pandas to read the data in pandas structure named DataFrame."
   ]
  },
  {
   "cell_type": "code",
   "execution_count": null,
   "id": "f23e069c",
   "metadata": {},
   "outputs": [],
   "source": [
    "bikes = pd.read_csv(\"bike_shairing_hourly.csv\")"
   ]
  }
 ],
 "metadata": {
  "kernelspec": {
   "display_name": "Python 3 (ipykernel)",
   "language": "python",
   "name": "python3"
  },
  "language_info": {
   "codemirror_mode": {
    "name": "ipython",
    "version": 3
   },
   "file_extension": ".py",
   "mimetype": "text/x-python",
   "name": "python",
   "nbconvert_exporter": "python",
   "pygments_lexer": "ipython3",
   "version": "3.11.3"
  }
 },
 "nbformat": 4,
 "nbformat_minor": 5
}
